{
 "cells": [
  {
   "cell_type": "markdown",
   "id": "66270fd5",
   "metadata": {},
   "source": [
    "# DBSCAN and OPTICS with R"
   ]
  },
  {
   "cell_type": "markdown",
   "id": "d54f4a0c",
   "metadata": {
    "tags": [
     "remove-cell"
    ]
   },
   "source": [
    "**CS5483 Data Warehousing and Data Mining**\n",
    "\n",
    "___"
   ]
  },
  {
   "cell_type": "markdown",
   "id": "0c0463b1",
   "metadata": {},
   "source": [
    "This jupyter notebook demonstrates how to cluster the iris2D dataset using density-based methods. It uses the language *R* and can be run live using an [R kernel](https://github.com/IRkernel/IRkernel)."
   ]
  },
  {
   "cell_type": "markdown",
   "id": "fb8d45cb",
   "metadata": {
    "tags": []
   },
   "source": [
    "## Setup"
   ]
  },
  {
   "cell_type": "markdown",
   "id": "c4b8ef65",
   "metadata": {},
   "source": [
    "The following load and create the `iris2D` data set:"
   ]
  },
  {
   "cell_type": "code",
   "execution_count": null,
   "id": "5c46dace",
   "metadata": {},
   "outputs": [],
   "source": [
    "data(\"iris\") # load the iris data set\n",
    "x <- as.matrix(iris[,1:2]) # load the input attributes: sepal width and length\n",
    "plot(x)"
   ]
  },
  {
   "cell_type": "markdown",
   "id": "0599e040",
   "metadata": {},
   "source": [
    "DBSCAN and OPTICS are implemented in the following package:"
   ]
  },
  {
   "cell_type": "code",
   "execution_count": null,
   "id": "9a7ccc0f",
   "metadata": {
    "tags": [
     "output_scroll"
    ]
   },
   "outputs": [],
   "source": [
    "library(dbscan) # for DBSCAN and OPTICS\n",
    "help(package=\"dbscan\") # More information about the package"
   ]
  },
  {
   "cell_type": "markdown",
   "id": "455dd059",
   "metadata": {},
   "source": [
    "## DBSCAN"
   ]
  },
  {
   "cell_type": "markdown",
   "id": "cc04cf75",
   "metadata": {},
   "source": [
    "DBSCAN is implement by the function `dbscan`:"
   ]
  },
  {
   "cell_type": "code",
   "execution_count": null,
   "id": "1d4b91fc",
   "metadata": {
    "tags": [
     "output_scroll"
    ]
   },
   "outputs": [],
   "source": [
    "?dbscan"
   ]
  },
  {
   "cell_type": "markdown",
   "id": "39ecd73a",
   "metadata": {},
   "source": [
    "To apply DBSCAN to the iris data set with $\\varepsilon=0.3$ and $\\text{minPts} = 4$:"
   ]
  },
  {
   "cell_type": "code",
   "execution_count": null,
   "id": "115e18c8",
   "metadata": {},
   "outputs": [],
   "source": [
    "db <- dbscan(x, eps = .3, minPts = 4)\n",
    "db"
   ]
  },
  {
   "cell_type": "markdown",
   "id": "d42439be",
   "metadata": {},
   "source": [
    "To visualize the clustering solution, we can plot the points in different clusters with different colors:"
   ]
  },
  {
   "cell_type": "code",
   "execution_count": null,
   "id": "b9a26c6c",
   "metadata": {},
   "outputs": [],
   "source": [
    "pairs(x, col = db$cluster + 1L)"
   ]
  },
  {
   "cell_type": "markdown",
   "id": "7e9e1732",
   "metadata": {},
   "source": [
    "**Exercise** What are the points colored in black?"
   ]
  },
  {
   "cell_type": "markdown",
   "id": "c6793249",
   "metadata": {
    "deletable": false,
    "nbgrader": {
     "cell_type": "markdown",
     "checksum": "2fdeed43c7fc68c1d92a530d0844dbac",
     "grade": true,
     "grade_id": "black",
     "locked": false,
     "points": 1,
     "schema_version": 3,
     "solution": true,
     "task": false
    }
   },
   "source": [
    "YOUR ANSWER HERE"
   ]
  },
  {
   "cell_type": "markdown",
   "id": "55867f7c",
   "metadata": {},
   "source": [
    "For each data point, we can calculate the [local outlier factor (LOF)](https://en.wikipedia.org/wiki/Local_outlier_factor), which quantifies how much a point is locally an outlier using the reachability distance:"
   ]
  },
  {
   "cell_type": "code",
   "execution_count": null,
   "id": "af061c7e",
   "metadata": {},
   "outputs": [],
   "source": [
    "lof <- lof(x, minPts=5)\n",
    "pairs(x, cex = lof) # ploting the points scaled relative to the LOF score."
   ]
  },
  {
   "cell_type": "markdown",
   "id": "7704fec1",
   "metadata": {},
   "source": [
    "## OPTICS"
   ]
  },
  {
   "cell_type": "markdown",
   "id": "9bc7c903",
   "metadata": {},
   "source": [
    "OPTICS is implemented by the function `optics`:"
   ]
  },
  {
   "cell_type": "code",
   "execution_count": null,
   "id": "aa70bbf2",
   "metadata": {
    "tags": [
     "output_scroll"
    ]
   },
   "outputs": [],
   "source": [
    "?optics"
   ]
  },
  {
   "cell_type": "markdown",
   "id": "446e3481",
   "metadata": {},
   "source": [
    "To apply OPTICS with $\\varepsilon=1$ and $\\text{minPts} = 4$:"
   ]
  },
  {
   "cell_type": "code",
   "execution_count": null,
   "id": "20923561",
   "metadata": {},
   "outputs": [],
   "source": [
    "opt <- optics(x, eps=1, minPts = 4)\n",
    "plot(opt)\n",
    "opt"
   ]
  },
  {
   "cell_type": "markdown",
   "id": "a589698c",
   "metadata": {},
   "source": [
    "We can identify the clusters with a threshold, say 0.3, on the reachability distance:"
   ]
  },
  {
   "cell_type": "code",
   "execution_count": null,
   "id": "c3e3bfb5",
   "metadata": {},
   "outputs": [],
   "source": [
    "opt <- extractDBSCAN(opt, eps_cl = .3)\n",
    "plot(opt)"
   ]
  },
  {
   "cell_type": "markdown",
   "id": "3779a4fd",
   "metadata": {
    "deletable": false,
    "editable": false,
    "nbgrader": {
     "cell_type": "markdown",
     "checksum": "6ef9f20affed6b9255408324f9d94a5c",
     "grade": false,
     "grade_id": "task-extractXi",
     "locked": true,
     "points": 1,
     "schema_version": 3,
     "solution": false,
     "task": true
    }
   },
   "source": [
    "**Exercise** Use the minimum steepness to identify the cluster boundaries. You can call `extractXi` with your choice of parameters."
   ]
  },
  {
   "cell_type": "code",
   "execution_count": null,
   "id": "472793e1",
   "metadata": {
    "deletable": false,
    "nbgrader": {
     "cell_type": "code",
     "checksum": "fac184205bee126584ac953e302ea722",
     "grade": false,
     "grade_id": "extractXi",
     "locked": false,
     "schema_version": 3,
     "solution": true,
     "task": false
    },
    "tags": [
     "remove-output"
    ]
   },
   "outputs": [],
   "source": [
    "# your R code here\n",
    "# end of R code\n",
    "\n",
    "plot(opt)\n",
    "hullplot(x,opt)\n",
    "opt"
   ]
  }
 ],
 "metadata": {
  "kernelspec": {
   "display_name": "R",
   "language": "R",
   "name": "ir"
  },
  "language_info": {
   "codemirror_mode": "r",
   "file_extension": ".r",
   "mimetype": "text/x-r-source",
   "name": "R",
   "pygments_lexer": "r",
   "version": "3.6.3"
  },
  "widgets": {
   "application/vnd.jupyter.widget-state+json": {
    "state": {},
    "version_major": 2,
    "version_minor": 0
   }
  }
 },
 "nbformat": 4,
 "nbformat_minor": 5
}
