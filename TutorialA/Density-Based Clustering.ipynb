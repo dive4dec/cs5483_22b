{
 "cells": [
  {
   "cell_type": "markdown",
   "id": "fe2d3706",
   "metadata": {},
   "source": [
    "# Density-Based Clustering"
   ]
  },
  {
   "cell_type": "markdown",
   "id": "7778c39a",
   "metadata": {
    "tags": [
     "remove-cell"
    ]
   },
   "source": [
    "**CS5483 Data Warehousing and Data Mining**\n",
    "\n",
    "___"
   ]
  },
  {
   "cell_type": "code",
   "execution_count": null,
   "id": "f6c95409",
   "metadata": {
    "init_cell": true,
    "slideshow": {
     "slide_type": "-"
    }
   },
   "outputs": [],
   "source": [
    "import ipywidgets as widgets\n",
    "import matplotlib.pyplot as plt\n",
    "import numpy as np\n",
    "import pandas as pd\n",
    "import seaborn as sns\n",
    "from ipywidgets import interact\n",
    "from sklearn import datasets, preprocessing\n",
    "from sklearn.cluster import DBSCAN\n",
    "from sklearn.pipeline import make_pipeline\n",
    "\n",
    "%matplotlib inline"
   ]
  },
  {
   "cell_type": "markdown",
   "id": "48587620",
   "metadata": {},
   "source": [
    "## DBSCAN with scikit-learn"
   ]
  },
  {
   "cell_type": "markdown",
   "id": "935d93cc",
   "metadata": {},
   "source": [
    "[DBSCAN (Density-based spatial clustering of applications with noise)](https://en.wikipedia.org/wiki/DBSCAN) is a clustering algorithm that identifies clusters as regions of densely populated instances."
   ]
  },
  {
   "cell_type": "markdown",
   "id": "09589178",
   "metadata": {},
   "source": [
    "````{admonition} Definition \n",
    "\n",
    "Given the parameters $\\varepsilon$ and $\\operatorname{MinPts}$, a point $\\M{p}\\in D$ in the dataset is called a *core point* if it satisfies\n",
    "\n",
    "$$\n",
    "\\begin{align}\n",
    "|D\\cap N_{\\varepsilon}(\\M{p})|&\\geq \\operatorname{MinPts} \\quad \\text{where}\\\\\n",
    "N_{\\varepsilon}(\\M{p})&:= \\Set{\\M{q}\\in D| \\operatorname{dist}(\\M{p},\\M{q})\\leq \\varepsilon}.\n",
    "\\end{align}\n",
    "$$ (core-points)\n",
    "\n",
    "The core points form the *pillars* of the clusters to generate. More precisely, clusters are grown from core points to points in their neighborhood $N_{\\varepsilon}(\\M{p})$, referred to as *density-reachable* points:\n",
    "\n",
    "- A point is regarded as noise if it has no cluster assignment, i.e., not *density-reachable* from a core point.\n",
    "- A non-core point reachable from a core point is called a *border point*.\n",
    "\n",
    "````"
   ]
  },
  {
   "cell_type": "markdown",
   "id": "763ab406",
   "metadata": {},
   "source": [
    "We will create synthetic datasets using the [sample generators](https://scikit-learn.org/stable/modules/classes.html#samples-generator) of `sklearn`. In particular, we first create spherical clusters using [`sklearn.datasets.make_blobs`](https://scikit-learn.org/stable/modules/generated/sklearn.datasets.make_blobs.html#sklearn.datasets.make_blobs):"
   ]
  },
  {
   "cell_type": "code",
   "execution_count": null,
   "id": "321f7e33",
   "metadata": {},
   "outputs": [],
   "source": [
    "def XY2df(X, Y):\n",
    "    \"\"\"Return a DataFrame for 2D data with 2 input features X and a target Y.\"\"\"\n",
    "    df = pd.DataFrame(columns=[\"feature1\", \"feature2\", \"target\"])\n",
    "    df[\"target\"] = Y\n",
    "    df[[\"feature1\", \"feature2\"]] = X\n",
    "    return df\n",
    "\n",
    "\n",
    "@interact\n",
    "def generate_blobs(\n",
    "    n_samples=widgets.IntSlider(value=200, min=10, max=1000, continuous_update=False),\n",
    "    centers=widgets.IntSlider(value=3, min=1, max=4, continuous_update=False),\n",
    "    cluster_std=widgets.FloatSlider(\n",
    "        value=0.5, min=0, max=5, step=0.1, continuous_update=False\n",
    "    ),\n",
    "):\n",
    "    df = XY2df(\n",
    "        *datasets.make_blobs(\n",
    "            n_samples=n_samples,\n",
    "            centers=centers,\n",
    "            cluster_std=cluster_std,\n",
    "            random_state=0,\n",
    "        )\n",
    "    )\n",
    "    fig, ax = plt.subplots()\n",
    "    ax.set_aspect(\"equal\")\n",
    "    sns.scatterplot(data=df, x=\"feature1\", y=\"feature2\", hue=\"target\", ax=ax)"
   ]
  },
  {
   "cell_type": "markdown",
   "id": "8037e000",
   "metadata": {},
   "source": [
    "We will use the dataset `df_spherical` created with the default parameters specified above:"
   ]
  },
  {
   "cell_type": "code",
   "execution_count": null,
   "id": "d693114f",
   "metadata": {
    "init_cell": true
   },
   "outputs": [],
   "source": [
    "df_spherical = XY2df(\n",
    "    *datasets.make_blobs(n_samples=200, centers=3, cluster_std=0.5, random_state=0)\n",
    ")"
   ]
  },
  {
   "cell_type": "markdown",
   "id": "0c9efaf9",
   "metadata": {},
   "source": [
    "To create non-spherical clusters, one way is to use [`sklearn.datasets.make_circle`](https://scikit-learn.org/stable/modules/generated/sklearn.datasets.make_circles.html)."
   ]
  },
  {
   "cell_type": "code",
   "execution_count": null,
   "id": "98f4938f",
   "metadata": {
    "init_cell": true
   },
   "outputs": [],
   "source": [
    "df_nonspherical = XY2df(\n",
    "    *datasets.make_circles(n_samples=200, factor=0.1, noise=0.1, random_state=0)\n",
    ")"
   ]
  },
  {
   "cell_type": "markdown",
   "id": "6eae20f9",
   "metadata": {
    "deletable": false,
    "editable": false,
    "nbgrader": {
     "cell_type": "markdown",
     "checksum": "83a513d9f986fb812f26630829d315c3",
     "grade": false,
     "grade_id": "task-circles",
     "locked": true,
     "points": 1,
     "schema_version": 3,
     "solution": false,
     "task": true
    }
   },
   "source": [
    "**Exercise** Complete the following code by assigning `X` and `Y` to the respective arrays of input features and target generated using [`sklearn.datasets.make_circle`](https://scikit-learn.org/stable/modules/generated/sklearn.datasets.make_circles.html). Set `random_state=0` and use the parameters `n_samples`, `factor`, and `noise` specified by the widgets."
   ]
  },
  {
   "cell_type": "code",
   "execution_count": null,
   "id": "1912025d",
   "metadata": {
    "deletable": false,
    "nbgrader": {
     "cell_type": "code",
     "checksum": "bb0607d1fd9db20e894c042a14a2b8cc",
     "grade": false,
     "grade_id": "circles",
     "locked": false,
     "schema_version": 3,
     "solution": true,
     "task": false
    },
    "tags": [
     "remove-output"
    ]
   },
   "outputs": [],
   "source": [
    "@interact\n",
    "def generate_circles(\n",
    "    n_samples=widgets.IntSlider(value=200, min=10, max=1000, continuous_update=False),\n",
    "    factor=widgets.FloatSlider(\n",
    "        value=0.1, min=0, max=0.99, step=0.01, continuous_update=False\n",
    "    ),\n",
    "    noise=widgets.FloatSlider(\n",
    "        value=0.1, min=0, max=1, step=0.1, continuous_update=False\n",
    "    ),\n",
    "):\n",
    "    df = pd.DataFrame(columns=[\"feature1\", \"feature2\", \"target\"])\n",
    "    # your python code here\n",
    "    # end of python code\n",
    "    \n",
    "    df[\"target\"] = Y\n",
    "    df[[\"feature1\", \"feature2\"]] = X\n",
    "    fig, ax = plt.subplots()\n",
    "    ax.set_aspect(\"equal\")\n",
    "    sns.scatterplot(data=df, x=\"feature1\", y=\"feature2\", hue=\"target\", ax=ax)"
   ]
  },
  {
   "cell_type": "markdown",
   "id": "137a4464",
   "metadata": {},
   "source": [
    "To normalize the features followed by [DBSCAN](https://scikit-learn.org/stable/modules/generated/sklearn.cluster.DBSCAN.html), we create a pipeline as follows:\n",
    "\n",
    "```python\n",
    "from sklearn.cluster import DBSCAN\n",
    "```"
   ]
  },
  {
   "cell_type": "code",
   "execution_count": null,
   "id": "d9b07df6",
   "metadata": {
    "init_cell": true
   },
   "outputs": [],
   "source": [
    "dbscan_minmax_normalized = make_pipeline(\n",
    "    preprocessing.MinMaxScaler(), DBSCAN(eps=0.3, min_samples=3)\n",
    ")\n",
    "dbscan_minmax_normalized"
   ]
  },
  {
   "cell_type": "markdown",
   "id": "bd87ebac",
   "metadata": {},
   "source": [
    "To generate the clustering solution, we can again use the `fit_predict` method as follows:"
   ]
  },
  {
   "cell_type": "code",
   "execution_count": null,
   "id": "7a2e9162",
   "metadata": {
    "init_cell": true,
    "tags": []
   },
   "outputs": [],
   "source": [
    "feature1, feature2 = df_spherical.columns[0:2]\n",
    "\n",
    "cluster_labels = dbscan_minmax_normalized.fit_predict(\n",
    "    df_spherical[[feature1, feature2]]\n",
    ")\n",
    "\n",
    "plt.figure(figsize=(10, 5))\n",
    "_ = plt.subplot(121, title=\"Cluster assignment\", xlabel=feature1, ylabel=feature2)\n",
    "plt.scatter(df_spherical[feature1], df_spherical[feature2], c=cluster_labels)\n",
    "plt.subplot(122, title=\"Cluster assignment\", xlabel=feature1, sharey=_)\n",
    "plt.scatter(df_spherical[feature1], df_spherical[feature2], c=df_spherical[\"target\"])\n",
    "plt.show()"
   ]
  },
  {
   "cell_type": "markdown",
   "id": "7fa3aa74",
   "metadata": {},
   "source": [
    "**Exercise** The clustering solution above is incorrect because the points at the top (`feature2 > 2`) have the same cluster label but may belong to two different classes. Explain how we should change the parameters, `eps = 0.3` and `min_samples = 3`, to improve the solution. \n",
    "\n",
    "```{caution}\n",
    "The pairwise distance of points in different clusters appears larger than 1.\n",
    "```"
   ]
  },
  {
   "cell_type": "markdown",
   "id": "031c1546",
   "metadata": {
    "deletable": false,
    "nbgrader": {
     "cell_type": "markdown",
     "checksum": "4434d695b180f6f2cfa7e8b3f050c102",
     "grade": true,
     "grade_id": "eps-increase",
     "locked": false,
     "points": 1,
     "schema_version": 3,
     "solution": true,
     "task": false
    }
   },
   "source": [
    "YOUR ANSWER HERE"
   ]
  },
  {
   "cell_type": "markdown",
   "id": "2d285340",
   "metadata": {
    "deletable": false,
    "editable": false,
    "nbgrader": {
     "cell_type": "markdown",
     "checksum": "a461021737951ea75d05b28a1e31d986",
     "grade": false,
     "grade_id": "dbscan-task",
     "locked": true,
     "points": 1,
     "schema_version": 3,
     "solution": false,
     "task": true
    }
   },
   "source": [
    "**Exercise** Complete the following code to apply DBSCAN to the different datasets with different choices of parameters."
   ]
  },
  {
   "cell_type": "code",
   "execution_count": null,
   "id": "c5f2770f",
   "metadata": {
    "deletable": false,
    "nbgrader": {
     "cell_type": "code",
     "checksum": "7b1c921e80dcfe494321fdf7d2a7d45f",
     "grade": false,
     "grade_id": "dbscan",
     "locked": false,
     "schema_version": 3,
     "solution": true,
     "task": false
    },
    "tags": [
     "remove-output"
    ]
   },
   "outputs": [],
   "source": [
    "@interact(\n",
    "    cluster_shape=[\"spherical\", \"non-spherical\"],\n",
    "    eps=widgets.FloatSlider(\n",
    "        value=0.3, min=0.01, max=1, step=0.01, continuous_update=False\n",
    "    ),\n",
    "    min_samples=widgets.IntSlider(value=3, min=1, max=10, continuous_update=False),\n",
    ")\n",
    "def cluster_regions_dbscan(cluster_shape, eps, min_samples):\n",
    "    df = {\"spherical\": df_spherical, \"non-spherical\": df_nonspherical}[cluster_shape]\n",
    "    feature1, feature2 = df.columns[0:2]\n",
    "    # your python code here\n",
    "    # end of python code\n",
    "    \n",
    "    plt.figure(figsize=(10, 5))\n",
    "    _ = plt.subplot(121, title=\"Cluster assignment\", xlabel=feature1, ylabel=feature2)\n",
    "    plt.scatter(df[feature1], df[feature2], c=cluster_labels)\n",
    "    plt.subplot(122, title=\"Cluster assignment\", xlabel=feature1, sharey=_)\n",
    "    plt.scatter(df[feature1], df[feature2], c=df[\"target\"])\n",
    "    plt.show()"
   ]
  },
  {
   "cell_type": "markdown",
   "id": "b97344dc",
   "metadata": {},
   "source": [
    "**Exercise** Is it possible to tune `eps` to cluster the generated datasets correctly with `min_samples = 1`?\n",
    "\n",
    "```{note}\n",
    "DBSCAN reduces to the single-linkage algorithm when `min_sample` is 1.\n",
    "```"
   ]
  },
  {
   "cell_type": "markdown",
   "id": "b834b0b1",
   "metadata": {
    "deletable": false,
    "nbgrader": {
     "cell_type": "markdown",
     "checksum": "578a3a682ae30a398237ee94950e1184",
     "grade": true,
     "grade_id": "dbscan-minpts",
     "locked": false,
     "points": 1,
     "schema_version": 3,
     "solution": true,
     "task": false
    }
   },
   "source": [
    "YOUR ANSWER HERE"
   ]
  },
  {
   "cell_type": "markdown",
   "id": "74413dcc",
   "metadata": {},
   "source": [
    "## OPTICS with Weka"
   ]
  },
  {
   "cell_type": "markdown",
   "id": "b9b99ad5",
   "metadata": {},
   "source": [
    "For DBSCAN, the parameters $\\varepsilon$ and $\\operatorname{MinPts}$ must be chosen properly. One needs to know how dense is dense enough to grow clusters, but this can be difficult, especially for high-dimensional data. A simpler alternative is to use OPTICS:"
   ]
  },
  {
   "cell_type": "markdown",
   "id": "7b6beeaf",
   "metadata": {},
   "source": [
    "````{admonition} Definition \n",
    "\n",
    "[OPTICS (Ordering points to identify the clustering structure)](https://en.wikipedia.org/wiki/OPTICS_algorithm) starts at an arbitrary point and visits other points based on a priority queue that prioritizes a point $\\M{q}$ with smaller\n",
    "\n",
    "$$\n",
    "\\begin{align}\n",
    "\\operatorname{reachability-distance}(\\M{q}) &:= \\max \\Set{\\operatorname{dist}(\\M{p}, \\M{q}), \\operatorname{core-distance}(\\M{p})} \\quad \\text{where}\\\\\n",
    "\\operatorname{core-distance}(\\M{p}) &:= \\min\\Set{0\\leq \\varepsilon' \\leq \\varepsilon| |D\\cap N_{\\varepsilon'}(\\M{p})|\\geq \\operatorname{MinPts}} \n",
    "\\end{align}\n",
    "$$ (optics)\n",
    "\n",
    "and $\\M{p}$ is a core point that is visited before $\\M{q}$ and that yields the smallest reachability distance, but with the following exceptions: \n",
    "\n",
    "- If a point $\\M{p}$ is not a core point, its core distance is undefined.\n",
    "- If no such point $\\M{p}$ exists for $\\M{q}$, the reachability distance of $\\M{q}$ is undefined. \n",
    "\n",
    "````"
   ]
  },
  {
   "cell_type": "markdown",
   "id": "b56744fc",
   "metadata": {},
   "source": [
    "We will use the package `optics_dbScan` in Weka for the density-based clustering algorithms. The package can be installed from Weka GUI -> `tools` -> `Package manager`."
   ]
  },
  {
   "cell_type": "markdown",
   "id": "7b8ca0e1",
   "metadata": {},
   "source": [
    "Open the explorer interface and load the `iris.arff` dataset (not `iris.2D.arff`). Under the `Cluster` panel:\n",
    "    \n",
    "1. Choose `OPTICS` as the `Clusterer`.\n",
    "1. Choose `Use training set` as the `Cluster mode`.\n",
    "1. Ignore the `class` attribute using the `Ignore attributes` button.\n",
    "1. Click `Start`.\n",
    "\n",
    "The OPTICS Visualizer will appear. The `Table` tab shows the list of data points in the order visited by the algorithm:"
   ]
  },
  {
   "cell_type": "markdown",
   "id": "6fb87375",
   "metadata": {},
   "source": [
    "![OPTICS](images/optics.png)"
   ]
  },
  {
   "cell_type": "markdown",
   "id": "469aacfe",
   "metadata": {},
   "source": [
    "**Exercise** The reachability distance is always undefined for the first point visited. Why?"
   ]
  },
  {
   "cell_type": "markdown",
   "id": "527c256f",
   "metadata": {
    "deletable": false,
    "nbgrader": {
     "cell_type": "markdown",
     "checksum": "1b222dea249e5a13be2f4d5ae73a0b90",
     "grade": true,
     "grade_id": "rdist-undefined",
     "locked": false,
     "points": 1,
     "schema_version": 3,
     "solution": true,
     "task": false
    }
   },
   "source": [
    "YOUR ANSWER HERE"
   ]
  },
  {
   "cell_type": "markdown",
   "id": "eacfbcb4",
   "metadata": {},
   "source": [
    "The `Graph` tab shows the stem plots of core and reachability distances. We need to increase the `Vertical adjustment` in the `General Settings` panel to see the variations more clearly:"
   ]
  },
  {
   "cell_type": "markdown",
   "id": "747599ce",
   "metadata": {},
   "source": [
    "![](images/reachability1.png)"
   ]
  },
  {
   "cell_type": "markdown",
   "id": "a6a7f752",
   "metadata": {},
   "source": [
    "**Exercise** Note that, by definition, $\\operatorname{reachability-distance}(\\M{q}) \\geq \\operatorname{core-distance(\\M{p})}$. Does this condition hold for the last two visited points $\\M{p}$ and $\\M{q}$? Why or Why not?"
   ]
  },
  {
   "cell_type": "markdown",
   "id": "64e1003d",
   "metadata": {
    "deletable": false,
    "nbgrader": {
     "cell_type": "markdown",
     "checksum": "ec58a8f52c9033d68ff3b72586c29fa0",
     "grade": true,
     "grade_id": "bug",
     "locked": false,
     "points": 1,
     "schema_version": 3,
     "solution": true,
     "task": false
    }
   },
   "source": [
    "YOUR ANSWER HERE"
   ]
  },
  {
   "cell_type": "markdown",
   "id": "3071e951",
   "metadata": {},
   "source": [
    "Change the `General Settings` to give the reachability plot below:"
   ]
  },
  {
   "cell_type": "markdown",
   "id": "64956bf3",
   "metadata": {},
   "source": [
    "![](images/reachability2.png)"
   ]
  },
  {
   "cell_type": "markdown",
   "id": "af424fdc",
   "metadata": {},
   "source": [
    "The above stem plot is called the reachability plot. To obtain a cluster from the plot, \n",
    "\n",
    "1. specify a threshold to clip the reachability distance from above, and\n",
    "1. identify a cluster as a \"valley\" of consecutively visited points with reachability distances below the threshold, except for  \n",
    "1. the first point should have a reachability distance above the threshold.\n",
    "1. All other points not assigned to a cluster are regarded as noise."
   ]
  },
  {
   "cell_type": "markdown",
   "id": "ab0aa96a",
   "metadata": {},
   "source": [
    "**Exercise** Assign to `eps_cl` a threshold value that can results in $2$ clusters and no noise points.\n",
    "\n",
    "```{hint}\n",
    "You can see the reachability distance of a stem in the reachability plot by hovering the mouse over the stem.\n",
    "```"
   ]
  },
  {
   "cell_type": "code",
   "execution_count": null,
   "id": "b43933a9",
   "metadata": {
    "deletable": false,
    "nbgrader": {
     "cell_type": "code",
     "checksum": "14b0abaa486eade8e5199bf5b0af6c64",
     "grade": false,
     "grade_id": "2-eps_cl",
     "locked": false,
     "schema_version": 3,
     "solution": true,
     "task": false
    },
    "tags": [
     "remove-output"
    ]
   },
   "outputs": [],
   "source": [
    "# your python code here\n",
    "# end of python code\n",
    "\n",
    "eps_cl"
   ]
  },
  {
   "cell_type": "code",
   "execution_count": null,
   "id": "aa2f6407",
   "metadata": {
    "deletable": false,
    "editable": false,
    "nbgrader": {
     "cell_type": "code",
     "checksum": "8f1a3165e4a3ce58a99d71f882d07d65",
     "grade": true,
     "grade_id": "test-2-eps_cl",
     "locked": true,
     "points": 1,
     "schema_version": 3,
     "solution": false,
     "task": false
    },
    "tags": [
     "remove-cell"
    ]
   },
   "outputs": [],
   "source": [
    "# hidden tests"
   ]
  },
  {
   "cell_type": "markdown",
   "id": "92691691",
   "metadata": {},
   "source": [
    "**Exercise** Assign to `eps_cl` a threshold value that results in $3$ clusters. In particular, choose the threshold value that leads to as few noise points as possible."
   ]
  },
  {
   "cell_type": "code",
   "execution_count": null,
   "id": "78282699",
   "metadata": {
    "deletable": false,
    "nbgrader": {
     "cell_type": "code",
     "checksum": "db18236ca5f468d37fb6e75f8ce714ae",
     "grade": false,
     "grade_id": "3-eps-cl",
     "locked": false,
     "schema_version": 3,
     "solution": true,
     "task": false
    },
    "tags": [
     "remove-output"
    ]
   },
   "outputs": [],
   "source": [
    "# your python code here\n",
    "# end of python code\n",
    "\n",
    "eps_cl"
   ]
  },
  {
   "cell_type": "code",
   "execution_count": null,
   "id": "7e22639e",
   "metadata": {
    "deletable": false,
    "editable": false,
    "nbgrader": {
     "cell_type": "code",
     "checksum": "cb32a32b6a19e8d45c7ef52f060e397e",
     "grade": true,
     "grade_id": "test-3-eps-cl",
     "locked": true,
     "points": 1,
     "schema_version": 3,
     "solution": false,
     "task": false
    },
    "tags": [
     "remove-cell"
    ]
   },
   "outputs": [],
   "source": [
    "# hidden tests"
   ]
  },
  {
   "cell_type": "markdown",
   "id": "66f54059",
   "metadata": {},
   "source": [
    "**Exercise** To evaluate the 3 clusters obtained from a particular threshold using an extrinsic measure, run DBSCAN with \n",
    "- the parameter `epsilon` set to the threshold you obtained and\n",
    "- cluster mode set to `Classes to clusters evaluation`.\n",
    "\n",
    "Assign to `error_rate` the fraction of incorrectly classified instances and `miss_rate` as the fraction of instances not assigned to a cluster."
   ]
  },
  {
   "cell_type": "code",
   "execution_count": null,
   "id": "9c62bfd5",
   "metadata": {
    "deletable": false,
    "nbgrader": {
     "cell_type": "code",
     "checksum": "cd1cd9d4fdc1ada5e10342b1b8f28e96",
     "grade": false,
     "grade_id": "error-miss-rate",
     "locked": false,
     "schema_version": 3,
     "solution": true,
     "task": false
    },
    "tags": [
     "remove-output"
    ]
   },
   "outputs": [],
   "source": [
    "# your python code here\n",
    "# end of python code\n",
    "\n",
    "error_rate, miss_rate"
   ]
  },
  {
   "cell_type": "code",
   "execution_count": null,
   "id": "97d225a5",
   "metadata": {
    "deletable": false,
    "editable": false,
    "nbgrader": {
     "cell_type": "code",
     "checksum": "d83e9bf42bd216a6069ed1b4e485fa52",
     "grade": true,
     "grade_id": "test-error-miss-rate",
     "locked": true,
     "points": 1,
     "schema_version": 3,
     "solution": false,
     "task": false
    },
    "tags": [
     "remove-cell"
    ]
   },
   "outputs": [],
   "source": [
    "# hidden tests"
   ]
  },
  {
   "cell_type": "markdown",
   "id": "0af5ddd2",
   "metadata": {},
   "source": [
    "```{note}\n",
    "Noise points in DBSCAN may be clusters at different levels of density. The reachability plot of OPTICS can help identify the thresholds for clusters with different densities.\n",
    "```"
   ]
  }
 ],
 "metadata": {
  "kernelspec": {
   "display_name": "Python 3 (ipykernel)",
   "language": "python",
   "name": "python3"
  },
  "language_info": {
   "codemirror_mode": {
    "name": "ipython",
    "version": 3
   },
   "file_extension": ".py",
   "mimetype": "text/x-python",
   "name": "python",
   "nbconvert_exporter": "python",
   "pygments_lexer": "ipython3",
   "version": "3.10.8"
  },
  "widgets": {
   "application/vnd.jupyter.widget-state+json": {
    "state": {},
    "version_major": 2,
    "version_minor": 0
   }
  }
 },
 "nbformat": 4,
 "nbformat_minor": 5
}
