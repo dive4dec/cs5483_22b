{
 "cells": [
  {
   "cell_type": "markdown",
   "id": "400d6787",
   "metadata": {
    "slideshow": {
     "slide_type": "slide"
    }
   },
   "source": [
    "# Man vs Machine"
   ]
  },
  {
   "cell_type": "markdown",
   "id": "65f589fc",
   "metadata": {
    "slideshow": {
     "slide_type": "-"
    },
    "tags": [
     "remove-cell"
    ]
   },
   "source": [
    "**CS5483 Data Warehousing and Data Mining**\n",
    "___"
   ]
  },
  {
   "cell_type": "markdown",
   "id": "3274e3dc",
   "metadata": {},
   "source": [
    "<a title=\"Paramount Pictures, Public domain, via Wikimedia Commons\" href=\"https://commons.wikimedia.org/wiki/File:Terminator_(franchise_logo).png\"><img width=\"512\" alt=\"Terminator (franchise logo)\" src=\"https://upload.wikimedia.org/wikipedia/commons/thumb/2/28/Terminator_%28franchise_logo%29.png/512px-Terminator_%28franchise_logo%29.png\"></a>"
   ]
  },
  {
   "cell_type": "markdown",
   "id": "225cb0a1",
   "metadata": {
    "slideshow": {
     "slide_type": "fragment"
    }
   },
   "source": [
    "In this notebook, you will compete with your classmates and your machine by  \n",
    "1. handcrafting a decision tree using Weka `UserClassifier`, and\n",
    "2. using `python-weka-wrapper` to build the J48 (C4.5) decision tree as a comparison.\n",
    "\n",
    "Let's find out who is more intelligent!"
   ]
  },
  {
   "cell_type": "markdown",
   "id": "10761b5a",
   "metadata": {},
   "source": [
    "## Interactive Decision Tree Construction"
   ]
  },
  {
   "cell_type": "markdown",
   "id": "50851363",
   "metadata": {},
   "source": [
    "Follow the instruction above [\\[Witten11\\] Ex 17.2.12][Witten11] to \n",
    "\n",
    "1. install the package `UserClassifier`,\n",
    "2. hand-build a decision tree using [`segment-challenge.arff`][segment-challenge] as the training set, and \n",
    "3. test the performance using [`segment-test.arff`][segment-test] as the test set.\n",
    "\n",
    "[Witten11]: https://ebookcentral.proquest.com/lib/cityuhk/reader.action?docID=634862&ppg=604\n",
    "[segment-challenge]: https://raw.githubusercontent.com/Waikato/weka-3.8/master/wekadocs/data/segment-challenge.arff\n",
    "[segment-test]: https://raw.githubusercontent.com/Waikato/weka-3.8/master/wekadocs/data/segment-test.arff"
   ]
  },
  {
   "cell_type": "markdown",
   "id": "2e95d4fb",
   "metadata": {},
   "source": [
    "**Exercise** Why should you NOT use the training set `segment-challenge.arff` to test your decision tree?"
   ]
  },
  {
   "cell_type": "markdown",
   "id": "5ea206be",
   "metadata": {
    "deletable": false,
    "nbgrader": {
     "cell_type": "markdown",
     "checksum": "336aded134c9923168791d9525d47565",
     "grade": true,
     "grade_id": "bias",
     "locked": false,
     "points": 1,
     "schema_version": 3,
     "solution": true,
     "task": false
    }
   },
   "source": [
    "YOUR ANSWER HERE"
   ]
  },
  {
   "cell_type": "markdown",
   "id": "f8b23ce4",
   "metadata": {},
   "source": [
    "**Exercise** Why should you NOT use the class attribute to split the decision tree?"
   ]
  },
  {
   "cell_type": "markdown",
   "id": "c52541bb",
   "metadata": {
    "deletable": false,
    "nbgrader": {
     "cell_type": "markdown",
     "checksum": "be6c1a0ce2126e08e8681e77d48dced6",
     "grade": true,
     "grade_id": "class-not-available",
     "locked": false,
     "points": 1,
     "schema_version": 3,
     "solution": true,
     "task": false
    }
   },
   "source": [
    "YOUR ANSWER HERE"
   ]
  },
  {
   "cell_type": "markdown",
   "id": "0f140cc2",
   "metadata": {
    "slideshow": {
     "slide_type": "subslide"
    }
   },
   "source": [
    "**Exercise** Include the model and result summary sections from the result buffer of your best hand-built decision tree. Your answer should look like:\n",
    "\n",
    "```\n",
    "=== Classifier model (full training set) ===\n",
    "\n",
    "Split on ...\n",
    "\n",
    "=== Summary ===\n",
    "\n",
    "Correctly Classified Instances ...\n",
    "\n",
    "```\n",
    "\n",
    "Try your best to beat your classmates and the machine:\n",
    "- Build at least two decision trees and pick the best one. \n",
    "- Share your result on the [discussion page](https://canvas.cityu.edu.hk/courses/51777/discussion_topics/440014) and check if your classmates have a better decision tree."
   ]
  },
  {
   "cell_type": "markdown",
   "id": "a06288fe",
   "metadata": {
    "deletable": false,
    "nbgrader": {
     "cell_type": "markdown",
     "checksum": "4c3477bddd8cf7b71847f41a8ffcf553",
     "grade": true,
     "grade_id": "UserClassifier",
     "locked": false,
     "points": 1,
     "schema_version": 3,
     "solution": true,
     "task": false
    },
    "slideshow": {
     "slide_type": "-"
    }
   },
   "source": [
    "YOUR ANSWER HERE"
   ]
  },
  {
   "cell_type": "markdown",
   "id": "9dccf79b",
   "metadata": {},
   "source": [
    "**Exercise** For the best decision tree you hand-built, is the empirical accuracy on the test set an unbiased estimate of your performance? Explain the direction of the bias, if any."
   ]
  },
  {
   "cell_type": "markdown",
   "id": "dae0bf70",
   "metadata": {
    "deletable": false,
    "nbgrader": {
     "cell_type": "markdown",
     "checksum": "2645cc3c8f7188f080448bc15dd54610",
     "grade": true,
     "grade_id": "bias-model-selection",
     "locked": false,
     "points": 1,
     "schema_version": 3,
     "solution": true,
     "task": false
    }
   },
   "source": [
    "YOUR ANSWER HERE"
   ]
  },
  {
   "cell_type": "markdown",
   "id": "17055775",
   "metadata": {},
   "source": [
    "## Python Weka Wrapper"
   ]
  },
  {
   "cell_type": "markdown",
   "id": "e2767024",
   "metadata": {},
   "source": [
    "To see if your hand-built classifier can beat the machine, use J48 (C4.5) to build a decision tree. Instead of using the Weka Explorer Interface, you will run Weka directly from the notebook using [`python-weka-wrapper`][pww].\n",
    "\n",
    "[pww]: http://fracpete.github.io/python-weka-wrapper3/"
   ]
  },
  {
   "cell_type": "markdown",
   "id": "b9358ace",
   "metadata": {},
   "source": [
    "Because Weka is written in Java, we need to start the java virtual machine first."
   ]
  },
  {
   "cell_type": "code",
   "execution_count": null,
   "id": "4db2ce69",
   "metadata": {
    "tags": [
     "remove-output"
    ]
   },
   "outputs": [],
   "source": [
    "import weka.core.jvm as jvm\n",
    "\n",
    "jvm.start()"
   ]
  },
  {
   "cell_type": "markdown",
   "id": "d1acaaa3",
   "metadata": {},
   "source": [
    "### Loading dataset"
   ]
  },
  {
   "cell_type": "markdown",
   "id": "39af7444",
   "metadata": {},
   "source": [
    "To load the dataset, create an `ArffLoader` as follows:"
   ]
  },
  {
   "cell_type": "code",
   "execution_count": null,
   "id": "909a453b",
   "metadata": {},
   "outputs": [],
   "source": [
    "from weka.core.converters import Loader\n",
    "\n",
    "loader = Loader(classname=\"weka.core.converters.ArffLoader\")"
   ]
  },
  {
   "cell_type": "markdown",
   "id": "0908e97a",
   "metadata": {},
   "source": [
    "The loader has the method `load_url` to load data from the web, such as the [Weka GitHub repository][weka]:\n",
    "\n",
    "[weka]: https://raw.githubusercontent.com/Waikato/weka-3.8/master/wekadocs/data/"
   ]
  },
  {
   "cell_type": "code",
   "execution_count": null,
   "id": "f18158f8",
   "metadata": {},
   "outputs": [],
   "source": [
    "weka_data_path = (\n",
    "    \"https://raw.githubusercontent.com/Waikato/weka-3.8/master/wekadocs/data/\"\n",
    ")\n",
    "trainset = loader.load_url(\n",
    "    weka_data_path + \"segment-challenge.arff\"\n",
    ")  # use load_file to load from file instead"
   ]
  },
  {
   "cell_type": "markdown",
   "id": "1e8af2a3",
   "metadata": {},
   "source": [
    "For classification, we have to specify the class attribute. For instance, the method `class_is_last` mutates `trainset` to have the last attribute as the class attribute:"
   ]
  },
  {
   "cell_type": "code",
   "execution_count": null,
   "id": "be1762e4",
   "metadata": {},
   "outputs": [],
   "source": [
    "trainset.class_is_last()"
   ]
  },
  {
   "cell_type": "markdown",
   "id": "fa80ea88",
   "metadata": {},
   "source": [
    "**Exercise** \n",
    "1. Assign `testset` to the data loaded from `weka_data_path + 'segment-test.arff'`. \n",
    "2. Specify the last attribute of `testset` as the target."
   ]
  },
  {
   "cell_type": "code",
   "execution_count": null,
   "id": "ed0eb142",
   "metadata": {
    "deletable": false,
    "nbgrader": {
     "cell_type": "code",
     "checksum": "12445eca6790971725a30b41546ca57c",
     "grade": false,
     "grade_id": "testset",
     "locked": false,
     "schema_version": 3,
     "solution": true,
     "task": false
    },
    "tags": [
     "remove-output"
    ]
   },
   "outputs": [],
   "source": [
    "from weka.core.dataset import Instances\n",
    "\n",
    "# your python code here\n",
    "# end of python code\n",
    "\n",
    "print(Instances.summary(testset))"
   ]
  },
  {
   "cell_type": "code",
   "execution_count": null,
   "id": "81f9ef63",
   "metadata": {
    "deletable": false,
    "editable": false,
    "nbgrader": {
     "cell_type": "code",
     "checksum": "e292741c849719bbe96967eead669b63",
     "grade": true,
     "grade_id": "test-testset",
     "locked": true,
     "points": 1,
     "schema_version": 3,
     "solution": false,
     "task": false
    },
    "tags": [
     "remove-output",
     "hide-input"
    ]
   },
   "outputs": [],
   "source": [
    "# tests\n",
    "assert testset.relationname == \"segment\"\n",
    "assert testset.num_instances == 810\n",
    "assert testset.num_attributes == 20"
   ]
  },
  {
   "cell_type": "code",
   "execution_count": null,
   "id": "27c767f8",
   "metadata": {
    "deletable": false,
    "editable": false,
    "nbgrader": {
     "cell_type": "code",
     "checksum": "940dbdce32e5c40f4986f940673b53e5",
     "grade": true,
     "grade_id": "htest-testset",
     "locked": true,
     "points": 1,
     "schema_version": 3,
     "solution": false,
     "task": false
    },
    "tags": [
     "remove-cell"
    ]
   },
   "outputs": [],
   "source": [
    "# hidden tests"
   ]
  },
  {
   "cell_type": "markdown",
   "id": "339c754f",
   "metadata": {},
   "source": [
    "### Training using J48"
   ]
  },
  {
   "cell_type": "markdown",
   "id": "3035c85a",
   "metadata": {},
   "source": [
    "To train a decision tree using J48, we create the classifier and then apply the method `build_classifier` on the training set."
   ]
  },
  {
   "cell_type": "code",
   "execution_count": null,
   "id": "530f6a9e",
   "metadata": {},
   "outputs": [],
   "source": [
    "from weka.classifiers import Classifier\n",
    "\n",
    "J48 = Classifier(classname=\"weka.classifiers.trees.J48\")\n",
    "J48.build_classifier(trainset)\n",
    "J48"
   ]
  },
  {
   "cell_type": "markdown",
   "id": "61be9c48",
   "metadata": {},
   "source": [
    "`J48.graph` is a [DOT graph][dot] that can be rendered/edited using an [online editor](https://dreampuf.github.io/GraphvizOnline/#digraph%20J48Tree%20%7B%0AN0%20%5Blabel%3D%22region-centroid-row%22%20%5D%0AN0-%3EN1%20%5Blabel%3D%22%3C%3D%20155%22%5D%0AN1%20%5Blabel%3D%22value-mean%22%20%5D%0AN1-%3EN2%20%5Blabel%3D%22%3C%3D%2091.4444%22%5D%0AN2%20%5Blabel%3D%22rawred-mean%22%20%5D%0AN2-%3EN3%20%5Blabel%3D%22%3C%3D%2024.6667%22%5D%0AN3%20%5Blabel%3D%22hue-mean%22%20%5D%0AN3-%3EN4%20%5Blabel%3D%22%3C%3D%20-1.89048%22%5D%0AN4%20%5Blabel%3D%22hue-mean%22%20%5D%0AN4-%3EN5%20%5Blabel%3D%22%3C%3D%20-2.22266%22%5D%0AN5%20%5Blabel%3D%22region-centroid-row%22%20%5D%0AN5-%3EN6%20%5Blabel%3D%22%3C%3D%20146%22%5D%0AN6%20%5Blabel%3D%22foliage%20(102.0%2F1.0)%22%20shape%3Dbox%20style%3Dfilled%20%5D%0AN5-%3EN7%20%5Blabel%3D%22%3E%20146%22%5D%0AN7%20%5Blabel%3D%22cement%20(3.0)%22%20shape%3Dbox%20style%3Dfilled%20%5D%0AN4-%3EN8%20%5Blabel%3D%22%3E%20-2.22266%22%5D%0AN8%20%5Blabel%3D%22rawred-mean%22%20%5D%0AN8-%3EN9%20%5Blabel%3D%22%3C%3D%202.55556%22%5D%0AN9%20%5Blabel%3D%22hue-mean%22%20%5D%0AN9-%3EN10%20%5Blabel%3D%22%3C%3D%20-2.09121%22%5D%0AN10%20%5Blabel%3D%22region-centroid-row%22%20%5D%0AN10-%3EN11%20%5Blabel%3D%22%3C%3D%20129%22%5D%0AN11%20%5Blabel%3D%22foliage%20(50.0)%22%20shape%3Dbox%20style%3Dfilled%20%5D%0AN10-%3EN12%20%5Blabel%3D%22%3E%20129%22%5D%0AN12%20%5Blabel%3D%22region-centroid-col%22%20%5D%0AN12-%3EN13%20%5Blabel%3D%22%3C%3D%20128%22%5D%0AN13%20%5Blabel%3D%22rawred-mean%22%20%5D%0AN13-%3EN14%20%5Blabel%3D%22%3C%3D%200.666667%22%5D%0AN14%20%5Blabel%3D%22foliage%20(30.0%2F4.0)%22%20shape%3Dbox%20style%3Dfilled%20%5D%0AN13-%3EN15%20%5Blabel%3D%22%3E%200.666667%22%5D%0AN15%20%5Blabel%3D%22window%20(5.0)%22%20shape%3Dbox%20style%3Dfilled%20%5D%0AN12-%3EN16%20%5Blabel%3D%22%3E%20128%22%5D%0AN16%20%5Blabel%3D%22vedge-mean%22%20%5D%0AN16-%3EN17%20%5Blabel%3D%22%3C%3D%200.333333%22%5D%0AN17%20%5Blabel%3D%22window%20(11.0)%22%20shape%3Dbox%20style%3Dfilled%20%5D%0AN16-%3EN18%20%5Blabel%3D%22%3E%200.333333%22%5D%0AN18%20%5Blabel%3D%22region-centroid-col%22%20%5D%0AN18-%3EN19%20%5Blabel%3D%22%3C%3D%20216%22%5D%0AN19%20%5Blabel%3D%22window%20(3.0)%22%20shape%3Dbox%20style%3Dfilled%20%5D%0AN18-%3EN20%20%5Blabel%3D%22%3E%20216%22%5D%0AN20%20%5Blabel%3D%22foliage%20(2.0)%22%20shape%3Dbox%20style%3Dfilled%20%5D%0AN9-%3EN21%20%5Blabel%3D%22%3E%20-2.09121%22%5D%0AN21%20%5Blabel%3D%22window%20(38.0%2F1.0)%22%20shape%3Dbox%20style%3Dfilled%20%5D%0AN8-%3EN22%20%5Blabel%3D%22%3E%202.55556%22%5D%0AN22%20%5Blabel%3D%22region-centroid-row%22%20%5D%0AN22-%3EN23%20%5Blabel%3D%22%3C%3D%20121%22%5D%0AN23%20%5Blabel%3D%22exgreen-mean%22%20%5D%0AN23-%3EN24%20%5Blabel%3D%22%3C%3D%20-15.4444%22%5D%0AN24%20%5Blabel%3D%22brickface%20(2.0%2F1.0)%22%20shape%3Dbox%20style%3Dfilled%20%5D%0AN23-%3EN25%20%5Blabel%3D%22%3E%20-15.4444%22%5D%0AN25%20%5Blabel%3D%22vedge-mean%22%20%5D%0AN25-%3EN26%20%5Blabel%3D%22%3C%3D%202.94444%22%5D%0AN26%20%5Blabel%3D%22window%20(75.0)%22%20shape%3Dbox%20style%3Dfilled%20%5D%0AN25-%3EN27%20%5Blabel%3D%22%3E%202.94444%22%5D%0AN27%20%5Blabel%3D%22region-centroid-col%22%20%5D%0AN27-%3EN28%20%5Blabel%3D%22%3C%3D%20134%22%5D%0AN28%20%5Blabel%3D%22cement%20(2.0)%22%20shape%3Dbox%20style%3Dfilled%20%5D%0AN27-%3EN29%20%5Blabel%3D%22%3E%20134%22%5D%0AN29%20%5Blabel%3D%22window%20(8.0)%22%20shape%3Dbox%20style%3Dfilled%20%5D%0AN22-%3EN30%20%5Blabel%3D%22%3E%20121%22%5D%0AN30%20%5Blabel%3D%22rawred-mean%22%20%5D%0AN30-%3EN31%20%5Blabel%3D%22%3C%3D%207.88889%22%5D%0AN31%20%5Blabel%3D%22region-centroid-col%22%20%5D%0AN31-%3EN32%20%5Blabel%3D%22%3C%3D%2043%22%5D%0AN32%20%5Blabel%3D%22brickface%20(2.0)%22%20shape%3Dbox%20style%3Dfilled%20%5D%0AN31-%3EN33%20%5Blabel%3D%22%3E%2043%22%5D%0AN33%20%5Blabel%3D%22window%20(13.0%2F2.0)%22%20shape%3Dbox%20style%3Dfilled%20%5D%0AN30-%3EN34%20%5Blabel%3D%22%3E%207.88889%22%5D%0AN34%20%5Blabel%3D%22saturation-mean%22%20%5D%0AN34-%3EN35%20%5Blabel%3D%22%3C%3D%200.492526%22%5D%0AN35%20%5Blabel%3D%22cement%20(15.0)%22%20shape%3Dbox%20style%3Dfilled%20%5D%0AN34-%3EN36%20%5Blabel%3D%22%3E%200.492526%22%5D%0AN36%20%5Blabel%3D%22region-centroid-col%22%20%5D%0AN36-%3EN37%20%5Blabel%3D%22%3C%3D%2082%22%5D%0AN37%20%5Blabel%3D%22foliage%20(2.0)%22%20shape%3Dbox%20style%3Dfilled%20%5D%0AN36-%3EN38%20%5Blabel%3D%22%3E%2082%22%5D%0AN38%20%5Blabel%3D%22cement%20(4.0%2F1.0)%22%20shape%3Dbox%20style%3Dfilled%20%5D%0AN3-%3EN39%20%5Blabel%3D%22%3E%20-1.89048%22%5D%0AN39%20%5Blabel%3D%22exgreen-mean%22%20%5D%0AN39-%3EN40%20%5Blabel%3D%22%3C%3D%20-4.77778%22%5D%0AN40%20%5Blabel%3D%22vedge-mean%22%20%5D%0AN40-%3EN41%20%5Blabel%3D%22%3C%3D%202.77778%22%5D%0AN41%20%5Blabel%3D%22brickface%20(198.0%2F2.0)%22%20shape%3Dbox%20style%3Dfilled%20%5D%0AN40-%3EN42%20%5Blabel%3D%22%3E%202.77778%22%5D%0AN42%20%5Blabel%3D%22region-centroid-row%22%20%5D%0AN42-%3EN43%20%5Blabel%3D%22%3C%3D%20115%22%5D%0AN43%20%5Blabel%3D%22brickface%20(4.0)%22%20shape%3Dbox%20style%3Dfilled%20%5D%0AN42-%3EN44%20%5Blabel%3D%22%3E%20115%22%5D%0AN44%20%5Blabel%3D%22foliage%20(3.0%2F1.0)%22%20shape%3Dbox%20style%3Dfilled%20%5D%0AN39-%3EN45%20%5Blabel%3D%22%3E%20-4.77778%22%5D%0AN45%20%5Blabel%3D%22hedge-mean%22%20%5D%0AN45-%3EN46%20%5Blabel%3D%22%3C%3D%200.833336%22%5D%0AN46%20%5Blabel%3D%22region-centroid-col%22%20%5D%0AN46-%3EN47%20%5Blabel%3D%22%3C%3D%20115%22%5D%0AN47%20%5Blabel%3D%22foliage%20(4.0)%22%20shape%3Dbox%20style%3Dfilled%20%5D%0AN46-%3EN48%20%5Blabel%3D%22%3E%20115%22%5D%0AN48%20%5Blabel%3D%22window%20(42.0)%22%20shape%3Dbox%20style%3Dfilled%20%5D%0AN45-%3EN49%20%5Blabel%3D%22%3E%200.833336%22%5D%0AN49%20%5Blabel%3D%22grass%20(2.0)%22%20shape%3Dbox%20style%3Dfilled%20%5D%0AN2-%3EN50%20%5Blabel%3D%22%3E%2024.6667%22%5D%0AN50%20%5Blabel%3D%22hue-mean%22%20%5D%0AN50-%3EN51%20%5Blabel%3D%22%3C%3D%20-2.17742%22%5D%0AN51%20%5Blabel%3D%22vedge-mean%22%20%5D%0AN51-%3EN52%20%5Blabel%3D%22%3C%3D%205%22%5D%0AN52%20%5Blabel%3D%22window%20(4.0%2F1.0)%22%20shape%3Dbox%20style%3Dfilled%20%5D%0AN51-%3EN53%20%5Blabel%3D%22%3E%205%22%5D%0AN53%20%5Blabel%3D%22foliage%20(18.0)%22%20shape%3Dbox%20style%3Dfilled%20%5D%0AN50-%3EN54%20%5Blabel%3D%22%3E%20-2.17742%22%5D%0AN54%20%5Blabel%3D%22rawgreen-mean%22%20%5D%0AN54-%3EN55%20%5Blabel%3D%22%3C%3D%2024.4444%22%5D%0AN55%20%5Blabel%3D%22brickface%20(3.0%2F1.0)%22%20shape%3Dbox%20style%3Dfilled%20%5D%0AN54-%3EN56%20%5Blabel%3D%22%3E%2024.4444%22%5D%0AN56%20%5Blabel%3D%22cement%20(180.0)%22%20shape%3Dbox%20style%3Dfilled%20%5D%0AN1-%3EN57%20%5Blabel%3D%22%3E%2091.4444%22%5D%0AN57%20%5Blabel%3D%22sky%20(220.0)%22%20shape%3Dbox%20style%3Dfilled%20%5D%0AN0-%3EN58%20%5Blabel%3D%22%3E%20155%22%5D%0AN58%20%5Blabel%3D%22exgreen-mean%22%20%5D%0AN58-%3EN59%20%5Blabel%3D%22%3C%3D%20-2%22%5D%0AN59%20%5Blabel%3D%22saturation-mean%22%20%5D%0AN59-%3EN60%20%5Blabel%3D%22%3C%3D%200.385555%22%5D%0AN60%20%5Blabel%3D%22region-centroid-row%22%20%5D%0AN60-%3EN61%20%5Blabel%3D%22%3C%3D%20159%22%5D%0AN61%20%5Blabel%3D%22region-centroid-col%22%20%5D%0AN61-%3EN62%20%5Blabel%3D%22%3C%3D%20208%22%5D%0AN62%20%5Blabel%3D%22cement%20(3.0)%22%20shape%3Dbox%20style%3Dfilled%20%5D%0AN61-%3EN63%20%5Blabel%3D%22%3E%20208%22%5D%0AN63%20%5Blabel%3D%22path%20(2.0)%22%20shape%3Dbox%20style%3Dfilled%20%5D%0AN60-%3EN64%20%5Blabel%3D%22%3E%20159%22%5D%0AN64%20%5Blabel%3D%22path%20(234.0)%22%20shape%3Dbox%20style%3Dfilled%20%5D%0AN59-%3EN65%20%5Blabel%3D%22%3E%200.385555%22%5D%0AN65%20%5Blabel%3D%22cement%20(11.0)%22%20shape%3Dbox%20style%3Dfilled%20%5D%0AN58-%3EN66%20%5Blabel%3D%22%3E%20-2%22%5D%0AN66%20%5Blabel%3D%22grass%20(205.0)%22%20shape%3Dbox%20style%3Dfilled%20%5D%0A%7D). using the method `pydotplus.graph_from_dot_data`.\n",
    "\n",
    "[dot]: https://en.wikipedia.org/wiki/DOT_(graph_description_language)"
   ]
  },
  {
   "cell_type": "code",
   "execution_count": null,
   "id": "8fac842d",
   "metadata": {
    "tags": [
     "output_scroll"
    ]
   },
   "outputs": [],
   "source": [
    "print(J48.graph)"
   ]
  },
  {
   "cell_type": "markdown",
   "id": "fbca9c75",
   "metadata": {},
   "source": [
    "You may also run the following in a code cell to install `graphviz` and render the graph:\n",
    "\n",
    "```\n",
    "!pip install graphviz\n",
    "graphviz.Source(J48.graph)\n",
    "```\n",
    "\n",
    "![](images/J48tree.svg)"
   ]
  },
  {
   "cell_type": "markdown",
   "id": "88e22c86",
   "metadata": {},
   "source": [
    "### Evaluation"
   ]
  },
  {
   "cell_type": "markdown",
   "id": "ececebf9",
   "metadata": {},
   "source": [
    "To evaluate the decision tree on the training set:"
   ]
  },
  {
   "cell_type": "code",
   "execution_count": null,
   "id": "53481125",
   "metadata": {},
   "outputs": [],
   "source": [
    "from weka.classifiers import Evaluation\n",
    "\n",
    "J48train = Evaluation(trainset)\n",
    "J48train.test_model(J48, trainset)\n",
    "train_accuracy = J48train.percent_correct\n",
    "print(f\"Training accuracy: {train_accuracy:.4g}%\")"
   ]
  },
  {
   "cell_type": "markdown",
   "id": "88aad7bb",
   "metadata": {
    "slideshow": {
     "slide_type": "subslide"
    }
   },
   "source": [
    "**Exercise** Assign `test_accuracy` to the accuracy of the classifier on the test set."
   ]
  },
  {
   "cell_type": "code",
   "execution_count": null,
   "id": "f88724f6",
   "metadata": {
    "deletable": false,
    "nbgrader": {
     "cell_type": "code",
     "checksum": "9baca36fc17ed67644157dce4cae928b",
     "grade": false,
     "grade_id": "train_accuracy",
     "locked": false,
     "schema_version": 3,
     "solution": true,
     "task": false
    },
    "tags": [
     "remove-output"
    ]
   },
   "outputs": [],
   "source": [
    "# your python code here\n",
    "# end of python code\n",
    "\n",
    "print(f\"Test accuracy: {test_accuracy:.4g}%\")"
   ]
  },
  {
   "cell_type": "code",
   "execution_count": null,
   "id": "ba7a9c26",
   "metadata": {
    "deletable": false,
    "editable": false,
    "nbgrader": {
     "cell_type": "code",
     "checksum": "90d0df7caf69a35d2f6774ed0bd01863",
     "grade": true,
     "grade_id": "test-train_accuracy",
     "locked": true,
     "points": 1,
     "schema_version": 3,
     "solution": false,
     "task": false
    },
    "tags": [
     "remove-cell"
    ]
   },
   "outputs": [],
   "source": [
    "# hidden tests"
   ]
  },
  {
   "cell_type": "markdown",
   "id": "e3a16752",
   "metadata": {},
   "source": [
    "**Exercise** By comparing the training accuracy and test accuracy, can we tell whether a classifier overfitted the data?"
   ]
  },
  {
   "cell_type": "markdown",
   "id": "b4f7315d",
   "metadata": {
    "deletable": false,
    "nbgrader": {
     "cell_type": "markdown",
     "checksum": "c10aace0cc691684daca7cda29323c7b",
     "grade": true,
     "grade_id": "overfit",
     "locked": false,
     "points": 1,
     "schema_version": 3,
     "solution": true,
     "task": false
    }
   },
   "source": [
    "YOUR ANSWER HERE"
   ]
  },
  {
   "cell_type": "markdown",
   "id": "b650d922",
   "metadata": {},
   "source": [
    "To stop the Java virtual machine, run the following line. To restart `jvm`, you must restart the kernel."
   ]
  },
  {
   "cell_type": "code",
   "execution_count": null,
   "id": "6b021be4",
   "metadata": {
    "tags": [
     "remove-output"
    ]
   },
   "outputs": [],
   "source": [
    "jvm.stop()"
   ]
  }
 ],
 "metadata": {
  "kernelspec": {
   "display_name": "Python 3 (ipykernel)",
   "language": "python",
   "name": "python3"
  },
  "language_info": {
   "codemirror_mode": {
    "name": "ipython",
    "version": 3
   },
   "file_extension": ".py",
   "mimetype": "text/x-python",
   "name": "python",
   "nbconvert_exporter": "python",
   "pygments_lexer": "ipython3",
   "version": "3.10.8"
  },
  "widgets": {
   "application/vnd.jupyter.widget-state+json": {
    "state": {},
    "version_major": 2,
    "version_minor": 0
   }
  }
 },
 "nbformat": 4,
 "nbformat_minor": 5
}
