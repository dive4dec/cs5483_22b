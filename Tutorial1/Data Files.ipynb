{
 "cells": [
  {
   "cell_type": "markdown",
   "metadata": {
    "slideshow": {
     "slide_type": "slide"
    }
   },
   "source": [
    "# Data Files"
   ]
  },
  {
   "cell_type": "markdown",
   "metadata": {
    "slideshow": {
     "slide_type": "-"
    },
    "tags": [
     "remove-cell"
    ]
   },
   "source": [
    "**CS5483 Data Warehousing and Data Mining**\n",
    "___"
   ]
  },
  {
   "cell_type": "markdown",
   "metadata": {
    "slideshow": {
     "slide_type": "slide"
    }
   },
   "source": [
    "## Load data into Weka Explorer Interface"
   ]
  },
  {
   "cell_type": "markdown",
   "metadata": {
    "slideshow": {
     "slide_type": "fragment"
    }
   },
   "source": [
    "Use Weka to do [\\[Witten11\\] Exercises 17.1.1 and 17.1.2.][Witten11].\n",
    "\n",
    "[Witten11]: https://ebookcentral.proquest.com/lib/cityuhk/reader.action?docID=634862&ppg=595"
   ]
  },
  {
   "cell_type": "markdown",
   "metadata": {},
   "source": [
    "**How to start Weka in JupyterHub?**\n",
    "\n",
    "- Open the Launcher (`File->New Launcher`)\n",
    "- Start a `Desktop` from the Launcher.\n",
    "- Start a `Terminal` from the menu on the top left.\n",
    "- Run the command `weka`.\n",
    "- Load the dataset from `/usr/local/weka-3-8-5/data/`."
   ]
  },
  {
   "cell_type": "markdown",
   "metadata": {
    "slideshow": {
     "slide_type": "subslide"
    }
   },
   "source": [
    "```{tip}\n",
    "\n",
    "- To run Weka locally on your computer:\n",
    "  1. Download and install Weka from [here][Weka], and\n",
    "  1. obtain the data files from  \n",
    "     1. the subfolder `data` of your Weka installation path, or\n",
    "     1. download from [here][WekaData].  \n",
    "- For the computers in CSC teaching studios, you can start Weka as follows: \n",
    "  1. Click the shortcut `Work Desk` from desktop.\n",
    "  1. Click the link `Weka 3.8.x` for CS Department.\n",
    "  1. Load the dataset from  \n",
    "  `C:\\Program Files\\Weka-3-8\\data\\`.\n",
    "- For the computers in CS labs, you can start Weka as follows: \n",
    "  1. Execute `G:\\weka\\3.8\\run.bat`,\n",
    "  1. Click the `Explorer` button, and\n",
    "  1. Load the dataset from  \n",
    "  `C:\\temp\\Weka-3.8\\data` or `G:\\weka\\3.8\\files\\data`.\n",
    "\n",
    "[WekaData]: https://github.com/Waikato/weka-3.8/tree/master/wekadocs/data\n",
    "[Weka]: https://waikato.github.io/weka-wiki/downloading_weka/\n",
    "\n",
    "```"
   ]
  },
  {
   "cell_type": "markdown",
   "metadata": {
    "slideshow": {
     "slide_type": "subslide"
    }
   },
   "source": [
    "**Ex 17.1.1**"
   ]
  },
  {
   "cell_type": "markdown",
   "metadata": {
    "deletable": false,
    "nbgrader": {
     "cell_type": "markdown",
     "checksum": "044d0e4981c4118fb68187997ce84cff",
     "grade": true,
     "grade_id": "Witten11-17-1-1",
     "locked": false,
     "points": 1,
     "schema_version": 3,
     "solution": true,
     "task": false
    },
    "slideshow": {
     "slide_type": "-"
    }
   },
   "source": [
    "YOUR ANSWER HERE"
   ]
  },
  {
   "cell_type": "markdown",
   "metadata": {
    "slideshow": {
     "slide_type": "subslide"
    }
   },
   "source": [
    "**Ex 17.1.2** "
   ]
  },
  {
   "cell_type": "markdown",
   "metadata": {
    "deletable": false,
    "nbgrader": {
     "cell_type": "markdown",
     "checksum": "cd6d4b1b64c36b50eb5ad2b195cff2de",
     "grade": true,
     "grade_id": "Witten11-17-1-4",
     "locked": false,
     "points": 1,
     "schema_version": 3,
     "solution": true,
     "task": false
    },
    "slideshow": {
     "slide_type": "-"
    }
   },
   "source": [
    "YOUR ANSWER HERE"
   ]
  },
  {
   "cell_type": "markdown",
   "metadata": {
    "slideshow": {
     "slide_type": "slide"
    }
   },
   "source": [
    "## Create an ARFF file"
   ]
  },
  {
   "cell_type": "markdown",
   "metadata": {
    "slideshow": {
     "slide_type": "fragment"
    }
   },
   "source": [
    "Create an ARFF file named `AND.arff` in the current directory for the AND gate $Y=X_1\\cdot X_2$. Use `0` and `1` to represent `False` and `True` respectively."
   ]
  },
  {
   "cell_type": "markdown",
   "metadata": {},
   "source": [
    "```{important}\n",
    "\n",
    "See the [documentation](https://waikato.github.io/weka-wiki/formats_and_processing/arff_stable/) for the ARFF file format, or take a look at some of the ARFF files in the WEKA data folder as examples.\n",
    "\n",
    "```"
   ]
  },
  {
   "cell_type": "markdown",
   "metadata": {
    "slideshow": {
     "slide_type": "fragment"
    }
   },
   "source": [
    "```{tip}\n",
    "\n",
    "To generate the file from this notebook directly:\n",
    "1. Copy the solution template below to the following solution cell.\n",
    "1. Replace each underscore `_` by an appropriate value.\n",
    "1. Execute the code cell.\n",
    "\n",
    "```Python\n",
    "content = '''\n",
    "@RELATION AND\n",
    "@ATTRIBUTE X1 {0, 1}\n",
    "@ATTRIBUTE X2 {_, _}\n",
    "@ATTRIBUTE Y {_, _}\n",
    "@DATA\n",
    "_, _, _\n",
    "_, _, _\n",
    "_, _, _\n",
    "_, _, _\n",
    "'''\n",
    "```\n",
    "\n",
    "Alternatively, you may use other editors in JupyterHub to create `AND.arff` in the current folder.\n",
    "\n",
    "```"
   ]
  },
  {
   "cell_type": "code",
   "execution_count": null,
   "metadata": {
    "ExecuteTime": {
     "end_time": "2021-01-12T06:55:39.700761Z",
     "start_time": "2021-01-12T06:55:39.693168Z"
    },
    "deletable": false,
    "nbgrader": {
     "cell_type": "code",
     "checksum": "ed0c5aabfcfdf8ccfe999032a9c76ece",
     "grade": false,
     "grade_id": "AND",
     "locked": false,
     "schema_version": 3,
     "solution": true,
     "task": false
    },
    "slideshow": {
     "slide_type": "-"
    },
    "tags": [
     "remove-output"
    ]
   },
   "outputs": [],
   "source": [
    "# your python code here\n",
    "# end of python code\n",
    "\n",
    "\n",
    "# write the content of text to the file\n",
    "try: content\n",
    "except NameError: \n",
    "    print(\"AND.arff not generated because `content` is undefined.\")\n",
    "else:\n",
    "    filename = 'AND.arff'\n",
    "    with open(filename,'w') as f:\n",
    "        f.write(content)\n",
    "    print(\"AND.arff generated.\")"
   ]
  },
  {
   "cell_type": "markdown",
   "metadata": {
    "slideshow": {
     "slide_type": "subslide"
    }
   },
   "source": [
    "Run the following test cell to see if your file is a valid ARFF file. You may also download and load the ARFF file into WEKA to see if there is any syntax error."
   ]
  },
  {
   "cell_type": "code",
   "execution_count": null,
   "metadata": {
    "ExecuteTime": {
     "end_time": "2021-01-12T06:55:40.510123Z",
     "start_time": "2021-01-12T06:55:40.492257Z"
    },
    "deletable": false,
    "editable": false,
    "nbgrader": {
     "cell_type": "code",
     "checksum": "2aa930af80c0f01269979391cbabc8f4",
     "grade": true,
     "grade_id": "test-AND",
     "locked": true,
     "points": 1,
     "schema_version": 3,
     "solution": false,
     "task": false
    },
    "slideshow": {
     "slide_type": "-"
    },
    "tags": [
     "remove-output"
    ]
   },
   "outputs": [],
   "source": [
    "# test\n",
    "print('Content of AND.arff:')\n",
    "with open(filename) as f:\n",
    "    print(f.read())\n",
    "\n",
    "from scipy.io import arff\n",
    "import pandas as pd\n",
    "\n",
    "d = arff.loadarff(filename)\n",
    "df = pd.DataFrame(d[0]).astype(int)\n",
    "df.head()"
   ]
  },
  {
   "cell_type": "code",
   "execution_count": null,
   "metadata": {
    "deletable": false,
    "editable": false,
    "nbgrader": {
     "cell_type": "code",
     "checksum": "bc6a88370956d227bad67f488b50bedb",
     "grade": true,
     "grade_id": "htest-AND",
     "locked": true,
     "points": 1,
     "schema_version": 3,
     "solution": false,
     "task": false
    },
    "tags": [
     "remove-cell"
    ]
   },
   "outputs": [],
   "source": [
    "# hidden test"
   ]
  }
 ],
 "metadata": {
  "kernelspec": {
   "display_name": "Python 3 (ipykernel)",
   "language": "python",
   "name": "python3"
  },
  "language_info": {
   "codemirror_mode": {
    "name": "ipython",
    "version": 3
   },
   "file_extension": ".py",
   "mimetype": "text/x-python",
   "name": "python",
   "nbconvert_exporter": "python",
   "pygments_lexer": "ipython3",
   "version": "3.10.8"
  },
  "rise": {
   "enable_chalkboard": true,
   "scroll": true,
   "theme": "white"
  },
  "toc": {
   "base_numbering": 1,
   "nav_menu": {},
   "number_sections": true,
   "sideBar": true,
   "skip_h1_title": true,
   "title_cell": "Table of Contents",
   "title_sidebar": "Contents",
   "toc_cell": false,
   "toc_position": {},
   "toc_section_display": true,
   "toc_window_display": false
  },
  "widgets": {
   "application/vnd.jupyter.widget-state+json": {
    "state": {},
    "version_major": 2,
    "version_minor": 0
   }
  }
 },
 "nbformat": 4,
 "nbformat_minor": 4
}
