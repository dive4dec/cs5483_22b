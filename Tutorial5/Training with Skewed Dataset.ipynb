{
 "cells": [
  {
   "cell_type": "markdown",
   "id": "2d3937f8",
   "metadata": {
    "slideshow": {
     "slide_type": "slide"
    }
   },
   "source": [
    "# Training with Skewed Dataset"
   ]
  },
  {
   "cell_type": "markdown",
   "id": "d883ba4e",
   "metadata": {
    "slideshow": {
     "slide_type": "-"
    },
    "tags": [
     "remove-cell"
    ]
   },
   "source": [
    "**CS5483 Data Warehousing and Data Mining**\n",
    "___"
   ]
  },
  {
   "cell_type": "code",
   "execution_count": null,
   "id": "33edec9e",
   "metadata": {
    "init_cell": true,
    "slideshow": {
     "slide_type": "subslide"
    }
   },
   "outputs": [],
   "source": [
    "import pprint\n",
    "\n",
    "import numpy as np\n",
    "import weka.core.jvm as jvm\n",
    "import weka.core.packages as packages\n",
    "from weka.classifiers import (\n",
    "    Classifier,\n",
    "    Evaluation,\n",
    "    FilteredClassifier,\n",
    "    SingleClassifierEnhancer,\n",
    ")\n",
    "from weka.core.classes import Random, complete_classname\n",
    "from weka.core.converters import Loader\n",
    "from weka.filters import Filter"
   ]
  },
  {
   "cell_type": "markdown",
   "id": "e1f3752b",
   "metadata": {},
   "source": [
    "## Setup"
   ]
  },
  {
   "cell_type": "markdown",
   "id": "6773d735",
   "metadata": {},
   "source": [
    "In this notebook, we will train classifiers properly on the skewed dataset for detecting microcalcifications in mammograms."
   ]
  },
  {
   "cell_type": "markdown",
   "id": "ff0faf2f",
   "metadata": {},
   "source": [
    "In particular, we will use the meta classifier `ThresholdSelector` and the filter `SMOTE` [Synthetic Minority Over-sampling Technique](https://doi.org/10.1613/jair.953). They need to be installed as [additional packages in WEKA](https://weka.sourceforge.io/packageMetaData/). To do so, we have imported `packages`:\n",
    "\n",
    "```python\n",
    "import weka.core.packages as packages\n",
    "```"
   ]
  },
  {
   "cell_type": "markdown",
   "id": "30260bf8",
   "metadata": {},
   "source": [
    "`packages` must also be enabled for the java virtual machine:"
   ]
  },
  {
   "cell_type": "code",
   "execution_count": null,
   "id": "433bd336",
   "metadata": {
    "tags": [
     "remove-output"
    ]
   },
   "outputs": [],
   "source": [
    "jvm.start(packages=True)"
   ]
  },
  {
   "cell_type": "markdown",
   "id": "7cec58f0",
   "metadata": {},
   "source": [
    "The following prints the information of the packages we will install:"
   ]
  },
  {
   "cell_type": "code",
   "execution_count": null,
   "id": "d6b2ff83",
   "metadata": {},
   "outputs": [],
   "source": [
    "pkgs = [\"thresholdSelector\", \"SMOTE\"]\n",
    "for item in packages.all_packages():\n",
    "    if item.name in pkgs:\n",
    "        pprint.pp(item.metadata)"
   ]
  },
  {
   "cell_type": "markdown",
   "id": "7e868c8d",
   "metadata": {},
   "source": [
    " You may install the packages directly using the Weka package manager instead of downloading the zip files. To install them in `python-weka-wrapper`, run the following code:"
   ]
  },
  {
   "cell_type": "code",
   "execution_count": null,
   "id": "942bda8f",
   "metadata": {},
   "outputs": [],
   "source": [
    "for pkg in pkgs:\n",
    "    if not packages.is_installed(pkg):\n",
    "        print(f\"Installing {pkg}...\")\n",
    "        packages.install_package(pkg)\n",
    "    else:\n",
    "        print(f\"Skipping {pkg}, already installed. \")\n",
    "else:\n",
    "    print(\"Done.\")"
   ]
  },
  {
   "cell_type": "markdown",
   "id": "23a5923b",
   "metadata": {},
   "source": [
    "The first time you run the above cell, you should see\n",
    "\n",
    "```\n",
    "Installing thresholdSelector...\n",
    "Installing SMOTE...\n",
    "Done.\n",
    "```\n",
    "\n",
    "The next time you run the cell, you should see\n",
    "\n",
    "```\n",
    "Skipping thresholdSelector, already installed. \n",
    "Skipping SMOTE, already installed. \n",
    "Done.\n",
    "```\n",
    "\n",
    "because the packages have already been installed."
   ]
  },
  {
   "cell_type": "markdown",
   "id": "3332a001",
   "metadata": {},
   "source": [
    "By default, packages are installed under your home directory `~/wekafiles/packages/`:"
   ]
  },
  {
   "cell_type": "code",
   "execution_count": null,
   "id": "37f505de",
   "metadata": {},
   "outputs": [],
   "source": [
    "!ls ~/wekafiles/packages"
   ]
  },
  {
   "cell_type": "markdown",
   "id": "ece8af05",
   "metadata": {},
   "source": [
    "````{note}\n",
    "\n",
    "For the packages to take effect, you must restart the kernel (`Kernel` -> `Restart`). Note that running `jvm.stop()` followed by `jvm.start(packages=True)` will not work because [`javabridge` currently does not support restarting a virtual machine](https://stackoverflow.com/questions/51795945/after-stopping-jvm-unable-to-start-it-again).\n",
    "\n",
    "````"
   ]
  },
  {
   "cell_type": "markdown",
   "id": "b17e0600",
   "metadata": {},
   "source": [
    "After restarting the kernel, check that the packages have been successfully installed using `complete_classname` imported by\n",
    "\n",
    "```python\n",
    "from weka.core.classes import complete_classname\n",
    "```"
   ]
  },
  {
   "cell_type": "code",
   "execution_count": null,
   "id": "ff6a7539",
   "metadata": {},
   "outputs": [],
   "source": [
    "print(complete_classname(\"ThresholdSelector\"))\n",
    "print(complete_classname(\"SMOTE\"))\n",
    "print(packages.installed_packages())"
   ]
  },
  {
   "cell_type": "markdown",
   "id": "53ad910c",
   "metadata": {},
   "source": [
    "We will use the same mammography dataset from\n",
    "[OpenML](https://www.openml.org/d/310) and J48 as the base classifier. The following loads the dataset into the notebook:"
   ]
  },
  {
   "cell_type": "code",
   "execution_count": null,
   "id": "4e8816ed",
   "metadata": {},
   "outputs": [],
   "source": [
    "loader = Loader(classname=\"weka.core.converters.ArffLoader\")\n",
    "data = loader.load_url(\"https://www.openml.org/data/download/52214/phpn1jVwe\")\n",
    "data.class_is_last()\n",
    "pos_class = 1\n",
    "clf = Classifier(classname=\"weka.classifiers.trees.J48\")"
   ]
  },
  {
   "cell_type": "markdown",
   "id": "661c8512",
   "metadata": {},
   "source": [
    "## Threshold Selector"
   ]
  },
  {
   "cell_type": "markdown",
   "id": "c73e6151",
   "metadata": {},
   "source": [
    "The meta classifier `ThresholdSelector` uses the threshold-moving technique to optimize a performance measure you specify, which can be the precision, recall, $F$-score, etc. See an explanation of the threshold moving technique [here](https://machinelearningmastery.com/threshold-moving-for-imbalanced-classification/)."
   ]
  },
  {
   "cell_type": "markdown",
   "id": "3c888931",
   "metadata": {},
   "source": [
    "The following shows how to maximize recall:"
   ]
  },
  {
   "cell_type": "code",
   "execution_count": null,
   "id": "55fb4e0c",
   "metadata": {},
   "outputs": [],
   "source": [
    "tsc = SingleClassifierEnhancer(classname=\"weka.classifiers.meta.ThresholdSelector\")\n",
    "tsc.options = [\"-M\", \"RECALL\"]\n",
    "tsc.classifier = clf\n",
    "\n",
    "evl = Evaluation(data)\n",
    "evl.crossvalidate_model(tsc, data, 10, Random(1))\n",
    "\n",
    "print(f\"maximum recall: {evl.recall(pos_class):.3g}\")"
   ]
  },
  {
   "cell_type": "markdown",
   "id": "36410f7b",
   "metadata": {},
   "source": [
    "The maximum recall is 100%, as expected by setting the threshold to 1."
   ]
  },
  {
   "cell_type": "markdown",
   "id": "470875d3",
   "metadata": {},
   "source": [
    "**Exercise** Using J48 as the base classifier and 10-fold cross-validation, obtain the highest precision and F-score. Assign the values to `max_precision` and `max_f`, respectively. \n",
    "\n",
    "If you use `python-weka-wrapper`, be careful that resetting `tsc.options` may also reset the base classifier to the default one, which is not J48. To ensure that you are using J48, set the base classifier again after the options:\n",
    "```Python\n",
    "tsc.options=['-M', ___]\n",
    "tsc.classifier = clf\n",
    "```"
   ]
  },
  {
   "cell_type": "code",
   "execution_count": null,
   "id": "ba9a46ff",
   "metadata": {
    "deletable": false,
    "nbgrader": {
     "cell_type": "code",
     "checksum": "7757927f17d4e874db6bdc2744cf97e4",
     "grade": false,
     "grade_id": "threshold-selector",
     "locked": false,
     "schema_version": 3,
     "solution": true,
     "task": false
    },
    "tags": [
     "remove-output"
    ]
   },
   "outputs": [],
   "source": [
    "# your python code here\n",
    "# end of python code\n",
    "\n",
    "max_precision, max_f"
   ]
  },
  {
   "cell_type": "code",
   "execution_count": null,
   "id": "82904336",
   "metadata": {
    "deletable": false,
    "editable": false,
    "nbgrader": {
     "cell_type": "code",
     "checksum": "f5ef0f1c5f63de4e1da583edb0f8cc30",
     "grade": true,
     "grade_id": "test-threshold-selector",
     "locked": true,
     "points": 1,
     "schema_version": 3,
     "solution": false,
     "task": false
    },
    "tags": [
     "remove-cell"
    ]
   },
   "outputs": [],
   "source": [
    "# hidden tests"
   ]
  },
  {
   "cell_type": "markdown",
   "id": "9e4cc11b",
   "metadata": {},
   "source": [
    "## Cost-sensitive Classifier"
   ]
  },
  {
   "cell_type": "markdown",
   "id": "8352f626",
   "metadata": {},
   "source": [
    "````{admonition} Definition \n",
    "\n",
    "We can build a classifier to maximize certain cost defined as\n",
    "\n",
    "$$\n",
    "\\begin{align}\n",
    "\\text{cost}_\\text{TP} \\text{TP}\n",
    "+ \\text{cost}_\\text{FN} \\text{FN}\n",
    "+ \\text{cost}_\\text{FP} \\text{FP} \n",
    "+ \\text{cost}_\\text{TN} \\text{TN}.\n",
    "\\end{align}\n",
    "$$ (cost)\n",
    "\n",
    "given a cost matrix\n",
    "\n",
    "$$\n",
    "\\begin{align}\n",
    "\\begin{bmatrix} \\text{cost}_\\text{TP} & \\text{cost}_\\text{FN}\\\\ \\text{cost}_\\text{FP} & \\text{cost}_\\text{TN}\\end{bmatrix}.\n",
    "\\end{align}\n",
    "$$ (cost-matrix)\n",
    "\n",
    "````"
   ]
  },
  {
   "cell_type": "markdown",
   "id": "6b908d1c",
   "metadata": {},
   "source": [
    "Weka provides a convenient interface for cost/benefit analysis:\n",
    "\n",
    "- In the explorer interface, train J48 on the mammography dataset with 10-fold cross-validation.\n",
    "- Right-click on the result in the result list.\n",
    "- Choose Cost/Benefit analysis and 1 as the positive class value.\n",
    "- Specify the cost matrix.\n",
    "- Click `Minimize Cost/Benefit` to minimize the cost."
   ]
  },
  {
   "cell_type": "markdown",
   "id": "b921b849",
   "metadata": {},
   "source": [
    "**Exercise** Assign to `cost_matrix` the cost matrix that achieves the maximum precision. You can define the cost matrix as follows:\n",
    "```python\n",
    "cost_matrix = np.array([[__, __],\n",
    "                        [__, __]])\n",
    "```"
   ]
  },
  {
   "cell_type": "markdown",
   "id": "0ddfc5ce",
   "metadata": {},
   "source": [
    "````{hint}\n",
    "\n",
    "Pay attention to the row and column labels of the confusion matrix. It changes after you specify $1$ as the positive class value.\n",
    "\n",
    "````"
   ]
  },
  {
   "cell_type": "code",
   "execution_count": null,
   "id": "0cdb291b",
   "metadata": {
    "deletable": false,
    "nbgrader": {
     "cell_type": "code",
     "checksum": "0ab80775fc6488c067114fbe7e73d89c",
     "grade": false,
     "grade_id": "cost-matrix",
     "locked": false,
     "schema_version": 3,
     "solution": true,
     "task": false
    },
    "tags": [
     "remove-output"
    ]
   },
   "outputs": [],
   "source": [
    "# your python code here\n",
    "# end of python code\n",
    "\n",
    "cost_matrix"
   ]
  },
  {
   "cell_type": "markdown",
   "id": "9ac274cd",
   "metadata": {},
   "source": [
    "The following test cell demonstrates how to train a meta classifier to minimize the cost defined using the cost matrix you provided."
   ]
  },
  {
   "cell_type": "code",
   "execution_count": null,
   "id": "4f758619",
   "metadata": {
    "deletable": false,
    "editable": false,
    "nbgrader": {
     "cell_type": "code",
     "checksum": "8a272a08a63f0bbdf425d22b68e3e07e",
     "grade": true,
     "grade_id": "test-cost-matrix",
     "locked": true,
     "points": 1,
     "schema_version": 3,
     "solution": false,
     "task": false
    },
    "tags": [
     "remove-output"
    ]
   },
   "outputs": [],
   "source": [
    "# tests\n",
    "csc = SingleClassifierEnhancer(\n",
    "    classname=\"weka.classifiers.meta.CostSensitiveClassifier\",\n",
    "    options=[\n",
    "        \"-cost-matrix\",\n",
    "        \"[\"\n",
    "        + \" ; \".join(\n",
    "            \" \".join(str(entry) for entry in cost_matrix[:, i]) for i in range(2)\n",
    "        )\n",
    "        + \"]\",\n",
    "        \"-S\",\n",
    "        \"1\",\n",
    "    ],\n",
    ")\n",
    "csc.classifier = clf\n",
    "\n",
    "evl = Evaluation(data)\n",
    "evl.crossvalidate_model(csc, data, 10, Random(1))\n",
    "\n",
    "precision = evl.precision(pos_class)\n",
    "print(f\"maximum precision: {precision:.3g}\")"
   ]
  },
  {
   "cell_type": "code",
   "execution_count": null,
   "id": "5e93c3d4",
   "metadata": {
    "deletable": false,
    "editable": false,
    "nbgrader": {
     "cell_type": "code",
     "checksum": "92898140130de0979bb8855ca30e093e",
     "grade": true,
     "grade_id": "htest-cost-matrix",
     "locked": true,
     "points": 1,
     "schema_version": 3,
     "solution": false,
     "task": false
    },
    "tags": [
     "remove-cell"
    ]
   },
   "outputs": [],
   "source": [
    "# hidden tests"
   ]
  },
  {
   "cell_type": "markdown",
   "id": "33e67963",
   "metadata": {},
   "source": [
    "## SMOTE"
   ]
  },
  {
   "cell_type": "markdown",
   "id": "f32c34ee",
   "metadata": {},
   "source": [
    "Synthetic Minority Over-sampling TEchnique (SMOTE) is a filter that up-samples the minority class. Instead of duplicates of the same instance, it creates new samples as convex combinations of existing ones. See a more detailed explanation of SMOTE [here](http://rikunert.com/SMOTE_explained)."
   ]
  },
  {
   "cell_type": "markdown",
   "id": "2cd91f3d",
   "metadata": {},
   "source": [
    "**Exercise** Using the FilteredClassifier with J48 as the classifier and SMOTE as the filter, try to tweak the setting of SMOTE to give the highest possible value of $F$ score larger than the maximum one achieved by `ThresholdSelector`. Assign to `smote.options` your choice of filter. E.g., you can change the percentage of SMOTE instances to 150% as follows:\n",
    "```Python\n",
    "smote.options = ['-P', '150']\n",
    "```"
   ]
  },
  {
   "cell_type": "code",
   "execution_count": null,
   "id": "e8f63a31",
   "metadata": {
    "deletable": false,
    "nbgrader": {
     "cell_type": "code",
     "checksum": "3b4e53d4427a134235f0a506f51fc6a4",
     "grade": false,
     "grade_id": "smote",
     "locked": false,
     "schema_version": 3,
     "solution": true,
     "task": false
    },
    "tags": [
     "remove-output"
    ]
   },
   "outputs": [],
   "source": [
    "smote = Filter(classname=\"weka.filters.supervised.instance.SMOTE\")\n",
    "print(\"Default smote.options:\", smote.options)\n",
    "# your python code here\n",
    "# end of python code\n",
    "\n",
    "print(\"Your smote.options:\", smote.options)"
   ]
  },
  {
   "cell_type": "code",
   "execution_count": null,
   "id": "6d15d8f9",
   "metadata": {
    "deletable": false,
    "editable": false,
    "nbgrader": {
     "cell_type": "code",
     "checksum": "1d0ba07d5a2e0d1b1ca2ead66a10c5db",
     "grade": true,
     "grade_id": "test-smote",
     "locked": true,
     "points": 1,
     "schema_version": 3,
     "solution": false,
     "task": false
    },
    "tags": [
     "remove-output"
    ]
   },
   "outputs": [],
   "source": [
    "# tests\n",
    "fc = FilteredClassifier()\n",
    "fc.filter = smote\n",
    "fc.classifier = clf\n",
    "\n",
    "evl = Evaluation(data)\n",
    "evl.crossvalidate_model(fc, data, 10, Random(1))\n",
    "\n",
    "f_score = evl.f_measure(pos_class)\n",
    "print(f\"F-score by SMOTE: {f_score:.3g}\")"
   ]
  },
  {
   "cell_type": "code",
   "execution_count": null,
   "id": "ee2cdd78",
   "metadata": {
    "deletable": false,
    "editable": false,
    "nbgrader": {
     "cell_type": "code",
     "checksum": "10c5d08854b22e25fe5c545d6778b227",
     "grade": true,
     "grade_id": "htest-smote",
     "locked": true,
     "points": 1,
     "schema_version": 3,
     "solution": false,
     "task": false
    },
    "tags": [
     "remove-cell"
    ]
   },
   "outputs": [],
   "source": [
    "# hidden tests"
   ]
  }
 ],
 "metadata": {
  "kernelspec": {
   "display_name": "Python 3 (ipykernel)",
   "language": "python",
   "name": "python3"
  },
  "language_info": {
   "codemirror_mode": {
    "name": "ipython",
    "version": 3
   },
   "file_extension": ".py",
   "mimetype": "text/x-python",
   "name": "python",
   "nbconvert_exporter": "python",
   "pygments_lexer": "ipython3",
   "version": "3.10.8"
  },
  "widgets": {
   "application/vnd.jupyter.widget-state+json": {
    "state": {},
    "version_major": 2,
    "version_minor": 0
   }
  }
 },
 "nbformat": 4,
 "nbformat_minor": 5
}
