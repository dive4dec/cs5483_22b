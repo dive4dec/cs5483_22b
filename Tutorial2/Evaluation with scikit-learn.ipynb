{
 "cells": [
  {
   "cell_type": "markdown",
   "id": "e008f3f8",
   "metadata": {},
   "source": [
    "# Evaluation with scikit-learn"
   ]
  },
  {
   "cell_type": "markdown",
   "id": "56a4f131",
   "metadata": {
    "tags": [
     "remove-cell"
    ]
   },
   "source": [
    "**CS5483 Data Warehousing and Data Mining**\n",
    "___"
   ]
  },
  {
   "cell_type": "markdown",
   "id": "2d3e4ffa",
   "metadata": {},
   "source": [
    "Run the following to initialize the environment and import the libraries necessary for this notebook."
   ]
  },
  {
   "cell_type": "code",
   "execution_count": null,
   "id": "c4d6a7b8",
   "metadata": {
    "init_cell": true,
    "slideshow": {
     "slide_type": "-"
    }
   },
   "outputs": [],
   "source": [
    "%matplotlib inline\n",
    "from functools import lru_cache\n",
    "\n",
    "import matplotlib.pyplot as plt\n",
    "import numpy as np\n",
    "import pandas as pd\n",
    "from IPython import display\n",
    "from ipywidgets import IntSlider, interact\n",
    "from sklearn import datasets, tree\n",
    "from sklearn.model_selection import (\n",
    "    StratifiedKFold,\n",
    "    cross_val_predict,\n",
    "    cross_val_score,\n",
    "    train_test_split,\n",
    ")\n",
    "\n",
    "plt.rcParams[\"figure.figsize\"] = (8, 4)"
   ]
  },
  {
   "cell_type": "markdown",
   "id": "d05360a5",
   "metadata": {},
   "source": [
    "## Data Preparation"
   ]
  },
  {
   "cell_type": "markdown",
   "id": "b443f12d",
   "metadata": {},
   "source": [
    "### About the dataset"
   ]
  },
  {
   "cell_type": "markdown",
   "id": "a63e0232",
   "metadata": {},
   "source": [
    "We will use a popular dataset called the [*iris dataset*](https://en.wikipedia.org/wiki/Iris_flower_data_set). Iris is a flower with three different species shown below."
   ]
  },
  {
   "cell_type": "markdown",
   "id": "10b5be86",
   "metadata": {},
   "source": [
    "<span style=\"text-align: center;\">\n",
    "<div style=\"display: flex;\">\n",
    "<div style=\"padding: 1em;\">     \n",
    "<a title=\"Tiia Monto, CC BY-SA 4.0 &lt;https://creativecommons.org/licenses/by-sa/4.0&gt;, via Wikimedia Commons\" href=\"https://commons.wikimedia.org/wiki/File:Iris_setosa_2.jpg\"><img width=\"260\" alt=\"Iris setosa 2\" src=\"https://upload.wikimedia.org/wikipedia/commons/1/11/Iris_setosa_2.jpg\"></a>\n",
    "<p>Iris Setosa</p>\n",
    "</div>\n",
    "<div style=\"padding: 1em;\">\n",
    "            \n",
    "<a title=\"No machine-readable author provided. Dlanglois assumed (based on copyright claims)., CC BY-SA 3.0 &lt;http://creativecommons.org/licenses/by-sa/3.0/&gt;, via Wikimedia Commons\" href=\"https://commons.wikimedia.org/wiki/File:Iris_versicolor_3.jpg\"><img width=\"260\" alt=\"Iris versicolor 3\" src=\"https://upload.wikimedia.org/wikipedia/commons/4/41/Iris_versicolor_3.jpg\"></a>\n",
    "<p>Iris Versicolor</p>\n",
    "</div>\n",
    "\n",
    "<div style=\"padding: 1em;\">\n",
    "<a title=\"Frank Mayfield, CC BY-SA 2.0 &lt;https://creativecommons.org/licenses/by-sa/2.0&gt;, via Wikimedia Commons\" href=\"https://commons.wikimedia.org/wiki/File:Iris_virginica.jpg\"><img width=\"260\" alt=\"Iris virginica\" src=\"https://upload.wikimedia.org/wikipedia/commons/9/9f/Iris_virginica.jpg\"></a>\n",
    "<p>Iris Virginica</p>\n",
    "</div>\n",
    "</div>\n",
    "</span>"
   ]
  },
  {
   "cell_type": "markdown",
   "id": "c4907e28",
   "metadata": {},
   "source": [
    "The three iris species differ in the lengths and widths of their *petals* and *sepals*."
   ]
  },
  {
   "cell_type": "markdown",
   "id": "f2182ebd",
   "metadata": {},
   "source": [
    "<a title=\"Frank Mayfield, CC BY-SA 3.0 &lt;https://creativecommons.org/licenses/by-sa/3.0/&gt;, via Wikimedia Commons\" href=\"https://commons.wikimedia.org/wiki/File:Petal-sepal.jpg\"><img width=\"200\" alt=\"Iris virginica\" src=\"https://upload.wikimedia.org/wikipedia/commons/7/78/Petal-sepal.jpg\"></a>"
   ]
  },
  {
   "cell_type": "markdown",
   "id": "263da1eb",
   "metadata": {},
   "source": [
    "A standard data mining task is to train a model that can classify the spieces (*target*) automatically based on the lengths and widths of the petals and sepals (*input features*)."
   ]
  },
  {
   "cell_type": "markdown",
   "id": "5cd2ed8e",
   "metadata": {},
   "source": [
    "### Load dataset from scikit-learn"
   ]
  },
  {
   "cell_type": "markdown",
   "id": "1980452f",
   "metadata": {},
   "source": [
    "**How to load the iris dataset?**"
   ]
  },
  {
   "cell_type": "markdown",
   "id": "e185874d",
   "metadata": {},
   "source": [
    "To load the iris dataset, we can simply import the [`sklearn.datasets` package](https://scikit-learn.org/stable/datasets/index.html)."
   ]
  },
  {
   "cell_type": "code",
   "execution_count": null,
   "id": "1264acfb",
   "metadata": {
    "colab": {
     "base_uri": "https://localhost:8080/",
     "height": 1000
    },
    "colab_type": "code",
    "id": "9gQINfrjsb4M",
    "outputId": "77b77a38-2712-4c93-c503-219e74f354fd",
    "slideshow": {
     "slide_type": "-"
    }
   },
   "outputs": [],
   "source": [
    "from sklearn import datasets\n",
    "\n",
    "iris = datasets.load_iris()\n",
    "type(iris)  # object type"
   ]
  },
  {
   "cell_type": "markdown",
   "id": "0bdeb09f",
   "metadata": {},
   "source": [
    "`sklearn` stores the dataset as a [`Bunch` object](https://scikit-learn.org/stable/modules/generated/sklearn.utils.Bunch.html), which is essentially [a bunch of properties](https://scikit-learn.org/stable/modules/generated/sklearn.datasets.load_iris.html) put together."
   ]
  },
  {
   "cell_type": "markdown",
   "id": "aadbf27f",
   "metadata": {},
   "source": [
    "**How to learn more about a library?**"
   ]
  },
  {
   "cell_type": "markdown",
   "id": "0d4d49d9",
   "metadata": {},
   "source": [
    "Detailed documentation can be found at [https://scikit-learn.org](https://scikit-learn.org/stable/modules/generated/sklearn.datasets.load_iris.html)."
   ]
  },
  {
   "cell_type": "markdown",
   "id": "c3ce260d",
   "metadata": {},
   "source": [
    "We can use the symbol `?` to obtain the docstring of an object and `??` to obtain its source code, if available."
   ]
  },
  {
   "cell_type": "code",
   "execution_count": null,
   "id": "d9013c19",
   "metadata": {
    "tags": [
     "remove-output",
     "output_scroll"
    ]
   },
   "outputs": [],
   "source": [
    "datasets.load_iris?"
   ]
  },
  {
   "cell_type": "code",
   "execution_count": null,
   "id": "52ebbf3a",
   "metadata": {
    "tags": [
     "output_scroll"
    ]
   },
   "outputs": [],
   "source": [
    "datasets.load_iris??"
   ]
  },
  {
   "cell_type": "markdown",
   "id": "aa2935a6",
   "metadata": {},
   "source": [
    "**How to learn more about the dataset?**"
   ]
  },
  {
   "cell_type": "markdown",
   "id": "c53b410a",
   "metadata": {
    "tags": [
     "output_scroll"
    ]
   },
   "source": [
    "The property `DESCR` (description) is a string that contains some background information about the dataset:"
   ]
  },
  {
   "cell_type": "code",
   "execution_count": null,
   "id": "af9f23eb",
   "metadata": {
    "colab": {
     "base_uri": "https://localhost:8080/",
     "height": 1000
    },
    "colab_type": "code",
    "id": "22xkaKQPwAKv",
    "outputId": "ac56ee89-3c2e-438c-a408-aefc3ba99266",
    "slideshow": {
     "slide_type": "-"
    },
    "tags": [
     "output_scroll"
    ]
   },
   "outputs": [],
   "source": [
    "print(iris.DESCR)"
   ]
  },
  {
   "cell_type": "markdown",
   "id": "082687d8",
   "metadata": {},
   "source": [
    "All the properties of an object can be listed using the built-in function `dir` (directory):"
   ]
  },
  {
   "cell_type": "code",
   "execution_count": null,
   "id": "a60c27d0",
   "metadata": {},
   "outputs": [],
   "source": [
    "dir(iris)"
   ]
  },
  {
   "cell_type": "markdown",
   "id": "82dfcba9",
   "metadata": {},
   "source": [
    "**How to show the data?**"
   ]
  },
  {
   "cell_type": "markdown",
   "id": "1ca4b3a4",
   "metadata": {},
   "source": [
    "The properties `data` and `target` contains the data values."
   ]
  },
  {
   "cell_type": "code",
   "execution_count": null,
   "id": "3e3843d2",
   "metadata": {},
   "outputs": [],
   "source": [
    "type(iris.data), type(iris.target)"
   ]
  },
  {
   "cell_type": "markdown",
   "id": "ff14e860",
   "metadata": {},
   "source": [
    "The data are stored as `numpy` array, a powerful data type optimized for performance. It provides useful properties and methods to describe and process the data:"
   ]
  },
  {
   "cell_type": "code",
   "execution_count": null,
   "id": "7a89b729",
   "metadata": {},
   "outputs": [],
   "source": [
    "iris.data.shape, iris.data.ndim, iris.data.dtype"
   ]
  },
  {
   "cell_type": "markdown",
   "id": "ce1d1f94",
   "metadata": {},
   "source": [
    "`iris.data` is a 150-by-4 2-dimensional array of 64-bit floating-point numbers.\n",
    "- 150 corresponds to the number of instances, while\n",
    "- 4 corresponds to the number of input attributes."
   ]
  },
  {
   "cell_type": "markdown",
   "id": "217ee5d4",
   "metadata": {},
   "source": [
    "To show the input feature names:"
   ]
  },
  {
   "cell_type": "code",
   "execution_count": null,
   "id": "da85d87e",
   "metadata": {},
   "outputs": [],
   "source": [
    "iris.feature_names"
   ]
  },
  {
   "cell_type": "markdown",
   "id": "07c6b76e",
   "metadata": {},
   "source": [
    "To show the means and standard deviations of the input features:"
   ]
  },
  {
   "cell_type": "code",
   "execution_count": null,
   "id": "edda57eb",
   "metadata": {},
   "outputs": [],
   "source": [
    "iris.data.mean(axis=0), iris.data.std(axis=0)"
   ]
  },
  {
   "cell_type": "markdown",
   "id": "138b389c",
   "metadata": {},
   "source": [
    "All the public properties/methods of `numpy` array are printed below:"
   ]
  },
  {
   "cell_type": "code",
   "execution_count": null,
   "id": "1419b468",
   "metadata": {
    "tags": [
     "output_scroll"
    ]
   },
   "outputs": [],
   "source": [
    "import numpy as np  # import numpy and rename it as np\n",
    "\n",
    "[\n",
    "    attr for attr in dir(np.ndarray) if attr[0] != \"_\"\n",
    "]  # private attributes begin with underscore"
   ]
  },
  {
   "cell_type": "markdown",
   "id": "6f55aa91",
   "metadata": {},
   "source": [
    "**What is the target feature?**"
   ]
  },
  {
   "cell_type": "markdown",
   "id": "e5fa8dc9",
   "metadata": {},
   "source": [
    "The target variable of the iris dataset is the flower type, whose names are stored by the following property:"
   ]
  },
  {
   "cell_type": "code",
   "execution_count": null,
   "id": "bd853f19",
   "metadata": {},
   "outputs": [],
   "source": [
    "iris.target_names"
   ]
  },
  {
   "cell_type": "markdown",
   "id": "729365f7",
   "metadata": {},
   "source": [
    "`iris.target` is an array of integer indices from `{0, 1, 2}` for the three classes."
   ]
  },
  {
   "cell_type": "code",
   "execution_count": null,
   "id": "a4c97b37",
   "metadata": {},
   "outputs": [],
   "source": [
    "iris.target"
   ]
  },
  {
   "cell_type": "markdown",
   "id": "3ad40df8",
   "metadata": {},
   "source": [
    "**Exercise** Fill the following cell with a tuple of the following properties for the target (instead of input features) of the iris dataset:\n",
    "- shape, \n",
    "- number of dimensions, and \n",
    "- the data types of the values.\n",
    "\n",
    "Your solution should look like:\n",
    "```Python\n",
    "shape, ndim, dtype = iris.___.___, iris.___.___, iris.___.___\n",
    "```"
   ]
  },
  {
   "cell_type": "code",
   "execution_count": null,
   "id": "5b1974a0",
   "metadata": {
    "deletable": false,
    "nbgrader": {
     "cell_type": "code",
     "checksum": "8bb669bf0ab1d3aa628d540bebe117f8",
     "grade": false,
     "grade_id": "target-info",
     "locked": false,
     "schema_version": 3,
     "solution": true,
     "task": false
    },
    "tags": [
     "remove-output"
    ]
   },
   "outputs": [],
   "source": [
    "# your python code here\n",
    "# end of python code\n",
    "\n",
    "shape, ndim, dtype"
   ]
  },
  {
   "cell_type": "code",
   "execution_count": null,
   "id": "154df846",
   "metadata": {
    "deletable": false,
    "editable": false,
    "nbgrader": {
     "cell_type": "code",
     "checksum": "ffef6369e8984fcbc2d63ce309eb5dcc",
     "grade": true,
     "grade_id": "test-target-info",
     "locked": true,
     "points": 1,
     "schema_version": 3,
     "solution": false,
     "task": false
    },
    "tags": [
     "hide-input",
     "remove-output"
    ]
   },
   "outputs": [],
   "source": [
    "# tests\n",
    "assert (\n",
    "    isinstance(shape, tuple) and isinstance(ndim, int) and isinstance(dtype, np.dtype)\n",
    ")"
   ]
  },
  {
   "cell_type": "code",
   "execution_count": null,
   "id": "165c3fa2",
   "metadata": {
    "deletable": false,
    "editable": false,
    "nbgrader": {
     "cell_type": "code",
     "checksum": "af88d24b5698ef317ffa29ec3baf041f",
     "grade": true,
     "grade_id": "htest-target-info",
     "locked": true,
     "points": 1,
     "schema_version": 3,
     "solution": false,
     "task": false
    },
    "tags": [
     "remove-cell"
    ]
   },
   "outputs": [],
   "source": [
    "# hidden tests"
   ]
  },
  {
   "cell_type": "markdown",
   "id": "11e09684",
   "metadata": {},
   "source": [
    "**Exercise** Fill in the following cell with a tuple of\n",
    "- the list of minimum values of the input features, and\n",
    "- the list of maximum values of the input features.\n",
    "\n",
    "You answer should look like:\n",
    "```Python\n",
    "feature_min, feature_max = iris.___.___(axis=0), iris.___.___(axis=0)\n",
    "```"
   ]
  },
  {
   "cell_type": "code",
   "execution_count": null,
   "id": "d4433b0d",
   "metadata": {
    "deletable": false,
    "nbgrader": {
     "cell_type": "code",
     "checksum": "32908b36fddc803c1cdb5158c3b2a425",
     "grade": false,
     "grade_id": "feature-min-max",
     "locked": false,
     "schema_version": 3,
     "solution": true,
     "task": false
    },
    "tags": [
     "remove-output"
    ]
   },
   "outputs": [],
   "source": [
    "# your python code here\n",
    "# end of python code\n",
    "\n",
    "feature_min, feature_max"
   ]
  },
  {
   "cell_type": "code",
   "execution_count": null,
   "id": "42edd22c",
   "metadata": {
    "deletable": false,
    "editable": false,
    "nbgrader": {
     "cell_type": "code",
     "checksum": "682d008708cf61ff0aeb94379bd910f8",
     "grade": true,
     "grade_id": "test-feature-min-max",
     "locked": true,
     "points": 1,
     "schema_version": 3,
     "solution": false,
     "task": false
    },
    "tags": [
     "hide-input",
     "remove-output"
    ]
   },
   "outputs": [],
   "source": [
    "# tests\n",
    "assert feature_min.shape == (4,) == feature_max.shape"
   ]
  },
  {
   "cell_type": "code",
   "execution_count": null,
   "id": "b11f52cf",
   "metadata": {
    "deletable": false,
    "editable": false,
    "nbgrader": {
     "cell_type": "code",
     "checksum": "4df778c404c78ec4f3c6ec75c89aff65",
     "grade": true,
     "grade_id": "htest-feature-min-max",
     "locked": true,
     "points": 1,
     "schema_version": 3,
     "solution": false,
     "task": false
    },
    "tags": [
     "remove-cell"
    ]
   },
   "outputs": [],
   "source": [
    "# hidden tests"
   ]
  },
  {
   "cell_type": "markdown",
   "id": "2ec0f997",
   "metadata": {},
   "source": [
    "### Create pandas DataFrame"
   ]
  },
  {
   "cell_type": "markdown",
   "id": "2ac6fd75",
   "metadata": {},
   "source": [
    "The [package `pandas`](https://pandas.pydata.org/docs/user_guide/index.html) provides additional tools to display and process a dataset. \n",
    "First, we translate the `Bunch` object into a `pandas` [`DataFrame` object](https://pandas.pydata.org/docs/reference/api/pandas.DataFrame.html?highlight=dataframe#pandas.DataFrame)."
   ]
  },
  {
   "cell_type": "code",
   "execution_count": null,
   "id": "3e00d99b",
   "metadata": {
    "colab": {
     "base_uri": "https://localhost:8080/",
     "height": 418
    },
    "colab_type": "code",
    "id": "ZE5pla5bszpB",
    "outputId": "c37a554b-b30f-4329-f89d-b614815b4675",
    "slideshow": {
     "slide_type": "-"
    }
   },
   "outputs": [],
   "source": [
    "import pandas as pd\n",
    "\n",
    "# write the input features first\n",
    "iris_df = pd.DataFrame(data=iris.data, columns=iris.feature_names)\n",
    "\n",
    "# append the target values to the last column\n",
    "iris_df[\"target\"] = iris.target\n",
    "\n",
    "iris_df  # to display the DataFrame"
   ]
  },
  {
   "cell_type": "markdown",
   "id": "064f981b",
   "metadata": {},
   "source": [
    "In jupyter notebook, a `DataFrame` object is conveniently displayed as an HTML table. We can control how much information to show by setting the [display options](https://pandas.pydata.org/pandas-docs/stable/user_guide/options.html)."
   ]
  },
  {
   "cell_type": "markdown",
   "id": "666192f3",
   "metadata": {},
   "source": [
    "We can also display the statistics of different numerical attributes using the method `describe` and `boxplot`."
   ]
  },
  {
   "cell_type": "code",
   "execution_count": null,
   "id": "d2a63cc2",
   "metadata": {
    "slideshow": {
     "slide_type": "-"
    }
   },
   "outputs": [],
   "source": [
    "iris_df.describe()"
   ]
  },
  {
   "cell_type": "code",
   "execution_count": null,
   "id": "e82d6655",
   "metadata": {
    "slideshow": {
     "slide_type": "-"
    }
   },
   "outputs": [],
   "source": [
    "iris_df.boxplot()"
   ]
  },
  {
   "cell_type": "markdown",
   "id": "6348c23a",
   "metadata": {},
   "source": [
    "**How to handle nominal class attribute?**"
   ]
  },
  {
   "cell_type": "markdown",
   "id": "153e4c47",
   "metadata": {},
   "source": [
    "Note that the boxplot also covers the target attribute, but it should not. (Why?) Let's take a look at the current datatypes of the different attributes."
   ]
  },
  {
   "cell_type": "code",
   "execution_count": null,
   "id": "c7450755",
   "metadata": {
    "slideshow": {
     "slide_type": "fragment"
    }
   },
   "outputs": [],
   "source": [
    "print(iris_df.dtypes)"
   ]
  },
  {
   "cell_type": "markdown",
   "id": "7b609b58",
   "metadata": {},
   "source": [
    "The target is regarded as a numeric attribute with type integer `int64`. Instead, the target should be categorical with only three possible values, one for each iris species."
   ]
  },
  {
   "cell_type": "markdown",
   "id": "b720a018",
   "metadata": {},
   "source": [
    "To fix this, we can use the `astype` method to convert the data type automatically. (More details [here](https://pandas.pydata.org/pandas-docs/stable/user_guide/categorical.html#series-creation.section).)"
   ]
  },
  {
   "cell_type": "code",
   "execution_count": null,
   "id": "b21f4e11",
   "metadata": {
    "slideshow": {
     "slide_type": "fragment"
    }
   },
   "outputs": [],
   "source": [
    "iris_df.target = iris_df.target.astype(\"category\")\n",
    "iris_df.boxplot()  # target is not plotted as expected\n",
    "iris_df.target.dtype"
   ]
  },
  {
   "cell_type": "markdown",
   "id": "18912439",
   "metadata": {},
   "source": [
    "We can also rename the target categories `{0, 1, 2}` to the more meaningful names of the iris species in `iris.target_names`.  \n",
    "(See the [documentation](https://pandas.pydata.org/pandas-docs/stable/user_guide/categorical.html#renaming-categories).)"
   ]
  },
  {
   "cell_type": "code",
   "execution_count": null,
   "id": "392b25fb",
   "metadata": {
    "slideshow": {
     "slide_type": "-"
    },
    "tags": []
   },
   "outputs": [],
   "source": [
    "iris_df.target = iris_df.target.cat.rename_categories(iris.target_names)\n",
    "iris_df  # check that the target values are now setosa, versicolor, or virginica."
   ]
  },
  {
   "cell_type": "markdown",
   "id": "404a2b7c",
   "metadata": {},
   "source": [
    "**Exercise** For nominal attributes, a more meaningful statistic than the mean is the counts of different possible values. To count the number of instances for each flower class, assign `target_counts` to the output of the `value_counts` method of an appropriate column of `iris_df`.\n",
    "\n",
    "Your solution should look like:\n",
    "```Python\n",
    "target_counts = iris_df.target.___()\n",
    "```"
   ]
  },
  {
   "cell_type": "code",
   "execution_count": null,
   "id": "568fc25d",
   "metadata": {
    "deletable": false,
    "nbgrader": {
     "cell_type": "code",
     "checksum": "eef684babfba4d3d26f8da3e921ae97a",
     "grade": false,
     "grade_id": "target_counts",
     "locked": false,
     "schema_version": 3,
     "solution": true,
     "task": false
    },
    "tags": [
     "remove-output"
    ]
   },
   "outputs": [],
   "source": [
    "# your python code here\n",
    "# end of python code\n",
    "\n",
    "target_counts"
   ]
  },
  {
   "cell_type": "code",
   "execution_count": null,
   "id": "3cc3c0ae",
   "metadata": {
    "deletable": false,
    "editable": false,
    "nbgrader": {
     "cell_type": "code",
     "checksum": "68b316e46cb3baa8cdc5895a207ddf91",
     "grade": true,
     "grade_id": "test-target_counts",
     "locked": true,
     "points": 1,
     "schema_version": 3,
     "solution": false,
     "task": false
    },
    "tags": [
     "hide-input",
     "remove-output"
    ]
   },
   "outputs": [],
   "source": [
    "# tests\n",
    "assert target_counts.shape == (3,)"
   ]
  },
  {
   "cell_type": "code",
   "execution_count": null,
   "id": "03dc3ab6",
   "metadata": {
    "deletable": false,
    "editable": false,
    "nbgrader": {
     "cell_type": "code",
     "checksum": "933624bf6a3e6b1441eb8b7373cd653c",
     "grade": true,
     "grade_id": "htest-target_counts",
     "locked": true,
     "points": 1,
     "schema_version": 3,
     "solution": false,
     "task": false
    },
    "tags": [
     "remove-cell"
    ]
   },
   "outputs": [],
   "source": [
    "# hidden tests"
   ]
  },
  {
   "cell_type": "markdown",
   "id": "807d8a83",
   "metadata": {},
   "source": [
    "**How to select specific rows and columns?**"
   ]
  },
  {
   "cell_type": "markdown",
   "id": "6916cf07",
   "metadata": {},
   "source": [
    "The following uses [`ipywidget`](https://ipywidgets.readthedocs.io/en/latest/) to show the different ways of selecting/slicing the rows of a `DataFrame`."
   ]
  },
  {
   "cell_type": "code",
   "execution_count": null,
   "id": "0e9c6099",
   "metadata": {
    "slideshow": {
     "slide_type": "-"
    }
   },
   "outputs": [],
   "source": [
    "from ipywidgets import interact\n",
    "\n",
    "\n",
    "@interact(\n",
    "    command=[\n",
    "        \"iris_df.head()\",\n",
    "        \"iris_df[0:4]\",\n",
    "        \"iris_df.iloc[0:4]\",\n",
    "        \"iris_df.loc[0:4]\",\n",
    "        \"iris_df.loc[iris_df.index.isin(range(0,4))]\",\n",
    "        \"iris_df.loc[lambda df: df.target=='setosa']\",\n",
    "        \"iris_df.tail()\",\n",
    "        \"iris_df[-1:]\",\n",
    "    ]\n",
    ")\n",
    "def select_rows(command):\n",
    "    output = eval(command)\n",
    "    display.display(output)"
   ]
  },
  {
   "cell_type": "markdown",
   "id": "a86b4f94",
   "metadata": {},
   "source": [
    "The following shows the different ways of slicing the columns."
   ]
  },
  {
   "cell_type": "code",
   "execution_count": null,
   "id": "cd8e1f95",
   "metadata": {
    "slideshow": {
     "slide_type": "-"
    }
   },
   "outputs": [],
   "source": [
    "@interact(\n",
    "    command=[\n",
    "        \"iris_df.target\",\n",
    "        'iris_df[\"target\"]',\n",
    "        'iris_df[[\"target\"]]',\n",
    "        \"iris_df[iris_df.columns[:-1]]\",\n",
    "        \"iris_df.loc[:,iris_df.columns[0]:iris_df.columns[-1]]\",\n",
    "        'iris_df.loc[:,~iris_df.columns.isin([\"target\"])]',\n",
    "        \"iris_df.iloc[:,:-1]\",\n",
    "    ]\n",
    ")\n",
    "def select_columns(command):\n",
    "    output = eval(command)\n",
    "    display.display(output)"
   ]
  },
  {
   "cell_type": "markdown",
   "id": "63e0844f",
   "metadata": {},
   "source": [
    "For instance, to compute the mean values of the input features for iris setosa:"
   ]
  },
  {
   "cell_type": "code",
   "execution_count": null,
   "id": "257b786e",
   "metadata": {},
   "outputs": [],
   "source": [
    "iris_df.iloc[lambda df: (df[\"target\"] == \"setosa\").to_numpy(), :-1].mean()"
   ]
  },
  {
   "cell_type": "markdown",
   "id": "4224bfec",
   "metadata": {},
   "source": [
    "We can also use the method `groupby` to obtain the mean values by flower types:"
   ]
  },
  {
   "cell_type": "code",
   "execution_count": null,
   "id": "417ad561",
   "metadata": {},
   "outputs": [],
   "source": [
    "iris_df.groupby(\"target\").mean()"
   ]
  },
  {
   "cell_type": "markdown",
   "id": "280e6757",
   "metadata": {},
   "source": [
    "**Exercise** Using the method `drop`, create a new `DataFrame` `iris2d_df` by dropping the first two features `sepal length (cm)` and `sepal width (cm)` from `iris_df`."
   ]
  },
  {
   "cell_type": "code",
   "execution_count": null,
   "id": "3c901492",
   "metadata": {
    "tags": [
     "remove-cell"
    ]
   },
   "outputs": [],
   "source": [
    "# to learn how to use drop\n",
    "iris_df.drop?"
   ]
  },
  {
   "cell_type": "code",
   "execution_count": null,
   "id": "77491495",
   "metadata": {
    "deletable": false,
    "nbgrader": {
     "cell_type": "code",
     "checksum": "bc6bf26ad1b865c31db77094cb46912d",
     "grade": false,
     "grade_id": "iris2d",
     "locked": false,
     "schema_version": 3,
     "solution": true,
     "task": false
    },
    "tags": [
     "remove-output"
    ]
   },
   "outputs": [],
   "source": [
    "# your python code here\n",
    "# end of python code\n",
    "\n",
    "iris2d_df"
   ]
  },
  {
   "cell_type": "code",
   "execution_count": null,
   "id": "4a77b835",
   "metadata": {
    "deletable": false,
    "editable": false,
    "nbgrader": {
     "cell_type": "code",
     "checksum": "62668aeb2585295c8f6eefddca62d45e",
     "grade": true,
     "grade_id": "test-iris2d",
     "locked": true,
     "points": 1,
     "schema_version": 3,
     "solution": false,
     "task": false
    },
    "tags": [
     "hide-input",
     "remove-output"
    ]
   },
   "outputs": [],
   "source": [
    "# tests\n",
    "assert set(iris2d_df.columns) == {\"petal length (cm)\", \"petal width (cm)\", \"target\"}"
   ]
  },
  {
   "cell_type": "code",
   "execution_count": null,
   "id": "a6529945",
   "metadata": {
    "deletable": false,
    "editable": false,
    "nbgrader": {
     "cell_type": "code",
     "checksum": "71e57cc1145c2127b72f8ff082c596d6",
     "grade": true,
     "grade_id": "htest-iris2d",
     "locked": true,
     "points": 1,
     "schema_version": 3,
     "solution": false,
     "task": false
    },
    "tags": [
     "remove-cell"
    ]
   },
   "outputs": [],
   "source": [
    "## hidden tests"
   ]
  },
  {
   "cell_type": "markdown",
   "id": "6626c2c6",
   "metadata": {},
   "source": [
    "### Alternative methods of loading a dataset"
   ]
  },
  {
   "cell_type": "markdown",
   "id": "a533bdc1",
   "metadata": {},
   "source": [
    "The following code loads the iris dataset from an [ARFF file](https://waikato.github.io/weka-wiki/formats_and_processing/arff/) instead."
   ]
  },
  {
   "cell_type": "code",
   "execution_count": null,
   "id": "74e49393",
   "metadata": {},
   "outputs": [],
   "source": [
    "import io\n",
    "import urllib.request\n",
    "\n",
    "from scipy.io import arff\n",
    "\n",
    "ftpstream = urllib.request.urlopen(\n",
    "    \"https://raw.githubusercontent.com/Waikato/weka-3.8/master/wekadocs/data/iris.arff\"\n",
    ")\n",
    "iris_arff = arff.loadarff(io.StringIO(ftpstream.read().decode(\"utf-8\")))\n",
    "iris_df2 = pd.DataFrame(iris_arff[0])\n",
    "iris_df2[\"class\"] = iris_df2[\"class\"].astype(\"category\")\n",
    "iris_df2"
   ]
  },
  {
   "cell_type": "markdown",
   "id": "bed9c8e7",
   "metadata": {},
   "source": [
    "Pandas also provides a method to read the iris dataset directly from a CSV file locally or the internet, such as the [UCI respository](https://archive.ics.uci.edu/ml/datasets/iris)."
   ]
  },
  {
   "cell_type": "code",
   "execution_count": null,
   "id": "88c951ff",
   "metadata": {
    "slideshow": {
     "slide_type": "-"
    },
    "tags": []
   },
   "outputs": [],
   "source": [
    "iris_df3 = pd.read_csv(\n",
    "    \"https://archive.ics.uci.edu/ml/machine-learning-databases/iris/iris.data\",\n",
    "    sep=\",\",\n",
    "    dtype={\"target\": \"category\"},\n",
    "    header=None,\n",
    "    names=iris.feature_names + [\"target\"],\n",
    ")\n",
    "iris_df3"
   ]
  },
  {
   "cell_type": "markdown",
   "id": "0450699a",
   "metadata": {},
   "source": [
    "The additional arguments `dtype`, `header`, and `names` allow us to specify the attribute datatypes and names."
   ]
  },
  {
   "cell_type": "markdown",
   "id": "72283551",
   "metadata": {},
   "source": [
    "## Training and Testing"
   ]
  },
  {
   "cell_type": "markdown",
   "id": "3661a0dd",
   "metadata": {},
   "source": [
    "To obtain unbiased performance estimates of a learning algorithm, the fundamental principle is *to use separate datasets for training and testing*."
   ]
  },
  {
   "cell_type": "markdown",
   "id": "cecc351b",
   "metadata": {},
   "source": [
    "If there is only one dataset, we should split it into *training sets* and *test sets* by *random sampling* to avoid bias in the performance estimate. In the following subsections, we will illustrate some methods of splitting the datasets for training and testing."
   ]
  },
  {
   "cell_type": "markdown",
   "id": "dcf39ab3",
   "metadata": {},
   "source": [
    "### Stratified holdout method"
   ]
  },
  {
   "cell_type": "markdown",
   "id": "bbc3fb45",
   "metadata": {},
   "source": [
    "This method randomly samples data for training or testing without replacement. It is implemented by the `train_test_split` function from the `sklearn.model_selection` package."
   ]
  },
  {
   "cell_type": "code",
   "execution_count": null,
   "id": "55ad8cd5",
   "metadata": {
    "colab": {},
    "colab_type": "code",
    "id": "t3tbDaTINzM4",
    "slideshow": {
     "slide_type": "fragment"
    }
   },
   "outputs": [],
   "source": [
    "from sklearn.model_selection import train_test_split\n",
    "\n",
    "X_train, X_test, Y_train, Y_test = train_test_split(\n",
    "    iris_df[iris.feature_names],  # We also separated the input features\n",
    "    iris_df.target,  # and target as X and Y for the training and test sets.\n",
    "    test_size=0.2,  # fraction for test set\n",
    "    random_state=1,\n",
    "    stratify=iris_df.target,\n",
    ")  # random seed\n",
    "\n",
    "X_train.shape, X_test.shape, Y_train.shape, Y_test.shape"
   ]
  },
  {
   "cell_type": "markdown",
   "id": "05303bfb",
   "metadata": {},
   "source": [
    "The fraction of holdout test data is:"
   ]
  },
  {
   "cell_type": "code",
   "execution_count": null,
   "id": "5d867b37",
   "metadata": {},
   "outputs": [],
   "source": [
    "len(Y_test) / (len(Y_test) + len(Y_train))"
   ]
  },
  {
   "cell_type": "markdown",
   "id": "9067017b",
   "metadata": {},
   "source": [
    "The class proportion of the iris dataset can be plotted as follows:"
   ]
  },
  {
   "cell_type": "code",
   "execution_count": null,
   "id": "edbe7906",
   "metadata": {},
   "outputs": [],
   "source": [
    "iris_df.target.value_counts().plot(kind=\"bar\", ylabel=\"counts\")"
   ]
  },
  {
   "cell_type": "markdown",
   "id": "be7788d5",
   "metadata": {},
   "source": [
    "We can check the effect of stratification on the class proportions:"
   ]
  },
  {
   "cell_type": "code",
   "execution_count": null,
   "id": "3b4f2a5d",
   "metadata": {
    "slideshow": {
     "slide_type": "-"
    }
   },
   "outputs": [],
   "source": [
    "@interact(stratify=False, data=[\"Y_train\", \"Y_test\"], seed=(0, 10))\n",
    "def plot_class_proportions(stratify, data, seed=0):\n",
    "    Y_train, Y_test = train_test_split(\n",
    "        iris_df.target,\n",
    "        test_size=0.2,\n",
    "        random_state=seed,\n",
    "        stratify=iris_df.target if stratify else None,\n",
    "    )\n",
    "    eval(data).value_counts().sort_index().plot(kind=\"bar\", ylabel=\"counts\")"
   ]
  },
  {
   "cell_type": "markdown",
   "id": "966d366c",
   "metadata": {},
   "source": [
    "We first apply a learning algorithm, say the decision tree induction algorithm, to train a classifier using only the training set."
   ]
  },
  {
   "cell_type": "code",
   "execution_count": null,
   "id": "1ee1d236",
   "metadata": {
    "colab": {},
    "colab_type": "code",
    "id": "EllmT0GtOaWi",
    "slideshow": {
     "slide_type": "fragment"
    }
   },
   "outputs": [],
   "source": [
    "from sklearn import tree\n",
    "\n",
    "clf = tree.DecisionTreeClassifier(random_state=0)  # the training is also randomized\n",
    "clf.fit(X_train, Y_train)  # fit the model to the training set"
   ]
  },
  {
   "cell_type": "markdown",
   "id": "eafcc20b",
   "metadata": {},
   "source": [
    "We can use the `predict` method of the trained classifier to predict the flower type from input features."
   ]
  },
  {
   "cell_type": "code",
   "execution_count": null,
   "id": "47964840",
   "metadata": {},
   "outputs": [],
   "source": [
    "Y_pred = clf.predict(X_test)\n",
    "Y_pred"
   ]
  },
  {
   "cell_type": "markdown",
   "id": "096363fe",
   "metadata": {},
   "source": [
    "The following code returns the accuracy of the classifier, namely, the fraction of correct predictions on the test set."
   ]
  },
  {
   "cell_type": "code",
   "execution_count": null,
   "id": "548c832d",
   "metadata": {},
   "outputs": [],
   "source": [
    "accuracy_holdout = (Y_pred == Y_test).mean()\n",
    "accuracy_holdout"
   ]
  },
  {
   "cell_type": "markdown",
   "id": "55b1c95c",
   "metadata": {},
   "source": [
    "The `score` method performs essentially the same computation. \n",
    "\n",
    "```{note}\n",
    "The following code uses f-string to format the accuracy to 3 decimal places.\n",
    "```"
   ]
  },
  {
   "cell_type": "code",
   "execution_count": null,
   "id": "af1092d0",
   "metadata": {},
   "outputs": [],
   "source": [
    "print(f\"Accuracy: {clf.score(X_test, Y_test):0.3f}\")"
   ]
  },
  {
   "cell_type": "markdown",
   "id": "02964853",
   "metadata": {},
   "source": [
    "To see input features of misclassified test instances:"
   ]
  },
  {
   "cell_type": "code",
   "execution_count": null,
   "id": "2a487ce2",
   "metadata": {},
   "outputs": [],
   "source": [
    "X_test[Y_pred != Y_test]"
   ]
  },
  {
   "cell_type": "markdown",
   "id": "744218be",
   "metadata": {},
   "source": [
    "**Exercise** Assign `accuracy_holdout_training_set` to the accuracy of the predictions on the training set. Check that the accuracy is overly optimistic."
   ]
  },
  {
   "cell_type": "code",
   "execution_count": null,
   "id": "98e6dc82",
   "metadata": {
    "deletable": false,
    "nbgrader": {
     "cell_type": "code",
     "checksum": "372e6de5078b2817e15f5c73433fd500",
     "grade": false,
     "grade_id": "accuracy_holdout_training_set",
     "locked": false,
     "schema_version": 3,
     "solution": true,
     "task": false
    },
    "tags": [
     "hide-input",
     "remove-output"
    ]
   },
   "outputs": [],
   "source": [
    "# your python code here\n",
    "# end of python code\n",
    "\n",
    "accuracy_holdout_training_set"
   ]
  },
  {
   "cell_type": "code",
   "execution_count": null,
   "id": "9616e1f5",
   "metadata": {
    "deletable": false,
    "editable": false,
    "nbgrader": {
     "cell_type": "code",
     "checksum": "a5367ecea97657d0c7f04d774adfaa2f",
     "grade": true,
     "grade_id": "test-accuracy_holdout_training_set",
     "locked": true,
     "points": 1,
     "schema_version": 3,
     "solution": false,
     "task": false
    },
    "tags": [
     "remove-cell"
    ]
   },
   "outputs": [],
   "source": [
    "# hidden tests"
   ]
  },
  {
   "cell_type": "markdown",
   "id": "37f70466",
   "metadata": {},
   "source": [
    "**Exercise** Complete the following function which applies random subsampling to reduce the variance of the accuracy estimate. In particular, the function `subsampling_score` should return the average of `N` accuracies of $20\\%$ stratified holdout with random seed set from `0` up to `N-1`, where `N` is the integer input argument of the function."
   ]
  },
  {
   "cell_type": "code",
   "execution_count": null,
   "id": "ca73bffb",
   "metadata": {
    "deletable": false,
    "nbgrader": {
     "cell_type": "code",
     "checksum": "80a536e3d9cf6e13554b9f02b89f8fc4",
     "grade": false,
     "grade_id": "subsampling",
     "locked": false,
     "schema_version": 3,
     "solution": true,
     "task": false
    },
    "slideshow": {
     "slide_type": "-"
    },
    "tags": [
     "remove-output"
    ]
   },
   "outputs": [],
   "source": [
    "from functools import lru_cache\n",
    "\n",
    "import numpy as np\n",
    "\n",
    "\n",
    "@lru_cache(None)  # cache the return value to avoid repeated computation\n",
    "def holdout_score(seed):\n",
    "    clf = tree.DecisionTreeClassifier(random_state=seed)\n",
    "    X_train, X_test, Y_train, Y_test = train_test_split(\n",
    "        iris_df[iris.feature_names], iris_df.target, test_size=0.2, random_state=seed\n",
    "    )\n",
    "    # your python code here\n",
    "    # end of python code\n",
    "    \n",
    "\n",
    "\n",
    "@lru_cache(None)\n",
    "def subsampling_score(N):\n",
    "    return sum(holdout_score(i) for i in range(N)) / N"
   ]
  },
  {
   "cell_type": "code",
   "execution_count": null,
   "id": "214a6929",
   "metadata": {
    "deletable": false,
    "editable": false,
    "nbgrader": {
     "cell_type": "code",
     "checksum": "3c20b96e07a28aaa2b9889de7c89ade0",
     "grade": true,
     "grade_id": "test-subsampling",
     "locked": true,
     "points": 1,
     "schema_version": 3,
     "solution": false,
     "task": false
    },
    "tags": [
     "hide-input",
     "remove-output"
    ]
   },
   "outputs": [],
   "source": [
    "# tests\n",
    "assert np.isclose(subsampling_score(50), 0.9466666666666663)"
   ]
  },
  {
   "cell_type": "code",
   "execution_count": null,
   "id": "3f492b2a",
   "metadata": {
    "deletable": false,
    "editable": false,
    "nbgrader": {
     "cell_type": "code",
     "checksum": "fec78d6ef292f40f4af702b7dcf2a955",
     "grade": true,
     "grade_id": "htest-subsampling",
     "locked": true,
     "points": 1,
     "schema_version": 3,
     "solution": false,
     "task": false
    },
    "tags": [
     "remove-cell"
    ]
   },
   "outputs": [],
   "source": [
    "# hidden tests"
   ]
  },
  {
   "cell_type": "markdown",
   "id": "90950917",
   "metadata": {},
   "source": [
    "After implementing `subsampling_score`, the following code should plot the mean accuracies for different `N`. Check that the variation becomes smaller as `N` increases."
   ]
  },
  {
   "cell_type": "code",
   "execution_count": null,
   "id": "06f42877",
   "metadata": {
    "tags": [
     "remove-output"
    ]
   },
   "outputs": [],
   "source": [
    "import matplotlib.pyplot as plt\n",
    "\n",
    "plt.stem([subsampling_score(i) for i in range(1, 50)])\n",
    "plt.xlabel(r\"$N$\")\n",
    "plt.ylabel(r\"Mean accuracy\")"
   ]
  },
  {
   "cell_type": "markdown",
   "id": "67489928",
   "metadata": {},
   "source": [
    "The documentation [here](https://ogrisel.github.io/scikit-learn.org/sklearn-tutorial/modules/generated/sklearn.cross_validation.Bootstrap.html) describes another alternative called the bootstrap method, which samples without replacement. Unlike the original bootstrap method, the test set is also sampled with replacement instead of taken directly from the out-of-the-bag instances, which are not used for training."
   ]
  },
  {
   "cell_type": "markdown",
   "id": "153f19e3",
   "metadata": {},
   "source": [
    "### Stratified cross-validation"
   ]
  },
  {
   "cell_type": "markdown",
   "id": "b198366d",
   "metadata": {},
   "source": [
    "Another method of evaluating a classification algorithm is to randomly partition the data into $k$ *folds*, which are nearly equal-sized blocks of instances. The score is the average of the accuracies obtained by using each fold to test a classifier trained using the remaining folds."
   ]
  },
  {
   "cell_type": "markdown",
   "id": "7a742a7d",
   "metadata": {},
   "source": [
    "The module `sklearn.model_selection` provides two functions `cross_val_predict` and `cross_val_score` for this purpose."
   ]
  },
  {
   "cell_type": "code",
   "execution_count": null,
   "id": "3e8d5d5a",
   "metadata": {},
   "outputs": [],
   "source": [
    "from sklearn.model_selection import StratifiedKFold, cross_val_predict, cross_val_score\n",
    "\n",
    "cv = StratifiedKFold(n_splits=5, random_state=0, shuffle=True)"
   ]
  },
  {
   "cell_type": "markdown",
   "id": "0cff6499",
   "metadata": {},
   "source": [
    "For instance, the following returns the misclassified instances by 5-fold cross-validation."
   ]
  },
  {
   "cell_type": "code",
   "execution_count": null,
   "id": "68bd7e70",
   "metadata": {
    "colab": {},
    "colab_type": "code",
    "id": "lkopY_9pj12l",
    "slideshow": {
     "slide_type": "subslide"
    }
   },
   "outputs": [],
   "source": [
    "iris_df[\"prediction\"] = pd.Categorical(\n",
    "    cross_val_predict(clf, iris_df[iris.feature_names], iris_df.target, cv=cv)\n",
    ")\n",
    "iris_df.loc[lambda df: df[\"target\"] != df[\"prediction\"]]"
   ]
  },
  {
   "cell_type": "code",
   "execution_count": null,
   "id": "adcc67dc",
   "metadata": {},
   "outputs": [],
   "source": [
    "clf = tree.DecisionTreeClassifier(random_state=0)\n",
    "scores = cross_val_score(clf, iris_df[iris.feature_names], iris_df.target, cv=5)\n",
    "print(\"Accuracies: \", \", \".join(f\"{acc:.4f}\" for acc in scores))\n",
    "print(f\"Mean accuracy: {scores.mean():.4f}\")"
   ]
  },
  {
   "cell_type": "markdown",
   "id": "470106da",
   "metadata": {},
   "source": [
    "**Exercise** Assign `accuracy_cv` to the accuracy obtained by the cross validation result above."
   ]
  },
  {
   "cell_type": "code",
   "execution_count": null,
   "id": "a030853d",
   "metadata": {
    "colab": {},
    "colab_type": "code",
    "deletable": false,
    "id": "ZE5pla5bszpB",
    "nbgrader": {
     "cell_type": "code",
     "checksum": "45f3dbae3411261ff7133387734b3ac2",
     "grade": false,
     "grade_id": "cv_score",
     "locked": false,
     "schema_version": 3,
     "solution": true,
     "task": false
    },
    "slideshow": {
     "slide_type": "-"
    },
    "tags": [
     "remove-output",
     "hide-input"
    ]
   },
   "outputs": [],
   "source": [
    "# your python code here\n",
    "# end of python code\n",
    "\n",
    "accuracy_cv"
   ]
  },
  {
   "cell_type": "code",
   "execution_count": null,
   "id": "cd4e96ec",
   "metadata": {
    "deletable": false,
    "editable": false,
    "nbgrader": {
     "cell_type": "code",
     "checksum": "67b269d410e96883590613fa9c2db59b",
     "grade": true,
     "grade_id": "test-cv_score",
     "locked": true,
     "points": 1,
     "schema_version": 3,
     "solution": false,
     "task": false
    },
    "slideshow": {
     "slide_type": "-"
    },
    "tags": [
     "remove-cell"
    ]
   },
   "outputs": [],
   "source": [
    "# hidden tests"
   ]
  }
 ],
 "metadata": {
  "kernelspec": {
   "display_name": "Python 3 (ipykernel)",
   "language": "python",
   "name": "python3"
  },
  "language_info": {
   "codemirror_mode": {
    "name": "ipython",
    "version": 3
   },
   "file_extension": ".py",
   "mimetype": "text/x-python",
   "name": "python",
   "nbconvert_exporter": "python",
   "pygments_lexer": "ipython3",
   "version": "3.10.8"
  },
  "widgets": {
   "application/vnd.jupyter.widget-state+json": {
    "state": {},
    "version_major": 2,
    "version_minor": 0
   }
  }
 },
 "nbformat": 4,
 "nbformat_minor": 5
}
