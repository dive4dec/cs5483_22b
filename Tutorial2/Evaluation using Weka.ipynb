{
 "cells": [
  {
   "cell_type": "markdown",
   "id": "ca927e17",
   "metadata": {
    "slideshow": {
     "slide_type": "slide"
    }
   },
   "source": [
    "# Evaluation using Weka"
   ]
  },
  {
   "cell_type": "markdown",
   "id": "ea9cbea2",
   "metadata": {
    "slideshow": {
     "slide_type": "-"
    },
    "tags": [
     "remove-cell"
    ]
   },
   "source": [
    "**CS5483 Data Warehousing and Data Mining**\n",
    "___"
   ]
  },
  {
   "cell_type": "markdown",
   "id": "0404d54f",
   "metadata": {
    "slideshow": {
     "slide_type": "fragment"
    }
   },
   "source": [
    "Use Weka to do [\\[Witten11\\] Exercises 17.1.3 and 17.1.10][Witten11]. You may refer to [Chapter 10][ch10] for a more detailed introduction to Weka.\n",
    "  \n",
    "[Witten11]: https://ebookcentral.proquest.com/lib/cityuhk/reader.action?docID=634862&ppg=595\n",
    "[visualize]: https://ebookcentral.proquest.com/lib/cityuhk/reader.action?docID=634862&ppg=597\n",
    "[ch10]: https://ebookcentral.proquest.com/lib/cityuhk/reader.action?ppg=438&docID=634862&tm=1547446912037"
   ]
  },
  {
   "cell_type": "markdown",
   "id": "28eeba92",
   "metadata": {},
   "source": [
    "```{tip}\n",
    "\n",
    "- You can create new markdown cells and copy and paste images to the cell.\n",
    "- You should put your final answers to the designated solution cells for grading.\n",
    "\n",
    "```"
   ]
  },
  {
   "cell_type": "markdown",
   "id": "3da53699",
   "metadata": {},
   "source": [
    "## The Dataset Editor"
   ]
  },
  {
   "cell_type": "markdown",
   "id": "206ce22a",
   "metadata": {},
   "source": [
    "After loading the data in the preprocess panel, we can inspect or change the data using the dataset editor."
   ]
  },
  {
   "cell_type": "markdown",
   "id": "e1acbc74",
   "metadata": {},
   "source": [
    "![Dataset Editor](images/dataset_editor.dio.svg)"
   ]
  },
  {
   "cell_type": "markdown",
   "id": "8a96b4b2",
   "metadata": {
    "slideshow": {
     "slide_type": "subslide"
    }
   },
   "source": [
    "**Ex 17.1.3**"
   ]
  },
  {
   "cell_type": "markdown",
   "id": "ee64366c",
   "metadata": {
    "deletable": false,
    "nbgrader": {
     "cell_type": "markdown",
     "checksum": "439dcdac5ad6a2499e71a47bf96fd2c1",
     "grade": true,
     "grade_id": "Witten11-17-1-3",
     "locked": false,
     "points": 1,
     "schema_version": 3,
     "solution": true,
     "task": false
    },
    "slideshow": {
     "slide_type": "-"
    },
    "tags": [
     "remove-output"
    ]
   },
   "source": [
    "YOUR ANSWER HERE"
   ]
  },
  {
   "cell_type": "markdown",
   "id": "202b9df8",
   "metadata": {
    "slideshow": {
     "slide_type": "subslide"
    }
   },
   "source": [
    "**Ex 17.1.4**"
   ]
  },
  {
   "cell_type": "markdown",
   "id": "981ef94b",
   "metadata": {
    "deletable": false,
    "nbgrader": {
     "cell_type": "markdown",
     "checksum": "cd6d4b1b64c36b50eb5ad2b195cff2de",
     "grade": true,
     "grade_id": "Witten11-17-1-4",
     "locked": false,
     "points": 1,
     "schema_version": 3,
     "solution": true,
     "task": false
    },
    "slideshow": {
     "slide_type": "-"
    },
    "tags": [
     "remove-output"
    ]
   },
   "source": [
    "YOUR ANSWER HERE"
   ]
  },
  {
   "cell_type": "markdown",
   "id": "42aeb74a",
   "metadata": {
    "slideshow": {
     "slide_type": "subslide"
    }
   },
   "source": [
    "**Ex 17.1.5**"
   ]
  },
  {
   "cell_type": "markdown",
   "id": "34f875fa",
   "metadata": {
    "deletable": false,
    "nbgrader": {
     "cell_type": "markdown",
     "checksum": "63bd09fef7bacd9021efe84fbd408f1f",
     "grade": true,
     "grade_id": "Witten11-17-1-5",
     "locked": false,
     "points": 1,
     "schema_version": 3,
     "solution": true,
     "task": false
    },
    "slideshow": {
     "slide_type": "-"
    },
    "tags": [
     "remove-output"
    ]
   },
   "source": [
    "YOUR ANSWER HERE"
   ]
  },
  {
   "cell_type": "markdown",
   "id": "804eac97",
   "metadata": {},
   "source": [
    "## Applying a Filter"
   ]
  },
  {
   "cell_type": "markdown",
   "id": "9ca3a2ae",
   "metadata": {},
   "source": [
    "We can also modify the data using filters. After selecting a filter, we can left-click the filter to change its configuration or right-click the filter configuration in Weka to copy the configuration to the clipboard.\n",
    "\n",
    "![Filter](images/filter.dio.svg)"
   ]
  },
  {
   "cell_type": "markdown",
   "id": "e5ad4024",
   "metadata": {
    "slideshow": {
     "slide_type": "subslide"
    }
   },
   "source": [
    "**Ex 17.1.6-7** \n",
    "\n",
    "Give the configuration of the filter of interest. E.g., the following is the default configuration for the `RemoveWithValues` filter:\n",
    "\n",
    "```shell\n",
    "weka.filters.unsupervised.instance.RemoveWithValues -S 0.0 -C last -L first-last\n",
    "```"
   ]
  },
  {
   "cell_type": "markdown",
   "id": "846670fc",
   "metadata": {
    "deletable": false,
    "nbgrader": {
     "cell_type": "markdown",
     "checksum": "979493b18d2be7f57940affd8acf5fc2",
     "grade": true,
     "grade_id": "Witten11-17-1-67",
     "locked": false,
     "points": 1,
     "schema_version": 3,
     "solution": true,
     "task": false
    },
    "slideshow": {
     "slide_type": "-"
    },
    "tags": [
     "remove-output"
    ]
   },
   "source": [
    "YOUR ANSWER HERE"
   ]
  },
  {
   "cell_type": "markdown",
   "id": "f7d2d1a6",
   "metadata": {},
   "source": [
    "## The Classify Panel"
   ]
  },
  {
   "cell_type": "markdown",
   "id": "e02260f2",
   "metadata": {},
   "source": [
    "To train a classifier, use the classify panel to select a classification algorithm and start the training."
   ]
  },
  {
   "cell_type": "markdown",
   "id": "69e3cbc6",
   "metadata": {},
   "source": [
    "![Classify](images/classify.dio.svg)"
   ]
  },
  {
   "cell_type": "markdown",
   "id": "55752449",
   "metadata": {},
   "source": [
    "- The default test options use 10-fold cross-validation but we can choose to \n",
    "  - use the training set for testing,\n",
    "  - supply a separate dataset for testing, or\n",
    "  - use only a specified percentage of the original data for training and holdout the remaining data for testing.\n",
    "- We can right-click the result in the result list to visualize the classifier errors. \n",
    "- For decision tree classifier, we can sometimes visualize the tree in addition to its text representation from the Classifier output."
   ]
  },
  {
   "cell_type": "markdown",
   "id": "ae3e1d60",
   "metadata": {
    "slideshow": {
     "slide_type": "subslide"
    }
   },
   "source": [
    "**Ex 17.1.8**"
   ]
  },
  {
   "cell_type": "markdown",
   "id": "8b9a4753",
   "metadata": {
    "deletable": false,
    "nbgrader": {
     "cell_type": "markdown",
     "checksum": "fc9f35e945335120c28039a65fc6d1ce",
     "grade": true,
     "grade_id": "Witten11-17-1-8",
     "locked": false,
     "points": 1,
     "schema_version": 3,
     "solution": true,
     "task": false
    },
    "slideshow": {
     "slide_type": "-"
    },
    "tags": [
     "remove-output"
    ]
   },
   "source": [
    "YOUR ANSWER HERE"
   ]
  },
  {
   "cell_type": "markdown",
   "id": "3be54f5a",
   "metadata": {
    "slideshow": {
     "slide_type": "subslide"
    }
   },
   "source": [
    "**Ex 17.1.9**"
   ]
  },
  {
   "cell_type": "markdown",
   "id": "8896a4a8",
   "metadata": {
    "deletable": false,
    "nbgrader": {
     "cell_type": "markdown",
     "checksum": "695e6921ccb4b42fbe56c91cd431b7f2",
     "grade": true,
     "grade_id": "Witten11-17-1-9",
     "locked": false,
     "points": 1,
     "schema_version": 3,
     "solution": true,
     "task": false
    },
    "slideshow": {
     "slide_type": "-"
    },
    "tags": [
     "remove-output"
    ]
   },
   "source": [
    "YOUR ANSWER HERE"
   ]
  },
  {
   "cell_type": "markdown",
   "id": "f0aba1dd",
   "metadata": {},
   "source": [
    "**Ex 17.1.10**"
   ]
  },
  {
   "cell_type": "markdown",
   "id": "989cff36",
   "metadata": {
    "deletable": false,
    "nbgrader": {
     "cell_type": "markdown",
     "checksum": "29c4c5b4b489b53d8acd8e3913522061",
     "grade": true,
     "grade_id": "Witten11-17-1-10",
     "locked": false,
     "points": 1,
     "schema_version": 3,
     "solution": true,
     "task": false
    },
    "tags": [
     "remove-output"
    ]
   },
   "source": [
    "YOUR ANSWER HERE"
   ]
  }
 ],
 "metadata": {
  "kernelspec": {
   "display_name": "Python 3 (ipykernel)",
   "language": "python",
   "name": "python3"
  },
  "language_info": {
   "codemirror_mode": {
    "name": "ipython",
    "version": 3
   },
   "file_extension": ".py",
   "mimetype": "text/x-python",
   "name": "python",
   "nbconvert_exporter": "python",
   "pygments_lexer": "ipython3",
   "version": "3.10.8"
  },
  "widgets": {
   "application/vnd.jupyter.widget-state+json": {
    "state": {},
    "version_major": 2,
    "version_minor": 0
   }
  }
 },
 "nbformat": 4,
 "nbformat_minor": 5
}
