{
 "cells": [
  {
   "cell_type": "markdown",
   "id": "fb59089d",
   "metadata": {},
   "source": [
    "# Partitional Clustering"
   ]
  },
  {
   "cell_type": "markdown",
   "id": "2e2e461e",
   "metadata": {
    "tags": [
     "remove-cell"
    ]
   },
   "source": [
    "**CS5483 Data Warehousing and Data Mining**\n",
    " ___"
   ]
  },
  {
   "cell_type": "code",
   "execution_count": null,
   "id": "dd905ee2",
   "metadata": {
    "init_cell": true,
    "slideshow": {
     "slide_type": "-"
    }
   },
   "outputs": [],
   "source": [
    "import ipywidgets as widgets\n",
    "import matplotlib.pyplot as plt\n",
    "import numpy as np\n",
    "import pandas as pd\n",
    "from IPython.display import Code\n",
    "from ipywidgets import interact\n",
    "from sklearn import datasets, preprocessing\n",
    "from sklearn.cluster import KMeans\n",
    "from sklearn.pipeline import make_pipeline\n",
    "from util import plot_cluster_regions\n",
    "\n",
    "%matplotlib widget"
   ]
  },
  {
   "cell_type": "markdown",
   "id": "883a3587",
   "metadata": {},
   "source": [
    "Recall that the classification problem for the iris dataset is to classify the iris species based on the lengths and widths of the petals and sepals. In this notebook, we will cluster the instances in the iris dataset with the class attribute removed. The purpose is to evaluate whether a partitional clustering algorithm can identify the 3 different iris species without looking at the class attribute."
   ]
  },
  {
   "cell_type": "markdown",
   "id": "bfc4f43c",
   "metadata": {},
   "source": [
    "```{caution}\n",
    "If the objective were to classify the iris dataset, removing the class attribute is not a good idea since it gives valuable information about the relationship between the input features and the target.\n",
    "```"
   ]
  },
  {
   "cell_type": "markdown",
   "id": "0a96ae42",
   "metadata": {},
   "source": [
    "## Clustering using Weka"
   ]
  },
  {
   "cell_type": "markdown",
   "id": "2dce3af1",
   "metadata": {},
   "source": [
    "The Explorer interface has a `Cluster` panel for clustering. Follow the procedures below to cluster the `iris.2D` dataset:\n",
    "\n",
    "1. Using the `Preprocess` panel, load `iris.2D.arff` from the Weka data folder.\n",
    "1. Using the `Cluster` panel, choose the `Clusterer` as `SimpleKMeans`, which implements the $k$-means clustering algorithm.\n",
    "1. The default number of clusters is \\(k=2\\). Change it to \\(k=3\\) instead, i.e., set `numClusters` to 3.\n",
    "1. Click the `ignore attributes` button below `Cluster mode` and select `class`.\n",
    "1. Click `Start` to run the clustering algorithm.\n",
    "\n",
    "Alternatively, you may also use the [python-weka-wrapper](https://github.com/fracpete/python-weka-wrapper-examples/blob/master/src/wekaexamples/clusterers/clusterers.py) to obtain the answer."
   ]
  },
  {
   "cell_type": "markdown",
   "id": "0186f228",
   "metadata": {},
   "source": [
    "**Exercise** Assign to `wss` the within-cluster sum of squared (WSS) errors."
   ]
  },
  {
   "cell_type": "code",
   "execution_count": null,
   "id": "22237ec6",
   "metadata": {
    "deletable": false,
    "nbgrader": {
     "cell_type": "code",
     "checksum": "498903bc395c7ab87f75aa81cbe319ad",
     "grade": false,
     "grade_id": "wss",
     "locked": false,
     "schema_version": 3,
     "solution": true,
     "task": false
    },
    "tags": [
     "remove-output",
     "hide-input"
    ]
   },
   "outputs": [],
   "source": [
    "# your python code here\n",
    "# end of python code\n",
    "\n",
    "wss"
   ]
  },
  {
   "cell_type": "code",
   "execution_count": null,
   "id": "b5b7398a",
   "metadata": {
    "deletable": false,
    "editable": false,
    "nbgrader": {
     "cell_type": "code",
     "checksum": "860583870111a31874df199382d42904",
     "grade": true,
     "grade_id": "test-wss",
     "locked": true,
     "points": 1,
     "schema_version": 3,
     "solution": false,
     "task": false
    },
    "tags": [
     "remove-cell"
    ]
   },
   "outputs": [],
   "source": [
    "# hidden tests"
   ]
  },
  {
   "cell_type": "markdown",
   "id": "69b4ad92",
   "metadata": {},
   "source": [
    "**Exercise** Complete the DataFrame `df_centroids` to store the cluster centers."
   ]
  },
  {
   "cell_type": "code",
   "execution_count": null,
   "id": "1b3ac88d",
   "metadata": {
    "deletable": false,
    "nbgrader": {
     "cell_type": "code",
     "checksum": "799b2aeb92b595713869c3018af0af44",
     "grade": false,
     "grade_id": "df_centroids",
     "locked": false,
     "schema_version": 3,
     "solution": true,
     "task": false
    },
    "tags": [
     "remove-output",
     "hide-input"
    ]
   },
   "outputs": [],
   "source": [
    "df_centroids = pd.DataFrame(columns=[\"petallength\", \"petalwidth\"], dtype=float)\n",
    "# your python code here\n",
    "# end of python code\n",
    "\n",
    "df_centroids"
   ]
  },
  {
   "cell_type": "code",
   "execution_count": null,
   "id": "3443a3d2",
   "metadata": {
    "deletable": false,
    "editable": false,
    "nbgrader": {
     "cell_type": "code",
     "checksum": "b23fe595b5d773866f5abc09625a8810",
     "grade": true,
     "grade_id": "test-df_centroids",
     "locked": true,
     "points": 1,
     "schema_version": 3,
     "solution": false,
     "task": false
    },
    "tags": [
     "remove-cell"
    ]
   },
   "outputs": [],
   "source": [
    "# hidden tests"
   ]
  },
  {
   "cell_type": "markdown",
   "id": "80ad7d94",
   "metadata": {},
   "source": [
    "**Exercise** Right click your result and click `visualize cluster assignments`. (If the item is disabled, check the `Store clusters for visualization` option and rerun the clustering.) Does the $k$-means algorithm appear to return the globally optimal solution that minimizes WSS? Can $k$-means algorithm identify the three types of iris?"
   ]
  },
  {
   "cell_type": "markdown",
   "id": "e08dffbe",
   "metadata": {
    "deletable": false,
    "editable": false,
    "nbgrader": {
     "cell_type": "markdown",
     "checksum": "22a605bca1931c38423d42b7983eb4fa",
     "grade": false,
     "grade_id": "kmeans-correctness",
     "locked": true,
     "points": 1,
     "schema_version": 3,
     "solution": false,
     "task": true
    }
   },
   "source": [
    "$k$-means clustering appears to return the globally optimal solution by choosing the axes to be `petallength` and `petalwidth`. If we choose the axes to be `cluster` and `class`, it can be seen that the clustering solution identifies Iris-setosa correctly but not the other types of iris."
   ]
  },
  {
   "cell_type": "markdown",
   "id": "6d3e1dcc",
   "metadata": {},
   "source": [
    "**Exercise** Rerun the same clustering algorithm without ignoring the class attribute. To do so, click the `Ignore attributes` button and then the `Cancel` button. Does WSS increase? Why or why not?"
   ]
  },
  {
   "cell_type": "markdown",
   "id": "f06b07e2",
   "metadata": {
    "deletable": false,
    "nbgrader": {
     "cell_type": "markdown",
     "checksum": "2567936184a765462f098b695d306a0f",
     "grade": true,
     "grade_id": "class-included",
     "locked": false,
     "points": 1,
     "schema_version": 3,
     "solution": true,
     "task": false
    }
   },
   "source": [
    "YOUR ANSWER HERE"
   ]
  },
  {
   "cell_type": "markdown",
   "id": "23900543",
   "metadata": {},
   "source": [
    "**Exercise** Select `Classes to clusters evaluation` as the `cluster mode` instead. Assign to `error_rate` the fraction (NOT percentage) of incorrectly clustered instances.\n",
    "\n",
    "For `python-weka-wrapper`, see an example [here](https://github.com/fracpete/python-weka-wrapper-examples/blob/master/src/wekaexamples/clusterers/classes_to_clusters.py)."
   ]
  },
  {
   "cell_type": "code",
   "execution_count": null,
   "id": "9cb04ee6",
   "metadata": {
    "deletable": false,
    "nbgrader": {
     "cell_type": "code",
     "checksum": "884dadaf23512c279034d93720d17e62",
     "grade": false,
     "grade_id": "error-rate",
     "locked": false,
     "schema_version": 3,
     "solution": true,
     "task": false
    },
    "tags": [
     "remove-output",
     "hide-input"
    ]
   },
   "outputs": [],
   "source": [
    "# your python code here\n",
    "# end of python code\n",
    "\n",
    "error_rate"
   ]
  },
  {
   "cell_type": "code",
   "execution_count": null,
   "id": "e4dd419e",
   "metadata": {
    "deletable": false,
    "editable": false,
    "nbgrader": {
     "cell_type": "code",
     "checksum": "a55332ce4faa16e769e3526e9106c48d",
     "grade": true,
     "grade_id": "test-error-rate",
     "locked": true,
     "points": 1,
     "schema_version": 3,
     "solution": false,
     "task": false
    },
    "tags": [
     "remove-cell"
    ]
   },
   "outputs": [],
   "source": [
    "# hidden tests"
   ]
  },
  {
   "cell_type": "markdown",
   "id": "4da34eae",
   "metadata": {},
   "source": [
    "**Exercise** Can you guess how the error rate is calculated?"
   ]
  },
  {
   "cell_type": "markdown",
   "id": "3daa4bec",
   "metadata": {
    "deletable": false,
    "nbgrader": {
     "cell_type": "markdown",
     "checksum": "b6d37a157247a1dab47a15a5258b97fb",
     "grade": true,
     "grade_id": "classes-to-clusters",
     "locked": false,
     "points": 1,
     "schema_version": 3,
     "solution": true,
     "task": false
    }
   },
   "source": [
    "YOUR ANSWER HERE"
   ]
  },
  {
   "cell_type": "markdown",
   "id": "25c11c66",
   "metadata": {},
   "source": [
    "## Clustering using scikit-learn"
   ]
  },
  {
   "cell_type": "markdown",
   "id": "0119c107",
   "metadata": {},
   "source": [
    "We first import the iris dataset from `sklearn.datasets` and store it as a DataFrame."
   ]
  },
  {
   "cell_type": "code",
   "execution_count": null,
   "id": "cf111ce3",
   "metadata": {},
   "outputs": [],
   "source": [
    "# load the dataset from sklearn\n",
    "dataset = datasets.load_iris()\n",
    "\n",
    "# create a DataFrame to help further analysis\n",
    "df = pd.DataFrame(data=dataset.data, columns=dataset.feature_names)\n",
    "df[\"target\"] = dataset.target\n",
    "df.target = df.target.astype(\"category\")\n",
    "df.target = df.target.cat.rename_categories(dataset.target_names)\n",
    "df  # display an overview of the data"
   ]
  },
  {
   "cell_type": "markdown",
   "id": "e4ed07ed",
   "metadata": {},
   "source": [
    "To normalize the features followed by $k$-means clustering, we create a pipeline as follows:\n",
    "\n",
    "```python\n",
    "from sklearn.cluster import KMeans\n",
    "```"
   ]
  },
  {
   "cell_type": "code",
   "execution_count": null,
   "id": "ab54d8a0",
   "metadata": {},
   "outputs": [],
   "source": [
    "kmeans_minmax_normalized = make_pipeline(\n",
    "    preprocessing.MinMaxScaler(), KMeans(n_clusters=3)\n",
    ")\n",
    "kmeans_minmax_normalized"
   ]
  },
  {
   "cell_type": "markdown",
   "id": "085e0081",
   "metadata": {},
   "source": [
    "To cluster based on the two input features `petal length (cm)` and `petal width (cm)`:"
   ]
  },
  {
   "cell_type": "code",
   "execution_count": null,
   "id": "fbfe64a0",
   "metadata": {},
   "outputs": [],
   "source": [
    "feature1, feature2 = \"petal length (cm)\", \"petal width (cm)\"\n",
    "kmeans_minmax_normalized.fit(df[[feature1, feature2]])\n",
    "\n",
    "plt.figure(figsize=(10, 5))\n",
    "\n",
    "plt.subplot(121)\n",
    "plt.scatter(\n",
    "    df[feature1],\n",
    "    df[feature2],\n",
    "    c=kmeans_minmax_normalized.predict(df[[feature1, feature2]]),\n",
    ")\n",
    "plt.title(\"Cluster assignment\")\n",
    "plt.xlabel(feature1)\n",
    "plt.ylabel(feature2)\n",
    "\n",
    "plt.subplot(122)\n",
    "plt.scatter(df[feature1], df[feature2], c=dataset[\"target\"])\n",
    "plt.title(\"Class (ground truth)\")\n",
    "plt.xlabel(feature1)\n",
    "\n",
    "plt.show()"
   ]
  },
  {
   "cell_type": "markdown",
   "id": "bd0ba550",
   "metadata": {},
   "source": [
    "Since clustering is unsupervised, unlike classification,\n",
    "- the `fit` method of `kmeans_minmax_normalized` does not take the target attribute as an argument, and\n",
    "- the `predict` method returns cluster labels that may not be associated with the class labels."
   ]
  },
  {
   "cell_type": "markdown",
   "id": "29ce8fae",
   "metadata": {},
   "source": [
    "Further details can be obtained from the fitted properties (those with a [trailing underscore](https://github.com/rasbt/python-machine-learning-book/blob/master/faq/underscore-convention.md)):"
   ]
  },
  {
   "cell_type": "code",
   "execution_count": null,
   "id": "fdc20de2",
   "metadata": {},
   "outputs": [],
   "source": [
    "kmeans = kmeans_minmax_normalized[\"kmeans\"]\n",
    "print(\"Cluster labels:\", *kmeans.labels_)\n",
    "print(\"Cluster centers:\", *kmeans.cluster_centers_)\n",
    "print(\"WSS:\", kmeans.inertia_)\n",
    "print(\"# iterations:\", kmeans.n_iter_)"
   ]
  },
  {
   "cell_type": "markdown",
   "id": "85c68956",
   "metadata": {},
   "source": [
    "Similar to plotting the decision regions for a classifier, we provide the following function `plot_cluster_regions` in `util` to plot the cluster regions for a clusterer."
   ]
  },
  {
   "cell_type": "code",
   "execution_count": null,
   "id": "a3008409",
   "metadata": {
    "init_cell": true,
    "tags": [
     "output_scroll"
    ]
   },
   "outputs": [],
   "source": [
    "Code(filename=\"util.py\")"
   ]
  },
  {
   "cell_type": "markdown",
   "id": "cfbf7457",
   "metadata": {
    "deletable": false,
    "editable": false,
    "nbgrader": {
     "cell_type": "markdown",
     "checksum": "682e017e3ddeb1a205ecbc18aee8b1ae",
     "grade": false,
     "grade_id": "task-kmeans",
     "locked": true,
     "points": 1,
     "schema_version": 3,
     "solution": false,
     "task": true
    }
   },
   "source": [
    "**Exercise** Complete the following code to assign to `kmeans` a trained and piplined $k$-means clusterer that \n",
    "- normalizes the features according to the method specified by `normalization`, and\n",
    "- clusters the instances of features specified by `feature1` and `feature2` into `k` clusters.\n",
    "\n",
    "Observe the change in the clustering solution when you change the normalization, features, and number of clusters."
   ]
  },
  {
   "cell_type": "code",
   "execution_count": null,
   "id": "aec89088",
   "metadata": {
    "deletable": false,
    "nbgrader": {
     "cell_type": "code",
     "checksum": "283763dfbdc2156f3953b620c22573ba",
     "grade": false,
     "grade_id": "kmeans",
     "locked": false,
     "schema_version": 3,
     "solution": true,
     "task": false
    },
    "tags": [
     "remove-output"
    ]
   },
   "outputs": [],
   "source": [
    "plt.figure(figsize=(10, 10))\n",
    "\n",
    "@interact(\n",
    "    normalization=[\"None\", \"Min-max\", \"Standard\"],\n",
    "    feature1=dataset.feature_names,\n",
    "    feature2=dataset.feature_names,\n",
    "    k=widgets.IntSlider(3, 1, 4, continuous_update=False),\n",
    "    resolution=widgets.IntSlider(1, 1, 4, continuous_update=False),\n",
    ")\n",
    "def cluster_regions_kmeans(\n",
    "    normalization,\n",
    "    feature1=dataset.feature_names[2],\n",
    "    feature2=dataset.feature_names[3],\n",
    "    k=3,\n",
    "    resolution=1,\n",
    "):\n",
    "\n",
    "    scaler = {\n",
    "        \"Min-max\": preprocessing.MinMaxScaler,\n",
    "        \"Standard\": preprocessing.StandardScaler,\n",
    "    }\n",
    "    # your python code here\n",
    "    # end of python code\n",
    "    \n",
    "    plt.clf()\n",
    "    ax = plot_cluster_regions(\n",
    "        df[[feature1, feature2]], df.target, kmeans, N=resolution * 100\n",
    "    )\n",
    "    ax.set_title(\"Cluster regions for k-means clustering\")\n",
    "    ax.set_xlabel(feature1)\n",
    "    ax.set_ylabel(feature2)\n",
    "    plt.show()"
   ]
  }
 ],
 "metadata": {
  "kernelspec": {
   "display_name": "Python 3 (ipykernel)",
   "language": "python",
   "name": "python3"
  },
  "language_info": {
   "codemirror_mode": {
    "name": "ipython",
    "version": 3
   },
   "file_extension": ".py",
   "mimetype": "text/x-python",
   "name": "python",
   "nbconvert_exporter": "python",
   "pygments_lexer": "ipython3",
   "version": "3.10.8"
  },
  "widgets": {
   "application/vnd.jupyter.widget-state+json": {
    "state": {},
    "version_major": 2,
    "version_minor": 0
   }
  }
 },
 "nbformat": 4,
 "nbformat_minor": 5
}
