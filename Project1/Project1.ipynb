{
 "cells": [
  {
   "cell_type": "markdown",
   "id": "802255b9",
   "metadata": {
    "slideshow": {
     "slide_type": "slide"
    }
   },
   "source": [
    "# Project 1"
   ]
  },
  {
   "cell_type": "markdown",
   "id": "8f0cbfa0",
   "metadata": {
    "slideshow": {
     "slide_type": "-"
    },
    "tags": [
     "remove-cell"
    ]
   },
   "source": [
    "**CS5483 Data Warehousing and Data Mining**\n",
    "___"
   ]
  },
  {
   "cell_type": "markdown",
   "id": "8766f36e",
   "metadata": {},
   "source": [
    "````{important}\n",
    "\n",
    "- Access [\\[Witten11\\]](https://ebookcentral.proquest.com/lib/cityuhk/reader.action?docID=634862&ppg=602) for the hands-on exercises. To complete the exercises, you may use Weka or other tools such as `sklearn` or `python-weka-wrapper`. \n",
    "- You must provide your final answer in the designated solution cells. You may add additional cells to detail the steps.\n",
    "- Same as tutorial exercises, you can submit multiple times via JupyterHub by the deadline. Technical difficulties are not valid justifications for any late submissions.\n",
    "- Take proper measures to avoid suspicion of plagiarism.\n",
    "\n",
    "````"
   ]
  },
  {
   "cell_type": "markdown",
   "id": "9d8455b8",
   "metadata": {
    "deletable": false,
    "editable": false,
    "nbgrader": {
     "cell_type": "markdown",
     "checksum": "14a9f9f5a7f7d5a10c43ccb5f0b59d45",
     "grade": false,
     "grade_id": "clarity",
     "locked": true,
     "points": 5,
     "schema_version": 3,
     "solution": false,
     "task": true
    }
   },
   "source": [
    "```{admonition} Rubrics\n",
    "\n",
    "- This project is worth 75 points, constituting 15% of your course grade.\n",
    "- There are 14 exercises, each of which is worth 5 points:\n",
    "  - 5 points for a correct answer and excellent understanding.\n",
    "  - 3 points for a partially correct answer and some understanding.\n",
    "  - 1 point for a reasonable attempt.\n",
    "- The remaining 5 points are given for *a clear presentation*.\n",
    "```"
   ]
  },
  {
   "cell_type": "markdown",
   "id": "c776e8a4",
   "metadata": {
    "slideshow": {
     "slide_type": "subslide"
    }
   },
   "source": [
    "## Visualizing Decision Trees and Rule Sets"
   ]
  },
  {
   "cell_type": "markdown",
   "id": "d480d648",
   "metadata": {},
   "source": [
    "Complete the following exercises in **Section 17.3**."
   ]
  },
  {
   "cell_type": "markdown",
   "id": "110a5b13",
   "metadata": {},
   "source": [
    "**Ex 17.3.8**"
   ]
  },
  {
   "cell_type": "markdown",
   "id": "df8194af",
   "metadata": {
    "deletable": false,
    "nbgrader": {
     "cell_type": "markdown",
     "checksum": "f92e545bb519905fe88b3b0f771d0619",
     "grade": true,
     "grade_id": "Witten-17-3-8",
     "locked": false,
     "points": 5,
     "schema_version": 3,
     "solution": true,
     "task": false
    }
   },
   "source": [
    "YOUR ANSWER HERE"
   ]
  },
  {
   "cell_type": "markdown",
   "id": "ad88da6a",
   "metadata": {},
   "source": [
    "**Ex 17.3.9**"
   ]
  },
  {
   "cell_type": "markdown",
   "id": "b0daaa3a",
   "metadata": {
    "deletable": false,
    "nbgrader": {
     "cell_type": "markdown",
     "checksum": "bfd4294c336a72627b11111342a32f88",
     "grade": true,
     "grade_id": "Witten-17-3-9",
     "locked": false,
     "points": 5,
     "schema_version": 3,
     "solution": true,
     "task": false
    }
   },
   "source": [
    "YOUR ANSWER HERE"
   ]
  },
  {
   "cell_type": "markdown",
   "id": "06720753",
   "metadata": {},
   "source": [
    "**Ex 17.3.10**"
   ]
  },
  {
   "cell_type": "markdown",
   "id": "4c940742",
   "metadata": {
    "deletable": false,
    "nbgrader": {
     "cell_type": "markdown",
     "checksum": "cf649d715f1385fc00595995b4709212",
     "grade": true,
     "grade_id": "Witten-17-3-10",
     "locked": false,
     "points": 5,
     "schema_version": 3,
     "solution": true,
     "task": false
    }
   },
   "source": [
    "YOUR ANSWER HERE"
   ]
  },
  {
   "cell_type": "markdown",
   "id": "8eda529f",
   "metadata": {},
   "source": [
    "**Ex 17.3.11**"
   ]
  },
  {
   "cell_type": "markdown",
   "id": "ac931131",
   "metadata": {
    "deletable": false,
    "nbgrader": {
     "cell_type": "markdown",
     "checksum": "c283ac6f89f205b57e45070c4c081dcd",
     "grade": true,
     "grade_id": "Witten-17-3-11",
     "locked": false,
     "points": 5,
     "schema_version": 3,
     "solution": true,
     "task": false
    }
   },
   "source": [
    "YOUR ANSWER HERE"
   ]
  },
  {
   "cell_type": "markdown",
   "id": "12c071dd",
   "metadata": {},
   "source": [
    "**Ex 17.3.12**"
   ]
  },
  {
   "cell_type": "markdown",
   "id": "9d045881",
   "metadata": {
    "deletable": false,
    "nbgrader": {
     "cell_type": "markdown",
     "checksum": "2f097f30452673f6dd79bbaa2daa9c41",
     "grade": true,
     "grade_id": "Witten-17-3-12",
     "locked": false,
     "points": 5,
     "schema_version": 3,
     "solution": true,
     "task": false
    }
   },
   "source": [
    "YOUR ANSWER HERE"
   ]
  },
  {
   "cell_type": "markdown",
   "id": "7e317955",
   "metadata": {
    "slideshow": {
     "slide_type": "subslide"
    }
   },
   "source": [
    "## Attribute Selection"
   ]
  },
  {
   "cell_type": "markdown",
   "id": "a489e06a",
   "metadata": {},
   "source": [
    "Complete the following exercises in **Section 17.2** and one additional exercise."
   ]
  },
  {
   "cell_type": "markdown",
   "id": "df740eee",
   "metadata": {},
   "source": [
    "**Ex 17.2.4**"
   ]
  },
  {
   "cell_type": "markdown",
   "id": "02a90bdb",
   "metadata": {
    "deletable": false,
    "nbgrader": {
     "cell_type": "markdown",
     "checksum": "3efddc148edcfae0215f8281618b0387",
     "grade": true,
     "grade_id": "Witten-17-2-4",
     "locked": false,
     "points": 5,
     "schema_version": 3,
     "solution": true,
     "task": false
    }
   },
   "source": [
    "YOUR ANSWER HERE"
   ]
  },
  {
   "cell_type": "markdown",
   "id": "9222a1fe",
   "metadata": {},
   "source": [
    "**Ex 17.2.5**"
   ]
  },
  {
   "cell_type": "markdown",
   "id": "90d94b4e",
   "metadata": {
    "deletable": false,
    "nbgrader": {
     "cell_type": "markdown",
     "checksum": "c87dacd482dbee0293c8931a3d93d444",
     "grade": true,
     "grade_id": "Witten-17-2-5",
     "locked": false,
     "points": 5,
     "schema_version": 3,
     "solution": true,
     "task": false
    }
   },
   "source": [
    "YOUR ANSWER HERE"
   ]
  },
  {
   "cell_type": "markdown",
   "id": "f5a76777",
   "metadata": {},
   "source": [
    "**Additional exercise** If your answer to Ex 17.2.5 is \"no\", give a better performance estimate and the best subset of features for *deployment*. Explain how you obtain the estimate and subset, i.e., how you subdivide the dataset for training, validation, and testing, and which accuracy values you use to select the features for deployment."
   ]
  },
  {
   "cell_type": "markdown",
   "id": "74b16223",
   "metadata": {
    "deletable": false,
    "nbgrader": {
     "cell_type": "markdown",
     "checksum": "5c5b429df7bed6dcf60f60cc2c2b97c4",
     "grade": true,
     "grade_id": "split",
     "locked": false,
     "points": 5,
     "schema_version": 3,
     "solution": true,
     "task": false
    }
   },
   "source": [
    "YOUR ANSWER HERE"
   ]
  },
  {
   "cell_type": "markdown",
   "id": "a39c2411",
   "metadata": {
    "slideshow": {
     "slide_type": "subslide"
    }
   },
   "source": [
    "## Automatic Attribute Selection"
   ]
  },
  {
   "cell_type": "markdown",
   "id": "31d2ec21",
   "metadata": {},
   "source": [
    "Complete the following exercises in **Section 17.4**."
   ]
  },
  {
   "cell_type": "markdown",
   "id": "be434e10",
   "metadata": {},
   "source": [
    "**Ex 17.4.8**"
   ]
  },
  {
   "cell_type": "markdown",
   "id": "c848f1cf",
   "metadata": {
    "deletable": false,
    "nbgrader": {
     "cell_type": "markdown",
     "checksum": "c439ca126c61a35f590f97a6b79cf5fd",
     "grade": true,
     "grade_id": "Witten-17-4-8",
     "locked": false,
     "points": 5,
     "schema_version": 3,
     "solution": true,
     "task": false
    }
   },
   "source": [
    "YOUR ANSWER HERE"
   ]
  },
  {
   "cell_type": "markdown",
   "id": "4bd06129",
   "metadata": {},
   "source": [
    "**Ex 17.4.9**"
   ]
  },
  {
   "cell_type": "markdown",
   "id": "2648cba4",
   "metadata": {
    "deletable": false,
    "nbgrader": {
     "cell_type": "markdown",
     "checksum": "8866dc9f9846a3af01f7250c91de5e42",
     "grade": true,
     "grade_id": "Witten-17-4-9",
     "locked": false,
     "points": 5,
     "schema_version": 3,
     "solution": true,
     "task": false
    }
   },
   "source": [
    "YOUR ANSWER HERE"
   ]
  },
  {
   "cell_type": "markdown",
   "id": "e991771b",
   "metadata": {},
   "source": [
    "**Ex 17.4.10**"
   ]
  },
  {
   "cell_type": "markdown",
   "id": "00dac1ba",
   "metadata": {
    "deletable": false,
    "nbgrader": {
     "cell_type": "markdown",
     "checksum": "c93b9a1b2e4a0224d7e0aa152fc64b47",
     "grade": true,
     "grade_id": "Witten-17-4-10",
     "locked": false,
     "points": 5,
     "schema_version": 3,
     "solution": true,
     "task": false
    }
   },
   "source": [
    "YOUR ANSWER HERE"
   ]
  },
  {
   "cell_type": "markdown",
   "id": "e5a5d647",
   "metadata": {},
   "source": [
    "**Ex 17.4.11**"
   ]
  },
  {
   "cell_type": "markdown",
   "id": "20af6971",
   "metadata": {
    "deletable": false,
    "nbgrader": {
     "cell_type": "markdown",
     "checksum": "87cd3fff2822f72948f2148b036f9db4",
     "grade": true,
     "grade_id": "Witten-17-4-11",
     "locked": false,
     "points": 5,
     "schema_version": 3,
     "solution": true,
     "task": false
    }
   },
   "source": [
    "YOUR ANSWER HERE"
   ]
  },
  {
   "cell_type": "markdown",
   "id": "e933e20c",
   "metadata": {},
   "source": [
    "**Ex 17.4.12**"
   ]
  },
  {
   "cell_type": "markdown",
   "id": "3cdea8c1",
   "metadata": {
    "deletable": false,
    "nbgrader": {
     "cell_type": "markdown",
     "checksum": "486911484f59522bcf58e773ac3d9ce9",
     "grade": true,
     "grade_id": "Witten-17-4-12",
     "locked": false,
     "points": 5,
     "schema_version": 3,
     "solution": true,
     "task": false
    }
   },
   "source": [
    "YOUR ANSWER HERE"
   ]
  },
  {
   "cell_type": "markdown",
   "id": "797d6cf7",
   "metadata": {},
   "source": [
    "**Ex 17.4.13**"
   ]
  },
  {
   "cell_type": "markdown",
   "id": "22831a89",
   "metadata": {
    "deletable": false,
    "nbgrader": {
     "cell_type": "markdown",
     "checksum": "8f882114ecc9bf0d30d0389dd041ae48",
     "grade": true,
     "grade_id": "Witten-17-4-13",
     "locked": false,
     "points": 5,
     "schema_version": 3,
     "solution": true,
     "task": false
    }
   },
   "source": [
    "YOUR ANSWER HERE"
   ]
  }
 ],
 "metadata": {
  "kernelspec": {
   "display_name": "Python 3 (ipykernel)",
   "language": "python",
   "name": "python3"
  },
  "language_info": {
   "codemirror_mode": {
    "name": "ipython",
    "version": 3
   },
   "file_extension": ".py",
   "mimetype": "text/x-python",
   "name": "python",
   "nbconvert_exporter": "python",
   "pygments_lexer": "ipython3",
   "version": "3.10.8"
  }
 },
 "nbformat": 4,
 "nbformat_minor": 5
}
