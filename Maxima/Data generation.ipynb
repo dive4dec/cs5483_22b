{
 "cells": [
  {
   "cell_type": "markdown",
   "id": "662cdb22",
   "metadata": {
    "tags": []
   },
   "source": [
    "# Data Generation"
   ]
  },
  {
   "cell_type": "markdown",
   "id": "fd2d37a7",
   "metadata": {
    "tags": [
     "remove-cell"
    ]
   },
   "source": [
    "**CS5483 Data Warehousing and Data Mining**\n",
    "___"
   ]
  },
  {
   "cell_type": "markdown",
   "id": "cc4d9719",
   "metadata": {},
   "source": [
    "## Introduction"
   ]
  },
  {
   "cell_type": "markdown",
   "id": "36ea7dd7",
   "metadata": {},
   "source": [
    "This notebook demonstrates the data mining package written in Maxima, which is helpful for\n",
    "\n",
    "- computing some mathematical criteria precisely without numerical error/instability, and\n",
    "- creating randomized moodle stack questions. \n",
    "\n",
    "The implementations are simplified and may not be scalable to large data sets."
   ]
  },
  {
   "cell_type": "markdown",
   "id": "d7de676d",
   "metadata": {},
   "source": [
    "To load the package, run the following cell:"
   ]
  },
  {
   "cell_type": "code",
   "execution_count": 1,
   "id": "9e88d859",
   "metadata": {
    "tags": []
   },
   "outputs": [],
   "source": [
    "load(\"datamining.mac\")$"
   ]
  },
  {
   "cell_type": "markdown",
   "id": "86887e80",
   "metadata": {},
   "source": [
    "To learn Maxima, you may use the `describe` function or refer to the [documentation](https://maxima.sourceforge.io/documentation.html) for more details:"
   ]
  },
  {
   "cell_type": "code",
   "execution_count": 2,
   "id": "419e5112",
   "metadata": {
    "scrolled": true,
    "tags": [
     "remove-output"
    ]
   },
   "outputs": [
    {
     "name": "stdout",
     "output_type": "stream",
     "text": [
      "\n",
      "\n",
      "\n",
      "  There are also some inexact matches for `block'.\n",
      "  Try `?? block' to see them.\n",
      "\n"
     ]
    },
    {
     "data": {
      "text/plain": [
       "\n",
       " -- Function: block\n",
       "          block ([<v_1>, ..., <v_m>], <expr_1>, ..., <expr_n>)\n",
       "          block (<expr_1>, ..., <expr_n>)\n",
       "\n",
       "     The function 'block' allows to make the variables <v_1>, ..., <v_m>\n",
       "     to be local for a sequence of commands.  If these variables are\n",
       "     already bound 'block' saves the current values of the variables\n",
       "     <v_1>, ..., <v_m> (if any) upon entry to the block, then unbinds\n",
       "     the variables so that they evaluate to themselves; The local\n",
       "     variables may be bound to arbitrary values within the block but\n",
       "     when the block is exited the saved values are restored, and the\n",
       "     values assigned within the block are lost.\n",
       "\n",
       "     If there is no need to define local variables then the list at the\n",
       "     beginning of the 'block' command may be omitted.  In this case if\n",
       "     neither 'return' nor 'go' are used 'block' behaves similar to the\n",
       "     following construct:\n",
       "\n",
       "          ( expr_1, expr_2,... , expr_n );\n",
       "\n",
       "     <expr_1>, ..., <expr_n> will be evaluated in sequence and the value\n",
       "     of the last expression will be returned.  The sequence can be\n",
       "     modified by the 'go', 'throw', and 'return' functions.  The last\n",
       "     expression is <expr_n> unless 'return' or an expression containing\n",
       "     'throw' is evaluated.\n",
       "\n",
       "     The declaration 'local(<v_1>, ..., <v_m>)' within 'block' saves the\n",
       "     properties associated with the symbols <v_1>, ..., <v_m>, removes\n",
       "     any properties before evaluating other expressions, and restores\n",
       "     any saved properties on exit from the block.  Some declarations are\n",
       "     implemented as properties of a symbol, including ':=', 'array',\n",
       "     'dependencies', 'atvalue', 'matchdeclare', 'atomgrad', 'constant',\n",
       "     'nonscalar', 'assume', and some others.  The effect of 'local' is\n",
       "     to make such declarations effective only within the block;\n",
       "     otherwise declarations within a block are actually global\n",
       "     declarations.\n",
       "\n",
       "     'block' may appear within another 'block'.  Local variables are\n",
       "     established each time a new 'block' is evaluated.  Local variables\n",
       "     appear to be global to any enclosed blocks.  If a variable is\n",
       "     non-local in a block, its value is the value most recently assigned\n",
       "     by an enclosing block, if any, otherwise, it is the value of the\n",
       "     variable in the global environment.  This policy may coincide with\n",
       "     the usual understanding of \"dynamic scope\".\n",
       "\n",
       "     The value of the block is the value of the last statement or the\n",
       "     value of the argument to the function 'return' which may be used to\n",
       "     exit explicitly from the block.  The function 'go' may be used to\n",
       "     transfer control to the statement of the block that is tagged with\n",
       "     the argument to 'go'.  To tag a statement, precede it by an atomic\n",
       "     argument as another statement in the block.  For example: 'block\n",
       "     ([x], x:1, loop, x: x+1, ..., go(loop), ...)'.  The argument to\n",
       "     'go' must be the name of a tag appearing within the block.  One\n",
       "     cannot use 'go' to transfer to a tag in a block other than the one\n",
       "     containing the 'go'.\n",
       "\n",
       "     Blocks typically appear on the right side of a function definition\n",
       "     but can be used in other places as well.\n",
       "\n",
       "     See also 'return' and 'go'.\n",
       "\n"
      ]
     },
     "metadata": {},
     "output_type": "display_data"
    }
   ],
   "source": [
    "describe(block)$"
   ]
  },
  {
   "cell_type": "markdown",
   "id": "83d02979",
   "metadata": {},
   "source": [
    "As an example, the following defines a function that computes the maxima of its arguments:"
   ]
  },
  {
   "cell_type": "code",
   "execution_count": 3,
   "id": "4883b971",
   "metadata": {
    "tags": []
   },
   "outputs": [
    {
     "data": {
      "text/latex": [
       "\\[\\tag{${\\it \\%o}_{3}$}\\left[ 3 , 3 \\right] \\]"
      ],
      "text/plain": [
       "(%o3)                               [3, 3]"
      ],
      "text/x-maxima": [
       "[3,3]"
      ]
     },
     "execution_count": 3,
     "metadata": {},
     "output_type": "execute_result"
    }
   ],
   "source": [
    "maxima([lst]):=\n",
    "if length(lst)>1 \n",
    "/* recur on tail maxima (tm) */\n",
    "then block(\n",
    "    [tm :apply('maxima,rest(lst))],\n",
    "    if lst[1]>=tm[2] \n",
    "    then maxima(lst[1]) \n",
    "    else [tm[1]+1,tm[2]]\n",
    ")\n",
    "/* base cases */\n",
    "else if length(lst)>0 \n",
    "then [1, lst[1]]\n",
    "else [0, -inf]$\n",
    "\n",
    "maxima(1,2,3,2,1);"
   ]
  },
  {
   "cell_type": "markdown",
   "id": "a1eb655b",
   "metadata": {},
   "source": [
    "In the above example, `maxima([lst])` is a recursive function that \n",
    "- takes a variable number of arguments, which will be stored in `lst` as a list, and\n",
    "- returns a list `[i,m]` as follows:\n",
    "  - If `lst` is non-empty, `lst[i]=m` is a maximum element of `lst` and `i` is the smallest such index.\n",
    "  - If `lst` is empty, then `[0,-inf]` is returned, following the conventions that \n",
    "    - the maximum element of an empty list `[]` of numbers is `-inf`, and \n",
    "    - Maxima uses 1-based numbering so `0` is the index of an imaginary item before the first item in a list."
   ]
  },
  {
   "cell_type": "markdown",
   "id": "f6e2bb30-339e-4db6-b8a7-e3bb5ac0b533",
   "metadata": {},
   "source": [
    ":::{note}\n",
    "\n",
    "- Comments can be delimited by `/*` and `*/` as in `/* base cases */`.\n",
    "- Trailing ; ends an expression and prints its value. E.g.,\n",
    "\n",
    "    ```\n",
    "    maxima(1,2,3,2,1);\n",
    "    ```\n",
    "    applies call the `maxima` function display its output. \n",
    "- Trailing \\$ ends an expression without printing its value. E.g.,\n",
    "\n",
    "    ```\n",
    "    maxima([lst]):=\n",
    "    ...\n",
    "    else [0, -inf]$\n",
    "    ```\n",
    "    defines a function without displaying it in the output cell.\n",
    "\n",
    "\n",
    ":::"
   ]
  },
  {
   "cell_type": "markdown",
   "id": "fbac1744",
   "metadata": {},
   "source": [
    "## Generate data from lists"
   ]
  },
  {
   "cell_type": "markdown",
   "id": "06d462bf",
   "metadata": {},
   "source": [
    "Data is a matrix of feature values associated with feature names. Data can be created by `build_data_from_list(fns, lst)` where\n",
    "- `fns` is a list of feature names, and \n",
    "- `lst` is a list of instances, which are lists of feature values corresponding to the feature names."
   ]
  },
  {
   "cell_type": "code",
   "execution_count": 4,
   "id": "d0feb606",
   "metadata": {},
   "outputs": [
    {
     "data": {
      "image/svg+xml": [
       "<?xml version=\"1.0\" encoding=\"utf-8\"  standalone=\"no\"?>\n",
       "<svg \n",
       " width=\"600\" height=\"500\"\n",
       " viewBox=\"0 0 600 500\"\n",
       " xmlns=\"http://www.w3.org/2000/svg\"\n",
       " xmlns:xlink=\"http://www.w3.org/1999/xlink\"\n",
       ">\n",
       "\n",
       "<title>Gnuplot</title>\n",
       "<desc>Produced by GNUPLOT 5.4 patchlevel 5 </desc>\n",
       "\n",
       "<g id=\"gnuplot_canvas\">\n",
       "\n",
       "<rect x=\"0\" y=\"0\" width=\"600\" height=\"500\" fill=\"none\"/>\n",
       "<defs>\n",
       "\n",
       "\t<circle id='gpDot' r='0.5' stroke-width='0.5' stroke='currentColor'/>\n",
       "\t<path id='gpPt0' stroke-width='0.222' stroke='currentColor' d='M-1,0 h2 M0,-1 v2'/>\n",
       "\t<path id='gpPt1' stroke-width='0.222' stroke='currentColor' d='M-1,-1 L1,1 M1,-1 L-1,1'/>\n",
       "\t<path id='gpPt2' stroke-width='0.222' stroke='currentColor' d='M-1,0 L1,0 M0,-1 L0,1 M-1,-1 L1,1 M-1,1 L1,-1'/>\n",
       "\t<rect id='gpPt3' stroke-width='0.222' stroke='currentColor' x='-1' y='-1' width='2' height='2'/>\n",
       "\t<rect id='gpPt4' stroke-width='0.222' stroke='currentColor' fill='currentColor' x='-1' y='-1' width='2' height='2'/>\n",
       "\t<circle id='gpPt5' stroke-width='0.222' stroke='currentColor' cx='0' cy='0' r='1'/>\n",
       "\t<use xlink:href='#gpPt5' id='gpPt6' fill='currentColor' stroke='none'/>\n",
       "\t<path id='gpPt7' stroke-width='0.222' stroke='currentColor' d='M0,-1.33 L-1.33,0.67 L1.33,0.67 z'/>\n",
       "\t<use xlink:href='#gpPt7' id='gpPt8' fill='currentColor' stroke='none'/>\n",
       "\t<use xlink:href='#gpPt7' id='gpPt9' stroke='currentColor' transform='rotate(180)'/>\n",
       "\t<use xlink:href='#gpPt9' id='gpPt10' fill='currentColor' stroke='none'/>\n",
       "\t<use xlink:href='#gpPt3' id='gpPt11' stroke='currentColor' transform='rotate(45)'/>\n",
       "\t<use xlink:href='#gpPt11' id='gpPt12' fill='currentColor' stroke='none'/>\n",
       "\t<path id='gpPt13' stroke-width='0.222' stroke='currentColor' d='M0,1.330 L1.265,0.411 L0.782,-1.067 L-0.782,-1.076 L-1.265,0.411 z'/>\n",
       "\t<use xlink:href='#gpPt13' id='gpPt14' fill='currentColor' stroke='none'/>\n",
       "\t<filter id='textbox' filterUnits='objectBoundingBox' x='0' y='0' height='1' width='1'>\n",
       "\t  <feFlood flood-color='white' flood-opacity='1' result='bgnd'/>\n",
       "\t  <feComposite in='SourceGraphic' in2='bgnd' operator='atop'/>\n",
       "\t</filter>\n",
       "\t<filter id='greybox' filterUnits='objectBoundingBox' x='0' y='0' height='1' width='1'>\n",
       "\t  <feFlood flood-color='lightgrey' flood-opacity='1' result='grey'/>\n",
       "\t  <feComposite in='SourceGraphic' in2='grey' operator='atop'/>\n",
       "\t</filter>\n",
       "</defs>\n",
       "<g fill=\"none\" color=\"white\" stroke=\"currentColor\" stroke-width=\"1.00\" stroke-linecap=\"butt\" stroke-linejoin=\"miter\">\n",
       "</g>\n",
       "<g fill=\"none\" color=\"black\" stroke=\"currentColor\" stroke-width=\"1.00\" stroke-linecap=\"butt\" stroke-linejoin=\"miter\">\n",
       "\t<g stroke='none' shape-rendering='crispEdges'>\n",
       "\t\t<polygon fill = 'rgb(255, 255, 255)' points = '0.00,500.00 599.99,500.00 599.99,0.01 0.00,0.01 '/>\n",
       "\t</g>\n",
       "</g>\n",
       "<g fill=\"none\" color=\"black\" stroke=\"currentColor\" stroke-width=\"1.00\" stroke-linecap=\"butt\" stroke-linejoin=\"miter\">\n",
       "\t<path stroke='black'  d='M64.14,424.40 L73.14,424.40  '/>\t<g transform=\"translate(55.75,428.30)\" stroke=\"none\" fill=\"black\" font-family=\"Arial\" font-size=\"12.00\"  text-anchor=\"end\">\n",
       "\t\t<text><tspan font-family=\"Arial\" >0</tspan></text>\n",
       "\t</g>\n",
       "</g>\n",
       "<g fill=\"none\" color=\"black\" stroke=\"currentColor\" stroke-width=\"1.00\" stroke-linecap=\"butt\" stroke-linejoin=\"miter\">\n",
       "\t<path stroke='black'  d='M64.14,343.12 L73.14,343.12  '/>\t<g transform=\"translate(55.75,347.02)\" stroke=\"none\" fill=\"black\" font-family=\"Arial\" font-size=\"12.00\"  text-anchor=\"end\">\n",
       "\t\t<text><tspan font-family=\"Arial\" >0.2</tspan></text>\n",
       "\t</g>\n",
       "</g>\n",
       "<g fill=\"none\" color=\"black\" stroke=\"currentColor\" stroke-width=\"1.00\" stroke-linecap=\"butt\" stroke-linejoin=\"miter\">\n",
       "\t<path stroke='black'  d='M64.14,261.84 L73.14,261.84  '/>\t<g transform=\"translate(55.75,265.74)\" stroke=\"none\" fill=\"black\" font-family=\"Arial\" font-size=\"12.00\"  text-anchor=\"end\">\n",
       "\t\t<text><tspan font-family=\"Arial\" >0.4</tspan></text>\n",
       "\t</g>\n",
       "</g>\n",
       "<g fill=\"none\" color=\"black\" stroke=\"currentColor\" stroke-width=\"1.00\" stroke-linecap=\"butt\" stroke-linejoin=\"miter\">\n",
       "\t<path stroke='black'  d='M64.14,180.57 L73.14,180.57  '/>\t<g transform=\"translate(55.75,184.47)\" stroke=\"none\" fill=\"black\" font-family=\"Arial\" font-size=\"12.00\"  text-anchor=\"end\">\n",
       "\t\t<text><tspan font-family=\"Arial\" >0.6</tspan></text>\n",
       "\t</g>\n",
       "</g>\n",
       "<g fill=\"none\" color=\"black\" stroke=\"currentColor\" stroke-width=\"1.00\" stroke-linecap=\"butt\" stroke-linejoin=\"miter\">\n",
       "\t<path stroke='black'  d='M64.14,99.29 L73.14,99.29  '/>\t<g transform=\"translate(55.75,103.19)\" stroke=\"none\" fill=\"black\" font-family=\"Arial\" font-size=\"12.00\"  text-anchor=\"end\">\n",
       "\t\t<text><tspan font-family=\"Arial\" >0.8</tspan></text>\n",
       "\t</g>\n",
       "</g>\n",
       "<g fill=\"none\" color=\"black\" stroke=\"currentColor\" stroke-width=\"1.00\" stroke-linecap=\"butt\" stroke-linejoin=\"miter\">\n",
       "\t<path stroke='black'  d='M64.14,18.01 L73.14,18.01  '/>\t<g transform=\"translate(55.75,21.91)\" stroke=\"none\" fill=\"black\" font-family=\"Arial\" font-size=\"12.00\"  text-anchor=\"end\">\n",
       "\t\t<text><tspan font-family=\"Arial\" >1</tspan></text>\n",
       "\t</g>\n",
       "</g>\n",
       "<g fill=\"none\" color=\"black\" stroke=\"currentColor\" stroke-width=\"1.00\" stroke-linecap=\"butt\" stroke-linejoin=\"miter\">\n",
       "\t<path stroke='black'  d='M64.14,424.40 L64.14,415.40  '/>\t<g transform=\"translate(64.14,446.30)\" stroke=\"none\" fill=\"black\" font-family=\"Arial\" font-size=\"12.00\"  text-anchor=\"middle\">\n",
       "\t\t<text><tspan font-family=\"Arial\" >0</tspan></text>\n",
       "\t</g>\n",
       "</g>\n",
       "<g fill=\"none\" color=\"black\" stroke=\"currentColor\" stroke-width=\"1.00\" stroke-linecap=\"butt\" stroke-linejoin=\"miter\">\n",
       "\t<path stroke='black'  d='M164.48,424.40 L164.48,415.40  '/>\t<g transform=\"translate(164.48,446.30)\" stroke=\"none\" fill=\"black\" font-family=\"Arial\" font-size=\"12.00\"  text-anchor=\"middle\">\n",
       "\t\t<text><tspan font-family=\"Arial\" >0.2</tspan></text>\n",
       "\t</g>\n",
       "</g>\n",
       "<g fill=\"none\" color=\"black\" stroke=\"currentColor\" stroke-width=\"1.00\" stroke-linecap=\"butt\" stroke-linejoin=\"miter\">\n",
       "\t<path stroke='black'  d='M264.81,424.40 L264.81,415.40  '/>\t<g transform=\"translate(264.81,446.30)\" stroke=\"none\" fill=\"black\" font-family=\"Arial\" font-size=\"12.00\"  text-anchor=\"middle\">\n",
       "\t\t<text><tspan font-family=\"Arial\" >0.4</tspan></text>\n",
       "\t</g>\n",
       "</g>\n",
       "<g fill=\"none\" color=\"black\" stroke=\"currentColor\" stroke-width=\"1.00\" stroke-linecap=\"butt\" stroke-linejoin=\"miter\">\n",
       "\t<path stroke='black'  d='M365.15,424.40 L365.15,415.40  '/>\t<g transform=\"translate(365.15,446.30)\" stroke=\"none\" fill=\"black\" font-family=\"Arial\" font-size=\"12.00\"  text-anchor=\"middle\">\n",
       "\t\t<text><tspan font-family=\"Arial\" >0.6</tspan></text>\n",
       "\t</g>\n",
       "</g>\n",
       "<g fill=\"none\" color=\"black\" stroke=\"currentColor\" stroke-width=\"1.00\" stroke-linecap=\"butt\" stroke-linejoin=\"miter\">\n",
       "\t<path stroke='black'  d='M465.48,424.40 L465.48,415.40  '/>\t<g transform=\"translate(465.48,446.30)\" stroke=\"none\" fill=\"black\" font-family=\"Arial\" font-size=\"12.00\"  text-anchor=\"middle\">\n",
       "\t\t<text><tspan font-family=\"Arial\" >0.8</tspan></text>\n",
       "\t</g>\n",
       "</g>\n",
       "<g fill=\"none\" color=\"black\" stroke=\"currentColor\" stroke-width=\"1.00\" stroke-linecap=\"butt\" stroke-linejoin=\"miter\">\n",
       "\t<path stroke='black'  d='M565.82,424.40 L565.82,415.40  '/>\t<g transform=\"translate(565.82,446.30)\" stroke=\"none\" fill=\"black\" font-family=\"Arial\" font-size=\"12.00\"  text-anchor=\"middle\">\n",
       "\t\t<text><tspan font-family=\"Arial\" >1</tspan></text>\n",
       "\t</g>\n",
       "</g>\n",
       "<g fill=\"none\" color=\"black\" stroke=\"currentColor\" stroke-width=\"1.00\" stroke-linecap=\"butt\" stroke-linejoin=\"miter\">\n",
       "</g>\n",
       "<g fill=\"none\" color=\"black\" stroke=\"currentColor\" stroke-width=\"1.00\" stroke-linecap=\"butt\" stroke-linejoin=\"miter\">\n",
       "\t<path stroke='black'  d='M64.14,18.01 L64.14,424.40 L565.82,424.40 L565.82,18.01 L64.14,18.01 Z  '/></g>\n",
       "<g fill=\"none\" color=\"black\" stroke=\"currentColor\" stroke-width=\"1.00\" stroke-linecap=\"butt\" stroke-linejoin=\"miter\">\n",
       "\t<g transform=\"translate(19.18,221.21) rotate(270)\" stroke=\"none\" fill=\"black\" font-family=\"Arial\" font-size=\"12.00\"  text-anchor=\"middle\">\n",
       "\t\t<text><tspan font-family=\"Arial\" >X</tspan><tspan font-family=\"Arial\"  font-size=\"9.6\" dy=\"3.60px\">2</tspan><tspan font-size=\"12.0\" dy=\"-3.60\"></tspan></text>\n",
       "\t</g>\n",
       "</g>\n",
       "<g fill=\"none\" color=\"black\" stroke=\"currentColor\" stroke-width=\"1.00\" stroke-linecap=\"butt\" stroke-linejoin=\"miter\">\n",
       "\t<g transform=\"translate(574.22,221.21) rotate(270)\" stroke=\"none\" fill=\"black\" font-family=\"Arial\" font-size=\"12.00\"  text-anchor=\"middle\">\n",
       "\t\t<text></text>\n",
       "\t</g>\n",
       "</g>\n",
       "<g fill=\"none\" color=\"black\" stroke=\"currentColor\" stroke-width=\"1.00\" stroke-linecap=\"butt\" stroke-linejoin=\"miter\">\n",
       "\t<g transform=\"translate(314.98,473.30)\" stroke=\"none\" fill=\"black\" font-family=\"Arial\" font-size=\"12.00\"  text-anchor=\"middle\">\n",
       "\t\t<text><tspan font-family=\"Arial\" >X</tspan><tspan font-family=\"Arial\"  font-size=\"9.6\" dy=\"3.60px\">1</tspan><tspan font-size=\"12.0\" dy=\"-3.60\"></tspan></text>\n",
       "\t</g>\n",
       "</g>\n",
       "<g fill=\"none\" color=\"black\" stroke=\"currentColor\" stroke-width=\"1.00\" stroke-linecap=\"butt\" stroke-linejoin=\"miter\">\n",
       "\t<g transform=\"translate(314.98,21.91)\" stroke=\"none\" fill=\"black\" font-family=\"Arial\" font-size=\"12.00\"  text-anchor=\"middle\">\n",
       "\t\t<text></text>\n",
       "\t</g>\n",
       "</g>\n",
       "<g fill=\"none\" color=\"black\" stroke=\"currentColor\" stroke-width=\"1.00\" stroke-linecap=\"butt\" stroke-linejoin=\"miter\">\n",
       "</g>\n",
       "\t<g id=\"gnuplot_plot_1\" ><title>gnuplot_plot_1</title>\n",
       "<g fill=\"none\" color=\"black\" stroke=\"currentColor\" stroke-width=\"1.00\" stroke-linecap=\"butt\" stroke-linejoin=\"miter\">\n",
       "\t<use xlink:href='#gpPt3' transform='translate(64.14,424.40) scale(9.00)' color='rgb(255,   0,   0)'/>\n",
       "</g>\n",
       "\t</g>\n",
       "\t<g id=\"gnuplot_plot_2\" ><title>gnuplot_plot_2</title>\n",
       "<g fill=\"none\" color=\"black\" stroke=\"currentColor\" stroke-width=\"1.00\" stroke-linecap=\"butt\" stroke-linejoin=\"miter\">\n",
       "\t<use xlink:href='#gpPt3' transform='translate(565.82,18.01) scale(9.00)' color='rgb(  0,   0, 255)'/>\n",
       "</g>\n",
       "\t</g>\n",
       "<g fill=\"none\" color=\"white\" stroke=\"rgb(  0,   0, 255)\" stroke-width=\"2.00\" stroke-linecap=\"butt\" stroke-linejoin=\"miter\">\n",
       "</g>\n",
       "<g fill=\"none\" color=\"black\" stroke=\"currentColor\" stroke-width=\"2.00\" stroke-linecap=\"butt\" stroke-linejoin=\"miter\">\n",
       "</g>\n",
       "<g fill=\"none\" color=\"black\" stroke=\"black\" stroke-width=\"1.00\" stroke-linecap=\"butt\" stroke-linejoin=\"miter\">\n",
       "</g>\n",
       "<g fill=\"none\" color=\"black\" stroke=\"currentColor\" stroke-width=\"1.00\" stroke-linecap=\"butt\" stroke-linejoin=\"miter\">\n",
       "\t<path stroke='black'  d='M64.14,18.01 L64.14,424.40 L565.82,424.40 L565.82,18.01 L64.14,18.01 Z  '/></g>\n",
       "<g fill=\"none\" color=\"black\" stroke=\"currentColor\" stroke-width=\"1.00\" stroke-linecap=\"butt\" stroke-linejoin=\"miter\">\n",
       "\t<g transform=\"translate(314.98,21.91)\" stroke=\"none\" fill=\"black\" font-family=\"Arial\" font-size=\"12.00\"  text-anchor=\"middle\">\n",
       "\t\t<text></text>\n",
       "\t</g>\n",
       "</g>\n",
       "<g fill=\"none\" color=\"black\" stroke=\"currentColor\" stroke-width=\"1.00\" stroke-linecap=\"butt\" stroke-linejoin=\"miter\">\n",
       "</g>\n",
       "</g>\n",
       "</svg>\n",
       "\n"
      ],
      "text/plain": [
       "/home/cs5483/22b/release/Maxima/images/maxplot.svg.svg"
      ]
     },
     "metadata": {},
     "output_type": "display_data"
    },
    {
     "data": {
      "text/latex": [
       "\\[\\tag{${\\it \\%o}_{5}$}\\left[ \\begin{pmatrix}i & X_{1} & X_{2} & Y \\\\ 1 & 0 & 0 & 0 \\\\ 2 & 1 & 1 & 1 \\\\ \\end{pmatrix} , \\left[ i , X_{1} , X_{2} , Y \\right]  , 2 , 4 , \\left[ 1 , 0 , 0 , 0 \\right]  , \\left[ 0 , 1 \\right]  \\right] \\]"
      ],
      "text/plain": [
       "       [ i  X_1  X_2  Y ]\n",
       "       [                ]\n",
       "(%o5) [[ 1   0    0   0 ], [i, X_1, X_2, Y], 2, 4, [1, 0, 0, 0], [0, 1]]\n",
       "       [                ]\n",
       "       [ 2   1    1   1 ]"
      ],
      "text/x-maxima": [
       "[matrix([i,X_1,X_2,Y],[1,0,0,0],[2,1,1,1]),[i,X_1,X_2,Y],2,4,[1,0,0,0],[0,1]]"
      ]
     },
     "execution_count": 4,
     "metadata": {},
     "output_type": "execute_result"
    }
   ],
   "source": [
    "set_draw_defaults(file_name=\"images/maxplot.svg\", terminal=svg, point_type=square, point_size=2)$\n",
    "\n",
    "block(\n",
    "    [\n",
    "        fns: ['i, 'X_1, 'X_2, 'Y],           /* feature names */\n",
    "        lst: [[1, 0, 0, 0], [2, 1, 1, 1]],   /* instances */\n",
    "        target: 'Y,\n",
    "        xy: ['X_1, 'X_2],\n",
    "        data\n",
    "    ],\n",
    "    data: build_data_from_list(fns, lst),\n",
    "    plot_labeled_data(data,xy,target),\n",
    "    [\n",
    "        data, \n",
    "        feature_names(data), \n",
    "        size(data), \n",
    "        feature_index(fns, target), \n",
    "        get_data(data, 1), \n",
    "        feature_values(data, target)\n",
    "    ]\n",
    ");"
   ]
  },
  {
   "cell_type": "markdown",
   "id": "9f3866e3-7a21-4cd7-a3c7-1a7d00d01566",
   "metadata": {},
   "source": [
    "Information of the data can be obtained using other functions:\n",
    "\n",
    "- `feature_names(data)` returns the feature names of `data`.\n",
    "- `size(data)` returns the number of instances of `data`.\n",
    "- `feature_index(fns, fn)` returns the index of a feature named `fn` in the list `fns` of feature names.\n",
    "- `get_data(data, i)` returns the `i`-th instance of `data`.\n",
    "- `feature_values(data, fn)` returns the list of feature values of the feature `fn`.\n",
    "- `plot_labeled_data(data,xy,target)`"
   ]
  },
  {
   "cell_type": "markdown",
   "id": "19cce78f",
   "metadata": {},
   "source": [
    "```\n",
    "plot_labeled_data(data,xy,target)\n",
    "```\n",
    "\n",
    "plots the labeled `data` where\n",
    "\n",
    "- `xy` specifies the pair of features for the $x$ and $y$ axes, and\n",
    "- `target` is used to color code the data points.\n",
    "\n",
    ":::{note}\n",
    "\n",
    "```set_draw_defaults(file_name=\"images/maxplot.svg\", terminal=svg, point_type=square, point_size=2)$```\n",
    "\n",
    "configures the format of the plot.\n",
    ":::"
   ]
  },
  {
   "cell_type": "markdown",
   "id": "36f6fae0",
   "metadata": {},
   "source": [
    "## Generate data with rules"
   ]
  },
  {
   "cell_type": "markdown",
   "id": "aebbfa82",
   "metadata": {},
   "source": [
    "Data can also be generated (randomly) according to some specified rules using `build_data(fns, gen, n)` where\n",
    "- `fns` is a list of feature names,\n",
    "- `gen` is a function that takes a unique index and generates an instance associated with the index, and\n",
    "- `n` is the number of instances to generate."
   ]
  },
  {
   "cell_type": "code",
   "execution_count": 5,
   "id": "602d63e6",
   "metadata": {},
   "outputs": [
    {
     "data": {
      "text/latex": [
       "\\[\\tag{${\\it \\%o}_{6}$}\\begin{pmatrix}i & X_{1} & X_{2} & Y \\\\ 1 & 2 & 0 & 0 \\\\ 2 & 2 & 2 & 0 \\\\ 3 & 1 & 1 & 0 \\\\ 4 & 2 & 2 & 0 \\\\ 5 & 0 & 1 & 1 \\\\ 6 & 1 & 2 & 0 \\\\ 7 & 0 & 0 & 0 \\\\ 8 & 2 & 0 & 0 \\\\ 9 & 0 & 1 & 1 \\\\ 10 & 1 & 1 & 0 \\\\ \\end{pmatrix}\\]"
      ],
      "text/plain": [
       "                              [ i   X_1  X_2  Y ]\n",
       "                              [                 ]\n",
       "                              [ 1    2    0   0 ]\n",
       "                              [                 ]\n",
       "                              [ 2    2    2   0 ]\n",
       "                              [                 ]\n",
       "                              [ 3    1    1   0 ]\n",
       "                              [                 ]\n",
       "                              [ 4    2    2   0 ]\n",
       "                              [                 ]\n",
       "(%o6)                         [ 5    0    1   1 ]\n",
       "                              [                 ]\n",
       "                              [ 6    1    2   0 ]\n",
       "                              [                 ]\n",
       "                              [ 7    0    0   0 ]\n",
       "                              [                 ]\n",
       "                              [ 8    2    0   0 ]\n",
       "                              [                 ]\n",
       "                              [ 9    0    1   1 ]\n",
       "                              [                 ]\n",
       "                              [ 10   1    1   0 ]"
      ],
      "text/x-maxima": [
       "matrix([i,X_1,X_2,Y],[1,2,0,0],[2,2,2,0],[3,1,1,0],[4,2,2,0],[5,0,1,1],\n",
       "       [6,1,2,0],[7,0,0,0],[8,2,0,0],[9,0,1,1],[10,1,1,0])"
      ]
     },
     "execution_count": 5,
     "metadata": {},
     "output_type": "execute_result"
    }
   ],
   "source": [
    "block(\n",
    "    [\n",
    "        fns: ['i, 'X_1, 'X_2, 'Y],\n",
    "        gen: lambda([i],\n",
    "            [\n",
    "                i,\n",
    "                random(3),\n",
    "                random(3),\n",
    "                if 'X_1<1 and 'X_2>0 then 1 else 0\n",
    "            ]),\n",
    "        n: 10\n",
    "    ],\n",
    "    build_data(fns, gen, n)\n",
    ");"
   ]
  },
  {
   "cell_type": "markdown",
   "id": "560539ca",
   "metadata": {},
   "source": [
    "In the above example, \n",
    "- $i$ is the unique index,\n",
    "- $X_1$ and $X_2$ are uniformly random generated from $\\Set{0,1,2}$, and\n",
    "- $Y$ is a deterministic function of $X_1$ and $X_2$, namely,  \n",
    "$$\n",
    "Y=\\begin{cases}\n",
    "1 & X_1<1, X_2>0\\\\\n",
    "0 & \\text{otherwise.}\n",
    "\\end{cases}\n",
    "$$\n",
    "\n",
    ":::{note}\n",
    "The value of a feature \n",
    "- can depend on the index and the values of all the previously generated features of the same instance, but\n",
    "- cannot depend on the feature values of other instances.\n",
    ":::"
   ]
  },
  {
   "cell_type": "markdown",
   "id": "0e5595b3",
   "metadata": {},
   "source": [
    "## Transform features"
   ]
  },
  {
   "cell_type": "markdown",
   "id": "6c625b42",
   "metadata": {},
   "source": [
    "New features can be created by transforming existing ones using `transform_features(data, nfns, ngen)` where\n",
    "- `data` is a data set,\n",
    "- `nfns` is the list of new feature names, and\n",
    "- `ngen` is a function that takes a unique index and returns an instance."
   ]
  },
  {
   "cell_type": "code",
   "execution_count": 6,
   "id": "386cf05f",
   "metadata": {},
   "outputs": [
    {
     "data": {
      "text/latex": [
       "\\[\\tag{${\\it \\%o}_{7}$}\\left[ \\begin{pmatrix}X_{1} & X_{2} \\\\ 2 & 1 \\\\ 2 & 1 \\\\ 0 & 2 \\\\ 1 & 0 \\\\ 1 & 2 \\\\ 0 & 0 \\\\ 1 & 2 \\\\ 0 & 1 \\\\ 1 & 2 \\\\ 1 & 0 \\\\ \\end{pmatrix} , \\begin{pmatrix}i & X_{1} & X_{2} & Y \\\\ 1 & 2 & 1 & 0 \\\\ 2 & 2 & 1 & 0 \\\\ 3 & 0 & 2 & 1 \\\\ 4 & 1 & 0 & 0 \\\\ 5 & 1 & 2 & 0 \\\\ 6 & 0 & 0 & 0 \\\\ 7 & 1 & 2 & 0 \\\\ 8 & 0 & 1 & 1 \\\\ 9 & 1 & 2 & 0 \\\\ 10 & 1 & 0 & 0 \\\\ \\end{pmatrix} \\right] \\]"
      ],
      "text/plain": [
       "                       [ X_1  X_2 ]  [ i   X_1  X_2  Y ]\n",
       "                       [          ]  [                 ]\n",
       "                       [  2    1  ]  [ 1    2    1   0 ]\n",
       "                       [          ]  [                 ]\n",
       "                       [  2    1  ]  [ 2    2    1   0 ]\n",
       "                       [          ]  [                 ]\n",
       "                       [  0    2  ]  [ 3    0    2   1 ]\n",
       "                       [          ]  [                 ]\n",
       "                       [  1    0  ]  [ 4    1    0   0 ]\n",
       "                       [          ]  [                 ]\n",
       "(%o7)                 [[  1    2  ], [ 5    1    2   0 ]]\n",
       "                       [          ]  [                 ]\n",
       "                       [  0    0  ]  [ 6    0    0   0 ]\n",
       "                       [          ]  [                 ]\n",
       "                       [  1    2  ]  [ 7    1    2   0 ]\n",
       "                       [          ]  [                 ]\n",
       "                       [  0    1  ]  [ 8    0    1   1 ]\n",
       "                       [          ]  [                 ]\n",
       "                       [  1    2  ]  [ 9    1    2   0 ]\n",
       "                       [          ]  [                 ]\n",
       "                       [  1    0  ]  [ 10   1    0   0 ]"
      ],
      "text/x-maxima": [
       "[matrix([X_1,X_2],[2,1],[2,1],[0,2],[1,0],[1,2],[0,0],[1,2],[0,1],[1,2],\n",
       "        [1,0]),\n",
       " matrix([i,X_1,X_2,Y],[1,2,1,0],[2,2,1,0],[3,0,2,1],[4,1,0,0],[5,1,2,0],\n",
       "        [6,0,0,0],[7,1,2,0],[8,0,1,1],[9,1,2,0],[10,1,0,0])]"
      ]
     },
     "execution_count": 6,
     "metadata": {},
     "output_type": "execute_result"
    }
   ],
   "source": [
    "block(\n",
    "    [\n",
    "        fns: ['X_1, 'X_2],\n",
    "        gen: lambda([i], \n",
    "            [\n",
    "                random(3), \n",
    "                random(3)\n",
    "            ]),\n",
    "        n: 10,\n",
    "        nfns: ['i, 'X_1, 'X_2, 'Y],\n",
    "        ngen: lambda([i],\n",
    "            [\n",
    "                i,\n",
    "                'X_1,\n",
    "                'X_2,\n",
    "               if 'X_1<1 and 'X_2>0 then 1 else 0 \n",
    "            ]\n",
    "        ),\n",
    "        data\n",
    "    ],\n",
    "    data: build_data(fns, gen, n),\n",
    "    [data, transform_features(data, nfns, ngen)]\n",
    ");"
   ]
  },
  {
   "cell_type": "markdown",
   "id": "7a9337eb",
   "metadata": {},
   "source": [
    "In the above example, \n",
    "- the features $X1$ and $X2$ in `data` are transformed to create the feature $Y$, and\n",
    "- the row index is used to create the feature $i$.\n",
    "\n",
    ":::{note}\n",
    "A new feature \n",
    "- can depend on the index, all previously generated features and the features in `data` of the same instance, but\n",
    "- cannot depend on the feature values of other instances. \n",
    ":::"
   ]
  },
  {
   "cell_type": "markdown",
   "id": "0d7bdfe5",
   "metadata": {},
   "source": [
    "## Subsample data"
   ]
  },
  {
   "cell_type": "markdown",
   "id": "ba1ac4c1",
   "metadata": {},
   "source": [
    "To subsample data based on specific conditions, use `subsample_data(data, cond)` where\n",
    "\n",
    "- `data` is the data to subsample, and\n",
    "- `cond` is a function that takes a row index and returns a boolean expression on the feature names. \n",
    "\n",
    "It returns `data` but keeping only the instances indexed by `i` where `cond[i]` evaluates to true with the feature names substituted by the corresponding feature values."
   ]
  },
  {
   "cell_type": "code",
   "execution_count": 7,
   "id": "54b0722a",
   "metadata": {},
   "outputs": [
    {
     "data": {
      "text/latex": [
       "\\[\\tag{${\\it \\%o}_{8}$}\\left[ \\begin{pmatrix}X_{1} & X_{2} \\\\ 0 & 0 \\\\ 2 & 0 \\\\ 2 & 0 \\\\ 0 & 1 \\\\ 1 & 2 \\\\ 1 & 2 \\\\ 2 & 0 \\\\ 0 & 0 \\\\ 1 & 2 \\\\ 1 & 2 \\\\ \\end{pmatrix} , \\begin{pmatrix}X_{1} & X_{2} \\\\ 0 & 1 \\\\ \\end{pmatrix} \\right] \\]"
      ],
      "text/plain": [
       "                          [ X_1  X_2 ]\n",
       "                          [          ]\n",
       "                          [  0    0  ]\n",
       "                          [          ]\n",
       "                          [  2    0  ]\n",
       "                          [          ]\n",
       "                          [  2    0  ]\n",
       "                          [          ]\n",
       "                          [  0    1  ]\n",
       "                          [          ]  [ X_1  X_2 ]\n",
       "(%o8)                    [[  1    2  ], [          ]]\n",
       "                          [          ]  [  0    1  ]\n",
       "                          [  1    2  ]\n",
       "                          [          ]\n",
       "                          [  2    0  ]\n",
       "                          [          ]\n",
       "                          [  0    0  ]\n",
       "                          [          ]\n",
       "                          [  1    2  ]\n",
       "                          [          ]\n",
       "                          [  1    2  ]"
      ],
      "text/x-maxima": [
       "[matrix([X_1,X_2],[0,0],[2,0],[2,0],[0,1],[1,2],[1,2],[2,0],[0,0],[1,2],\n",
       "        [1,2]),matrix([X_1,X_2],[0,1])]"
      ]
     },
     "execution_count": 7,
     "metadata": {},
     "output_type": "execute_result"
    }
   ],
   "source": [
    "block(\n",
    "    [\n",
    "        fns: ['X_1, 'X_2],\n",
    "        gen: lambda([i],\n",
    "            [\n",
    "                random(3),\n",
    "                random(3)\n",
    "            ]),\n",
    "        n: 10,\n",
    "        cond: lambda([i],\n",
    "            'X_1<1 and 'X_2>0\n",
    "        ),\n",
    "        data\n",
    "    ],\n",
    "    data: build_data(fns, gen, n),\n",
    "    [data, subsample_data(data, cond)]\n",
    ");"
   ]
  },
  {
   "cell_type": "markdown",
   "id": "13b150e8",
   "metadata": {},
   "source": [
    "In the above example, only instances with $X_1<1$ and $X_2>0$ are returned."
   ]
  },
  {
   "cell_type": "markdown",
   "id": "645b067b",
   "metadata": {},
   "source": [
    "## Combine data"
   ]
  },
  {
   "cell_type": "markdown",
   "id": "548311ef",
   "metadata": {},
   "source": [
    "Data can be stacked (vertically) by `stack_data(data_1, data_2, ...)` where `data_i`'s are data with the same list of features."
   ]
  },
  {
   "cell_type": "code",
   "execution_count": 8,
   "id": "b33ff458",
   "metadata": {},
   "outputs": [
    {
     "data": {
      "text/latex": [
       "\\[\\tag{${\\it \\%o}_{9}$}\\left[ \\begin{pmatrix}i & X_{1} & X_{2} \\\\ 1 & 1 & 1 \\\\ 2 & 0 & 0 \\\\ 3 & 0 & 0 \\\\ 4 & 0 & 0 \\\\ \\end{pmatrix} , \\begin{pmatrix}i & X_{1} & X_{2} \\\\ 1 & 4 & 1 \\\\ 2 & 4 & 0 \\\\ 3 & 4 & 1 \\\\ 4 & 4 & 0 \\\\ \\end{pmatrix} , \\begin{pmatrix}i & X_{1} & X_{2} \\\\ 1 & 1 & 1 \\\\ 2 & 0 & 0 \\\\ 3 & 0 & 0 \\\\ 4 & 0 & 0 \\\\ 5 & 4 & 1 \\\\ 6 & 4 & 0 \\\\ 7 & 4 & 1 \\\\ 8 & 4 & 0 \\\\ \\end{pmatrix} \\right] \\]"
      ],
      "text/plain": [
       "                                                 [ i  X_1  X_2 ]\n",
       "                                                 [             ]\n",
       "                                                 [ 1   1    1  ]\n",
       "                                                 [             ]\n",
       "               [ i  X_1  X_2 ]  [ i  X_1  X_2 ]  [ 2   0    0  ]\n",
       "               [             ]  [             ]  [             ]\n",
       "               [ 1   1    1  ]  [ 1   4    1  ]  [ 3   0    0  ]\n",
       "               [             ]  [             ]  [             ]\n",
       "(%o9)         [[ 2   0    0  ], [ 2   4    0  ], [ 4   0    0  ]]\n",
       "               [             ]  [             ]  [             ]\n",
       "               [ 3   0    0  ]  [ 3   4    1  ]  [ 5   4    1  ]\n",
       "               [             ]  [             ]  [             ]\n",
       "               [ 4   0    0  ]  [ 4   4    0  ]  [ 6   4    0  ]\n",
       "                                                 [             ]\n",
       "                                                 [ 7   4    1  ]\n",
       "                                                 [             ]\n",
       "                                                 [ 8   4    0  ]"
      ],
      "text/x-maxima": [
       "[matrix([i,X_1,X_2],[1,1,1],[2,0,0],[3,0,0],[4,0,0]),\n",
       " matrix([i,X_1,X_2],[1,4,1],[2,4,0],[3,4,1],[4,4,0]),\n",
       " matrix([i,X_1,X_2],[1,1,1],[2,0,0],[3,0,0],[4,0,0],[5,4,1],[6,4,0],[7,4,1],\n",
       "        [8,4,0])]"
      ]
     },
     "execution_count": 8,
     "metadata": {},
     "output_type": "execute_result"
    }
   ],
   "source": [
    "block(\n",
    "    [\n",
    "        fns: ['i, 'X_1, 'X_2]\n",
    "    ],\n",
    "    data_1: build_data(fns, lambda([i], [i, random(2), random(2)]),4),\n",
    "    data_2: build_data(fns, lambda([i], [i, 3+random(2), random(2)]),4),\n",
    "    data: transform_features(stack_data(data_1, data_2), fns, lambda([i], [i, 'X_1, 'X_2])),\n",
    "    [data_1, data_2, data]\n",
    ");"
   ]
  },
  {
   "cell_type": "markdown",
   "id": "6e998aff",
   "metadata": {},
   "source": [
    "In the above example, `data` consists of instances from `data_1` and `data_2`. \n",
    "\n",
    ":::{note}\n",
    "The index column is regenerated using `transform_features` for `data` so that every instance has a unique index.\n",
    ":::"
   ]
  }
 ],
 "metadata": {
  "kernelspec": {
   "display_name": "Maxima",
   "language": "maxima",
   "name": "maxima"
  },
  "language_info": {
   "codemirror_mode": "maxima",
   "file_extension": ".mac",
   "mimetype": "text/x-maxima",
   "name": "maxima",
   "pygments_lexer": "maxima",
   "version": "5.45post"
  },
  "widgets": {
   "application/vnd.jupyter.widget-state+json": {
    "state": {},
    "version_major": 2,
    "version_minor": 0
   }
  }
 },
 "nbformat": 4,
 "nbformat_minor": 5
}
