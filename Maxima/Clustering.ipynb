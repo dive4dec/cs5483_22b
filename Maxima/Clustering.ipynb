{
 "cells": [
  {
   "cell_type": "markdown",
   "id": "39c7107a",
   "metadata": {
    "tags": []
   },
   "source": [
    "# Clustering"
   ]
  },
  {
   "cell_type": "markdown",
   "id": "bd5221b2",
   "metadata": {
    "tags": [
     "remove-cell"
    ]
   },
   "source": [
    "**CS5483 Data Warehousing and Data Mining**\n",
    "___"
   ]
  },
  {
   "cell_type": "code",
   "execution_count": 1,
   "id": "19a3f432",
   "metadata": {
    "tags": []
   },
   "outputs": [],
   "source": [
    "load(\"datamining.mac\")$"
   ]
  },
  {
   "cell_type": "markdown",
   "id": "7a9a7dcf",
   "metadata": {
    "tags": []
   },
   "source": [
    "## Centroid-based methods"
   ]
  },
  {
   "cell_type": "markdown",
   "id": "77affc73",
   "metadata": {},
   "source": [
    "### Partitional clusters"
   ]
  },
  {
   "cell_type": "markdown",
   "id": "1f981986",
   "metadata": {},
   "source": [
    "A cluster assignment is a list of cluster indices, where the $i$-th index is the cluster label of the $i$-th instance in a data set."
   ]
  },
  {
   "cell_type": "code",
   "execution_count": 2,
   "id": "000a378a",
   "metadata": {},
   "outputs": [
    {
     "data": {
      "text/latex": [
       "\\[\\tag{${\\it \\%o}_{1}$}\\left[ \\left[ 1 , 2 \\right]  , \\left[ \\left[ 3 , 4 \\right]  , \\left[ 1 , 2 \\right]  \\right]  \\right] \\]"
      ],
      "text/plain": [
       "(%o1)                     [[1, 2], [[3, 4], [1, 2]]]"
      ],
      "text/x-maxima": [
       "[[1,2],[[3,4],[1,2]]]"
      ]
     },
     "execution_count": 2,
     "metadata": {},
     "output_type": "execute_result"
    }
   ],
   "source": [
    "block(\n",
    "    [C: [2,2,1,1]],\n",
    "    to_clusters(C)\n",
    ");"
   ]
  },
  {
   "cell_type": "markdown",
   "id": "b4a28e7f",
   "metadata": {},
   "source": [
    "In the above, `to_cluster(C)` converts a cluster assignment `C` to a pair where  \n",
    "- the first element is the list of unique cluster indices in ascending order, and\n",
    "- the second element is the corresponding list of clusters, each of which is a list of row indices of C in ascending order associated with the cluster index."
   ]
  },
  {
   "cell_type": "markdown",
   "id": "06d57036",
   "metadata": {},
   "source": [
    "### Compute centroids from clusters"
   ]
  },
  {
   "cell_type": "markdown",
   "id": "cab550e8",
   "metadata": {},
   "source": [
    "The centroids can be computed for a list of clusters of data points by `centroids(Cs, cfns)` where\n",
    "- `Cs` is a list of data sets all with\n",
    "- the features given by the list `cfns` for calculating the centroids."
   ]
  },
  {
   "cell_type": "code",
   "execution_count": 3,
   "id": "b38e5c40",
   "metadata": {},
   "outputs": [
    {
     "data": {
      "text/latex": [
       "\\[\\tag{${\\it \\%o}_{2}$}\\left[ \\begin{pmatrix}i & X_{1} & X_{2} \\\\ 1 & 0 & 0 \\\\ 2 & 0 & 1 \\\\ \\end{pmatrix} , \\begin{pmatrix}i & X_{1} & X_{2} \\\\ 1 & 3 & 1 \\\\ 2 & 4 & 1 \\\\ \\end{pmatrix} , \\begin{pmatrix}X_{1} & X_{2} \\\\ 0 & \\frac{1}{2} \\\\ \\frac{7}{2} & 1 \\\\ \\end{pmatrix} \\right] \\]"
      ],
      "text/plain": [
       "                                                  [ X_1  X_2 ]\n",
       "                                                  [          ]\n",
       "                [ i  X_1  X_2 ]  [ i  X_1  X_2 ]  [       1  ]\n",
       "                [             ]  [             ]  [  0    -  ]\n",
       "(%o2)          [[ 1   0    0  ], [ 1   3    1  ], [       2  ]]\n",
       "                [             ]  [             ]  [          ]\n",
       "                [ 2   0    1  ]  [ 2   4    1  ]  [  7       ]\n",
       "                                                  [  -    1  ]\n",
       "                                                  [  2       ]"
      ],
      "text/x-maxima": [
       "[matrix([i,X_1,X_2],[1,0,0],[2,0,1]),matrix([i,X_1,X_2],[1,3,1],[2,4,1]),\n",
       " matrix([X_1,X_2],[0,1/2],[7/2,1])]"
      ]
     },
     "execution_count": 3,
     "metadata": {},
     "output_type": "execute_result"
    }
   ],
   "source": [
    "block(\n",
    "    [\n",
    "        fns: ['i, 'X_1, 'X_2],\n",
    "        cfns: ['X_1, 'X_2],\n",
    "        data_1, data_2\n",
    "    ],\n",
    "    data_1: build_data(fns, lambda([i], [i, random(2), random(2)]),2),\n",
    "    data_2: build_data(fns, lambda([i], [i, 3+random(2), random(2)]),2),\n",
    "    cs: centroids([data_1, data_2], cfns),\n",
    "    [data_1, data_2, cs]\n",
    ");"
   ]
  },
  {
   "cell_type": "markdown",
   "id": "4408a08f",
   "metadata": {},
   "source": [
    "The centroids are returned as a data set on `cfns` where the $j$-th instance is the centroid of the $j$ cluster `Cs[j]`. \n",
    "\n",
    ":::{note}\n",
    "\n",
    "It is okay for the data to have more features than those in `cfns` used for calculating the centroids.\n",
    "\n",
    ":::"
   ]
  },
  {
   "cell_type": "markdown",
   "id": "694f7071",
   "metadata": {},
   "source": [
    "A data set can be split into clusters using `split_data_by_clusters(data, C)` where\n",
    "- `data` is the data set to split, and\n",
    "- `C` is the cluster assignment in the form of a list of cluster indices, one for each instance of the `data`.\n",
    "\n",
    "Centroids can also be obtained for a cluster assignment by `centroids_for_clusters(data, cfns, C)` where\n",
    "- `cfns` is the list of features to use for calculating the centroids.\n",
    "\n",
    "The total variation (sum of squared distances) of the data points to their cluster centers can be computed by `variation(data,C,cs)` where\n",
    "- `cs` is the data where the $i$-th instance is the center of the $i$ cluster in `data` according to the cluster assignment `C`."
   ]
  },
  {
   "cell_type": "code",
   "execution_count": 4,
   "id": "7bdae829",
   "metadata": {},
   "outputs": [
    {
     "data": {
      "text/latex": [
       "\\[\\tag{${\\it \\%o}_{3}$}\\left[ \\begin{pmatrix}X_{1} & X_{2} \\\\ 0 & 1 \\\\ 1 & 1 \\\\ 3 & 0 \\\\ 4 & 0 \\\\ \\end{pmatrix} , \\left[ 1 , 2 \\right]  , \\left[ \\frac{1}{2} , \\frac{1}{2} \\right]  , \\left[ \\begin{pmatrix}X_{1} & X_{2} \\\\ 0 & 1 \\\\ 1 & 1 \\\\ \\end{pmatrix} , \\begin{pmatrix}X_{1} & X_{2} \\\\ 3 & 0 \\\\ 4 & 0 \\\\ \\end{pmatrix} \\right]  , \\begin{pmatrix}X_{1} & X_{2} \\\\ \\frac{1}{2} & 1 \\\\ \\frac{7}{2} & 0 \\\\ \\end{pmatrix} , 1 \\right] \\]"
      ],
      "text/plain": [
       "       [ X_1  X_2 ]\n",
       "       [          ]\n",
       "       [  0    1  ]                   [ X_1  X_2 ]  [ X_1  X_2 ]\n",
       "       [          ]           1  1    [          ]  [          ]\n",
       "(%o3) [[  1    1  ], [1, 2], [-, -], [[  0    1  ], [  3    0  ]], \n",
       "       [          ]           2  2    [          ]  [          ]\n",
       "       [  3    0  ]                   [  1    1  ]  [  4    0  ]\n",
       "       [          ]\n",
       "       [  4    0  ]\n",
       "                                                               [ X_1  X_2 ]\n",
       "                                                               [          ]\n",
       "                                                               [  1       ]\n",
       "                                                               [  -    1  ]\n",
       "                                                               [  2       ], 1]\n",
       "                                                               [          ]\n",
       "                                                               [  7       ]\n",
       "                                                               [  -    0  ]\n",
       "                                                               [  2       ]"
      ],
      "text/x-maxima": [
       "[matrix([X_1,X_2],[0,1],[1,1],[3,0],[4,0]),[1,2],[1/2,1/2],\n",
       " [matrix([X_1,X_2],[0,1],[1,1]),matrix([X_1,X_2],[3,0],[4,0])],\n",
       " matrix([X_1,X_2],[1/2,1],[7/2,0]),1]"
      ]
     },
     "execution_count": 4,
     "metadata": {},
     "output_type": "execute_result"
    }
   ],
   "source": [
    "block(\n",
    "    [\n",
    "        fns: ['X_1, 'X_2],\n",
    "        cfns: ['X_1, 'X_2],\n",
    "        C, data_1, data_2, data,t,ids, ps, Cs\n",
    "    ],\n",
    "    data_1: build_data(fns, lambda([i], [random(2), random(2)]),2),\n",
    "    data_2: build_data(fns, lambda([i], [3+random(2), random(2)]),2),\n",
    "    data: stack_data(data_1, data_2),\n",
    "    C: [1, 1, 2, 2],\n",
    "    t:split_data_by_clusters(data, C),\n",
    "    ids: t[1][1],\n",
    "    ps: t[1][2],\n",
    "    Cs: t[2],\n",
    "    cs:centroids_for_clusters(data, cfns, C),\n",
    "    var: variation(data,C,cs),\n",
    "    [data, ids, ps, Cs, cs, var]\n",
    ");"
   ]
  },
  {
   "cell_type": "markdown",
   "id": "4e4e435c",
   "metadata": {},
   "source": [
    "In the above example, `ids` is a list of unique cluster indices sorted in ascending order, corresponding to which\n",
    "- `ps` is the list of fractional cluster sizes,\n",
    "- `Cs` is the list of clusters, and\n",
    "- `cs` is the data where the $j$-th instance is the centroid of the $j$-th cluster."
   ]
  },
  {
   "cell_type": "markdown",
   "id": "2e2c32c8",
   "metadata": {},
   "source": [
    "### Compute clusters from centroids"
   ]
  },
  {
   "cell_type": "markdown",
   "id": "2aefb762",
   "metadata": {},
   "source": [
    "Data points can be assigned to their nearest cluster centers using `clusters_for_centroids(data, cs)`, where\n",
    "- `data` is the data set to cluster, and\n",
    "- `cs` is the data containing cluster centers."
   ]
  },
  {
   "cell_type": "code",
   "execution_count": 5,
   "id": "43a3726d",
   "metadata": {},
   "outputs": [
    {
     "data": {
      "text/latex": [
       "\\[\\tag{${\\it \\%o}_{4}$}\\left[ \\begin{pmatrix}X_{1} & X_{2} \\\\ 1 & 0 \\\\ 1 & 0 \\\\ 1 & 1 \\\\ 4 & 1 \\\\ 3 & 0 \\\\ 3 & 1 \\\\ \\end{pmatrix} , \\begin{pmatrix}X_{1} & X_{2} \\\\ \\frac{7}{3} & \\frac{1}{3} \\\\ 2 & \\frac{2}{3} \\\\ \\end{pmatrix} , \\left[ 2 , 2 , 2 , 1 , 1 , 1 \\right]  \\right] \\]"
      ],
      "text/plain": [
       "                [ X_1  X_2 ]\n",
       "                [          ]\n",
       "                [  1    0  ]  [ X_1  X_2 ]\n",
       "                [          ]  [          ]\n",
       "                [  1    0  ]  [  7    1  ]\n",
       "                [          ]  [  -    -  ]\n",
       "(%o4)          [[  1    1  ], [  3    3  ], [2, 2, 2, 1, 1, 1]]\n",
       "                [          ]  [          ]\n",
       "                [  4    1  ]  [       2  ]\n",
       "                [          ]  [  2    -  ]\n",
       "                [  3    0  ]  [       3  ]\n",
       "                [          ]\n",
       "                [  3    1  ]"
      ],
      "text/x-maxima": [
       "[matrix([X_1,X_2],[1,0],[1,0],[1,1],[4,1],[3,0],[3,1]),\n",
       " matrix([X_1,X_2],[7/3,1/3],[2,2/3]),[2,2,2,1,1,1]]"
      ]
     },
     "execution_count": 5,
     "metadata": {},
     "output_type": "execute_result"
    }
   ],
   "source": [
    "block(\n",
    "    [\n",
    "        fns: ['X_1, 'X_2],\n",
    "        cfns: ['X_1, 'X_2],\n",
    "        data_1, data_2, data, C, cs\n",
    "    ],\n",
    "    data_1: build_data(fns, lambda([i], [random(2), random(2)]),3),\n",
    "    data_2: build_data(fns, lambda([i], [3+random(2), random(2)]),3),\n",
    "    data: stack_data(data_1, data_2),\n",
    "    C: [1,2,2,2,1,1],\n",
    "    cs: centroids_for_clusters(data, cfns, C),\n",
    "    [data, cs, clusters_for_centroids(data, cs)]\n",
    ");"
   ]
  },
  {
   "cell_type": "markdown",
   "id": "9fe86f10",
   "metadata": {},
   "source": [
    "An instance is assigned to cluster $i$ only if the $i$-th cluster center in `cs` is the closest cluster center to the instance.\n",
    "\n",
    ":::{note}\n",
    "\n",
    "- `data` must have all the features that `cs` has, but it can also contain more features. \n",
    "- The distance is calculated using only the features in `cs`.\n",
    ":::"
   ]
  },
  {
   "cell_type": "markdown",
   "id": "bad0548e",
   "metadata": {},
   "source": [
    "### Helper functions"
   ]
  },
  {
   "cell_type": "markdown",
   "id": "42d853c8",
   "metadata": {},
   "source": [
    "The following are some helper functions used to implement the centroid-based method:"
   ]
  },
  {
   "cell_type": "code",
   "execution_count": 6,
   "id": "8992ec83",
   "metadata": {},
   "outputs": [
    {
     "data": {
      "text/latex": [
       "\\[\\tag{${\\it \\%o}_{5}$}\\left[ \\begin{pmatrix}1 & \\frac{1}{2} \\\\ \\end{pmatrix} , \\sqrt{2} , 2 , 2 , \\left[ 2 , 1 \\right]  \\right] \\]"
      ],
      "text/plain": [
       "                        [    1 ]\n",
       "(%o5)                  [[ 1  - ], sqrt(2), 2, 2, [2, 1]]\n",
       "                        [    2 ]"
      ],
      "text/x-maxima": [
       "[matrix([1,1/2]),sqrt(2),2,2,[2,1]]"
      ]
     },
     "execution_count": 6,
     "metadata": {},
     "output_type": "execute_result"
    }
   ],
   "source": [
    "block(\n",
    "    [\n",
    "        p: matrix([0,0]),\n",
    "        q: [1,1],\n",
    "        P: matrix(\n",
    "            [0,0],\n",
    "            [0,1]\n",
    "        ),\n",
    "        Q: [[1,1],\n",
    "            [1,0]]\n",
    "    ],\n",
    "    [centroid(Q), dist(p,q), sq_dist(p,q), nearest_neighbor(p,Q), nearest_neighbors(P,Q)]\n",
    ");"
   ]
  },
  {
   "cell_type": "markdown",
   "id": "e85ca7e9",
   "metadata": {},
   "source": [
    "In the above example: \n",
    "- `centroid(Q)` is the centroid of the points (rows) in the cluster `Q`, where `Q` can be a matrix or a list of lists of coordinates.\n",
    "- `dist(p,q)` is the Euclidean distance from point `p` to point `q`, where a point can be a row vector or a list of coordinates.\n",
    "- `sq_dist(p,q)` is the squared distance between `p` and `q`.\n",
    "- `nearest_neighbor(p,Q)` is $i$ iff the $i$-th point (row) in the cluster `Q` is the first nearest neighbor of point `p`.\n",
    "- `nearest_neighbors(P,Q)` is a list of `nearest_neighbors(p,Q)` where `p` is a point of the cluster P."
   ]
  },
  {
   "cell_type": "markdown",
   "id": "c7747d98",
   "metadata": {
    "tags": []
   },
   "source": [
    "## Hierarchical clustering"
   ]
  },
  {
   "cell_type": "markdown",
   "id": "2acbdbf6",
   "metadata": {},
   "source": [
    "### Cluster distances"
   ]
  },
  {
   "cell_type": "markdown",
   "id": "723c3d87",
   "metadata": {},
   "source": [
    "`pairwise_cluster_dists(data, C, dist)` returns the sorted list of pairwise cluster distances for `data` with clustering assignment `C` and the cluster distance `dist`. The returned list consists of elements `[[i,j],d]` where `d` is the distance of\n",
    "Cluster `i` and Cluster `j`."
   ]
  },
  {
   "cell_type": "code",
   "execution_count": 7,
   "id": "ffddc98a",
   "metadata": {},
   "outputs": [
    {
     "data": {
      "text/latex": [
       "\\[\\tag{${\\it \\%o}_{6}$}\\left[ \\begin{pmatrix}X_{1} & X_{2} \\\\ 0 & 1 \\\\ 0 & 1 \\\\ 4 & 0 \\\\ 3 & 1 \\\\ \\end{pmatrix} , \\begin{pmatrix}\\mbox{ metric } & \\mbox{ pairwise cluster distances } \\\\ {\\it min\\_dist} & \\left[ \\left[ \\left[ 1 , 2 \\right]  , \\sqrt{2} \\right]  , \\left[ \\left[ 2 , 4 \\right]  , 3 \\right]  , \\left[ \\left[ 1 , 4 \\right]  , \\sqrt{17} \\right]  \\right]  \\\\ {\\it max\\_dist} & \\left[ \\left[ \\left[ 1 , 2 \\right]  , \\sqrt{2} \\right]  , \\left[ \\left[ 2 , 4 \\right]  , 3 \\right]  , \\left[ \\left[ 1 , 4 \\right]  , \\sqrt{17} \\right]  \\right]  \\\\ {\\it centroid\\_dist} & \\left[ \\left[ \\left[ 1 , 2 \\right]  , \\sqrt{2} \\right]  , \\left[ \\left[ 2 , 4 \\right]  , 3 \\right]  , \\left[ \\left[ 1 , 4 \\right]  , \\sqrt{17} \\right]  \\right]  \\\\ {\\it ward\\_dist} & \\left[ \\left[ \\left[ 1 , 2 \\right]  , 1 \\right]  , \\left[ \\left[ 2 , 4 \\right]  , 6 \\right]  , \\left[ \\left[ 1 , 4 \\right]  , \\frac{34}{3} \\right]  \\right]  \\\\ \\end{pmatrix} \\right] \\]"
      ],
      "text/plain": [
       "       [ X_1  X_2 ]\n",
       "       [          ]\n",
       "       [  0    1  ]\n",
       "       [          ]\n",
       "(%o6) [[  0    1  ], \n",
       "       [          ]\n",
       "       [  4    0  ]\n",
       "       [          ]\n",
       "       [  3    1  ]\n",
       "       [    metric                   pairwise cluster distances              ]\n",
       "       [                                                                     ]\n",
       "       [   min_dist     [[[1, 2], sqrt(2)], [[2, 4], 3], [[1, 4], sqrt(17)]] ]\n",
       "       [                                                                     ]\n",
       "       [   max_dist     [[[1, 2], sqrt(2)], [[2, 4], 3], [[1, 4], sqrt(17)]] ]\n",
       "       [                                                                     ]]\n",
       "       [ centroid_dist  [[[1, 2], sqrt(2)], [[2, 4], 3], [[1, 4], sqrt(17)]] ]\n",
       "       [                                                                     ]\n",
       "       [                                                          34         ]\n",
       "       [   ward_dist          [[[1, 2], 1], [[2, 4], 6], [[1, 4], --]]       ]\n",
       "       [                                                          3          ]"
      ],
      "text/x-maxima": [
       "[matrix([X_1,X_2],[0,1],[0,1],[4,0],[3,1]),\n",
       " matrix([\"metric\",\"pairwise cluster distances\"],\n",
       "        [min_dist,[[[1,2],sqrt(2)],[[2,4],3],[[1,4],sqrt(17)]]],\n",
       "        [max_dist,[[[1,2],sqrt(2)],[[2,4],3],[[1,4],sqrt(17)]]],\n",
       "        [centroid_dist,[[[1,2],sqrt(2)],[[2,4],3],[[1,4],sqrt(17)]]],\n",
       "        [ward_dist,[[[1,2],1],[[2,4],6],[[1,4],34/3]]])]"
      ]
     },
     "execution_count": 7,
     "metadata": {},
     "output_type": "execute_result"
    }
   ],
   "source": [
    "block(\n",
    "    [\n",
    "        fns: ['X_1, 'X_2],\n",
    "        cfns: ['X_1, 'X_2],\n",
    "        data_1, data_2, data, C\n",
    "    ],\n",
    "    data_1: build_data(fns, lambda([i], [random(2), random(2)]),2),\n",
    "    data_2: build_data(fns, lambda([i], [3+random(2), random(2)]),2),\n",
    "    data: stack_data(data_1, data_2),\n",
    "    C: [4,4,1,2],\n",
    "    dists: [min_dist, max_dist, centroid_dist, ward_dist],\n",
    "    [\n",
    "        data,\n",
    "        build_data_from_list(\n",
    "            [\"metric\", \"pairwise cluster distances\"],\n",
    "            map(lambda([d], [d, pairwise_cluster_dists(data, C, d)]), dists)\n",
    "        )\n",
    "    ]\n",
    ");"
   ]
  },
  {
   "cell_type": "markdown",
   "id": "19084938",
   "metadata": {},
   "source": [
    "The possible cluster distances are:\n",
    "- `min_dist(P, Q)`: The closest distance between rows of `P` and rows of `Q`.\n",
    "- `max_dist(P, Q)`: The furthest distance between rows of `P` and rows of `Q`.\n",
    "- `centroid_dist(P, Q)`: The distance between the centroid of rows of `P` and the centroid of row on `Q`.\n",
    "- `ward_dist(P, Q)`: The total variation (squared distances) of all the rows of `P` and `Q`."
   ]
  },
  {
   "cell_type": "markdown",
   "id": "a7cf84a4",
   "metadata": {},
   "source": [
    "### AGNES"
   ]
  },
  {
   "cell_type": "markdown",
   "id": "13278daf",
   "metadata": {},
   "source": [
    "Clusters can be agglomerated using `agglomerate(data, C, ids)` where\n",
    "- `ids` is a list of cluster indices to merge, and\n",
    "- the returned cluster assignment with have a new index `lmax(C)+1` for the merged clusters."
   ]
  },
  {
   "cell_type": "code",
   "execution_count": 8,
   "id": "12710fe6",
   "metadata": {},
   "outputs": [
    {
     "data": {
      "text/latex": [
       "\\[\\tag{${\\it \\%o}_{7}$}\\left[ \\begin{pmatrix}X_{1} & X_{2} \\\\ 1 & 1 \\\\ 1 & 0 \\\\ 3 & 0 \\\\ 4 & 0 \\\\ \\end{pmatrix} , \\left[ 4 , 4 , 1 , 2 \\right]  , \\left[ 1 , 2 \\right]  , \\left[ 4 , 4 , 5 , 5 \\right]  \\right] \\]"
      ],
      "text/plain": [
       "               [ X_1  X_2 ]\n",
       "               [          ]\n",
       "               [  1    1  ]\n",
       "               [          ]\n",
       "(%o7)         [[  1    0  ], [4, 4, 1, 2], [1, 2], [4, 4, 5, 5]]\n",
       "               [          ]\n",
       "               [  3    0  ]\n",
       "               [          ]\n",
       "               [  4    0  ]"
      ],
      "text/x-maxima": [
       "[matrix([X_1,X_2],[1,1],[1,0],[3,0],[4,0]),[4,4,1,2],[1,2],[4,4,5,5]]"
      ]
     },
     "execution_count": 8,
     "metadata": {},
     "output_type": "execute_result"
    }
   ],
   "source": [
    "block(\n",
    "    [\n",
    "        fns: ['X_1, 'X_2],\n",
    "        cfns: ['X_1, 'X_2],\n",
    "        data_1, data_2, data, C,  pcds\n",
    "    ],\n",
    "    data_1: build_data(fns, lambda([i], [random(2), random(2)]),2),\n",
    "    data_2: build_data(fns, lambda([i], [3+random(2), random(2)]),2),\n",
    "    data: stack_data(data_1, data_2),\n",
    "    C: [4,4,1,2],\n",
    "    pcds: pairwise_cluster_dists(data, C, min_dist),\n",
    "    ids: pcds[1][1],\n",
    "    [data, C, ids, agglomerate(data, C, ids)]\n",
    ");"
   ]
  },
  {
   "cell_type": "markdown",
   "id": "aeb7edfe",
   "metadata": {},
   "source": [
    "An agglomerative nesting algorithm (AGNES) for clustering can be performed with `agnes(data, dist, k)` where `k` is the number of clusters to merge to, and `dist` is the cluster distance to minimize by merging two clusters;"
   ]
  },
  {
   "cell_type": "code",
   "execution_count": 9,
   "id": "d2a4095c",
   "metadata": {},
   "outputs": [
    {
     "data": {
      "text/latex": [
       "\\[\\tag{${\\it \\%o}_{8}$}\\left[ \\begin{pmatrix}X_{1} & X_{2} \\\\ 1 & 0 \\\\ 1 & 0 \\\\ 4 & 0 \\\\ 3 & 1 \\\\ \\end{pmatrix} , \\left[ \\left[ 5 , 5 , 6 , 6 \\right]  , \\left[ \\left[ \\left[ 1 , 2 , 3 , 4 \\right]  , \\left[ 1 , 2 \\right]  , 0 \\right]  , \\left[ \\left[ 5 , 5 , 3 , 4 \\right]  , \\left[ 3 , 4 \\right]  , \\sqrt{2} \\right]  \\right]  \\right]  \\right] \\]"
      ],
      "text/plain": [
       "       [ X_1  X_2 ]\n",
       "       [          ]\n",
       "       [  1    0  ]\n",
       "       [          ]\n",
       "(%o8) [[  1    0  ], [[5, 5, 6, 6], [[[1, 2, 3, 4], [1, 2], 0], \n",
       "       [          ]\n",
       "       [  4    0  ]\n",
       "       [          ]\n",
       "       [  3    1  ]\n",
       "                                             [[5, 5, 3, 4], [3, 4], sqrt(2)]]]]"
      ],
      "text/x-maxima": [
       "[matrix([X_1,X_2],[1,0],[1,0],[4,0],[3,1]),\n",
       " [[5,5,6,6],[[[1,2,3,4],[1,2],0],[[5,5,3,4],[3,4],sqrt(2)]]]]"
      ]
     },
     "execution_count": 9,
     "metadata": {},
     "output_type": "execute_result"
    }
   ],
   "source": [
    "block(\n",
    "    [\n",
    "        fns: ['X_1, 'X_2],\n",
    "        cfns: ['X_1, 'X_2],\n",
    "        data_1, data_2, data\n",
    "    ],\n",
    "    data_1: build_data(fns, lambda([i], [random(2), random(2)]),2),\n",
    "    data_2: build_data(fns, lambda([i], [3+random(2), random(2)]),2),\n",
    "    data: stack_data(data_1, data_2),\n",
    "    [data, agnes(data, min_dist, 2)]\n",
    ");"
   ]
  },
  {
   "cell_type": "markdown",
   "id": "c97cf94f",
   "metadata": {},
   "source": [
    "`agnes` returns a pair where\n",
    "- the first element is the desired cluster assignment for k clusters, and\n",
    "- the second element is a list where the `l`-th element is `[C, [i,j], d]` where \n",
    "  - `C` is the cluster assignment right before the `l`-th agglomeration,\n",
    "  - `i` and `j` are the cluster indices to be merged to a new cluster, which will have index `lmax(C)+1`, and\n",
    "  - `d` is the distance of Cluster `i` and `j` calculated using `dist`."
   ]
  },
  {
   "cell_type": "markdown",
   "id": "67e35494",
   "metadata": {
    "tags": []
   },
   "source": [
    "## Density-based methods"
   ]
  },
  {
   "cell_type": "markdown",
   "id": "9483d2b8",
   "metadata": {},
   "source": [
    "The core distances of points in a data set `data` can be computed by `core_dists(data, MinPts, eps)` where\n",
    "`MinPts` and `eps` are the usual parameters for OPTICS/DBSCAN."
   ]
  },
  {
   "cell_type": "code",
   "execution_count": 10,
   "id": "16d119b4",
   "metadata": {},
   "outputs": [
    {
     "data": {
      "text/latex": [
       "\\[\\tag{${\\it \\%o}_{9}$}\\left[ \\begin{pmatrix}X_{1} & X_{2} \\\\ 0 & 0 \\\\ 0 & 0 \\\\ 3 & 1 \\\\ 3 & 0 \\\\ \\end{pmatrix} , \\begin{pmatrix}\\mbox{ core\\_dist } & \\mbox{ neighbors } & d_{1} & d_{2} & d_{3} & d_{4} \\\\ 3 & \\left[ 1 , 2 , 4 \\right]  & 0 & 0 & \\sqrt{10} & 3 \\\\ 3 & \\left[ 1 , 2 , 4 \\right]  & 0 & 0 & \\sqrt{10} & 3 \\\\ \\infty  & \\left[ 3 , 4 \\right]  & \\sqrt{10} & \\sqrt{10} & 0 & 1 \\\\ 3 & \\left[ 4 , 3 , 1 , 2 \\right]  & 3 & 3 & 1 & 0 \\\\ \\end{pmatrix} , \\left[ 3 , 3 , \\infty  , 3 \\right]  , \\left[ 0 , 0 , \\sqrt{10} , 3 \\right]  \\right] \\]"
      ],
      "text/plain": [
       "       [ X_1  X_2 ]\n",
       "       [          ]\n",
       "       [  0    0  ]\n",
       "       [          ]\n",
       "(%o9) [[  0    0  ], \n",
       "       [          ]\n",
       "       [  3    1  ]\n",
       "       [          ]\n",
       "       [  3    0  ]\n",
       "[ core_dist   neighbors       d         d         d      d  ]\n",
       "[                              1         2         3      4 ]\n",
       "[                                                           ]\n",
       "[     3       [1, 2, 4]       0         0      sqrt(10)  3  ]\n",
       "[                                                           ], [3, 3, inf, 3], \n",
       "[     3       [1, 2, 4]       0         0      sqrt(10)  3  ]\n",
       "[                                                           ]\n",
       "[    inf        [3, 4]     sqrt(10)  sqrt(10)     0      1  ]\n",
       "[                                                           ]\n",
       "[     3      [4, 3, 1, 2]     3         3         1      0  ]\n",
       "[0, 0, sqrt(10), 3]]"
      ],
      "text/x-maxima": [
       "[matrix([X_1,X_2],[0,0],[0,0],[3,1],[3,0]),\n",
       " matrix([\"core_dist\",\"neighbors\",'d[1],'d[2],'d[3],'d[4]],\n",
       "        [3,[1,2,4],0,0,sqrt(10),3],[3,[1,2,4],0,0,sqrt(10),3],\n",
       "        [inf,[3,4],sqrt(10),sqrt(10),0,1],[3,[4,3,1,2],3,3,1,0]),[3,3,inf,3],\n",
       " [0,0,sqrt(10),3]]"
      ]
     },
     "execution_count": 10,
     "metadata": {},
     "output_type": "execute_result"
    }
   ],
   "source": [
    "block(\n",
    "    [\n",
    "        fns: ['X_1, 'X_2],\n",
    "        cfns: ['X_1, 'X_2],\n",
    "        data_1, data_2, data,\n",
    "        MinPts: 3,\n",
    "        eps: 3,\n",
    "        cdm\n",
    "    ],\n",
    "    data_1: build_data(fns, lambda([i], [random(2), random(2)]),2),\n",
    "    data_2: build_data(fns, lambda([i], [3+random(2), random(2)]),2),\n",
    "    data: stack_data(data_1, data_2),\n",
    "    cdm: core_dists(data, MinPts, eps),\n",
    "    [data, cdm, feature_values(cdm, \"core_dist\"), feature_values(cdm, 'd[1])]\n",
    ");"
   ]
  },
  {
   "cell_type": "markdown",
   "id": "ef85d38f",
   "metadata": {},
   "source": [
    "The core distances and other related quantities are returned as a data set where the $i$-th instance consists of the following for the $i$-th instance in data:\n",
    "- `\"core_dist\"`: The core distance, which is `inf` by convention if there are fewer than `MinPts` data points within the `eps`-neighborhood.\n",
    "- `\"neighbors\"`: The list of indices corresponding to points in the `eps`-neighborhood.\n",
    "- `'d[j]`: The distance to the $j$-th instance."
   ]
  },
  {
   "cell_type": "markdown",
   "id": "7206e2db",
   "metadata": {},
   "source": [
    "### DBSCAN"
   ]
  },
  {
   "cell_type": "markdown",
   "id": "1e10fbf3",
   "metadata": {},
   "source": [
    "`dbscan(data, MinPts, eps)` applies DBSCAN to cluster points in `data` where a core point has at least `MinPts` data points in its `eps`-neighborhood:"
   ]
  },
  {
   "cell_type": "code",
   "execution_count": 11,
   "id": "c437108e",
   "metadata": {},
   "outputs": [
    {
     "data": {
      "text/latex": [
       "\\[\\tag{${\\it \\%o}_{10}$}\\left[ \\begin{pmatrix}X_{1} & X_{2} \\\\ 1 & 1 \\\\ 0 & 0 \\\\ 0 & 0 \\\\ 5 & 0 \\\\ 6 & 1 \\\\ 6 & 0 \\\\ \\end{pmatrix} , \\begin{pmatrix}\\mbox{ core\\_dist } & \\mbox{ neighbors } & d_{1} & d_{2} & d_{3} & d_{4} & d_{5} & d_{6} \\\\ \\infty  & \\left[ 1 \\right]  & 0 & \\sqrt{2} & \\sqrt{2} & \\sqrt{17} & 5 & \\sqrt{26} \\\\ \\infty  & \\left[ 2 , 3 \\right]  & \\sqrt{2} & 0 & 0 & 5 & \\sqrt{37} & 6 \\\\ \\infty  & \\left[ 2 , 3 \\right]  & \\sqrt{2} & 0 & 0 & 5 & \\sqrt{37} & 6 \\\\ \\infty  & \\left[ 4 , 6 \\right]  & \\sqrt{17} & 5 & 5 & 0 & \\sqrt{2} & 1 \\\\ \\infty  & \\left[ 5 , 6 \\right]  & 5 & \\sqrt{37} & \\sqrt{37} & \\sqrt{2} & 0 & 1 \\\\ 1 & \\left[ 6 , 4 , 5 \\right]  & \\sqrt{26} & 6 & 6 & 1 & 1 & 0 \\\\ \\end{pmatrix} , \\left[ \\left \\{\\left \\{4 , 5 , 6 \\right \\} \\right \\} , \\left \\{1 , 2 , 3 \\right \\} , \\left \\{6 \\right \\} , \\left \\{4 , 5 \\right \\} \\right]  \\right] \\]"
      ],
      "text/plain": [
       "        [ X_1  X_2 ]\n",
       "        [          ]\n",
       "        [  1    1  ]\n",
       "        [          ]\n",
       "        [  0    0  ]\n",
       "        [          ]\n",
       "(%o10) [[  0    0  ], matrix([core_dist, neighbors, d , d , d , d , d , d ], \n",
       "        [          ]                                 1   2   3   4   5   6\n",
       "        [  5    0  ]\n",
       "        [          ]\n",
       "        [  6    1  ]\n",
       "        [          ]\n",
       "        [  6    0  ]\n",
       "[inf, [1], 0, sqrt(2), sqrt(2), sqrt(17), 5, sqrt(26)], \n",
       "[inf, [2, 3], sqrt(2), 0, 0, 5, sqrt(37), 6], \n",
       "[inf, [2, 3], sqrt(2), 0, 0, 5, sqrt(37), 6], \n",
       "[inf, [4, 6], sqrt(17), 5, 5, 0, sqrt(2), 1], \n",
       "[inf, [5, 6], 5, sqrt(37), sqrt(37), sqrt(2), 0, 1], \n",
       "[1, [6, 4, 5], sqrt(26), 6, 6, 1, 1, 0]), \n",
       "[{{4, 5, 6}}, {1, 2, 3}, {6}, {4, 5}]]"
      ],
      "text/x-maxima": [
       "[matrix([X_1,X_2],[1,1],[0,0],[0,0],[5,0],[6,1],[6,0]),\n",
       " matrix([\"core_dist\",\"neighbors\",'d[1],'d[2],'d[3],'d[4],'d[5],'d[6]],\n",
       "        [inf,[1],0,sqrt(2),sqrt(2),sqrt(17),5,sqrt(26)],\n",
       "        [inf,[2,3],sqrt(2),0,0,5,sqrt(37),6],\n",
       "        [inf,[2,3],sqrt(2),0,0,5,sqrt(37),6],\n",
       "        [inf,[4,6],sqrt(17),5,5,0,sqrt(2),1],\n",
       "        [inf,[5,6],5,sqrt(37),sqrt(37),sqrt(2),0,1],\n",
       "        [1,[6,4,5],sqrt(26),6,6,1,1,0]),[{{4,5,6}},{1,2,3},{6},{4,5}]]"
      ]
     },
     "execution_count": 11,
     "metadata": {},
     "output_type": "execute_result"
    }
   ],
   "source": [
    "block(\n",
    "    [\n",
    "        fns: ['X_1, 'X_2],\n",
    "        cfns: ['X_1, 'X_2],\n",
    "        data_1, data_2, data,\n",
    "        MinPts: 3,\n",
    "        eps: 1,\n",
    "        cdm\n",
    "    ],\n",
    "    data_1: build_data(fns, lambda([i], [random(2), random(2)]),3),\n",
    "    data_2: build_data(fns, lambda([i], [5+random(2), random(2)]),3),\n",
    "    data: stack_data(data_1, data_2),\n",
    "    cdm: core_dists(data, MinPts, eps),\n",
    "    [data, cdm, dbscan(data, MinPts, eps)]\n",
    ");"
   ]
  },
  {
   "cell_type": "markdown",
   "id": "ee555c5f",
   "metadata": {},
   "source": [
    "`dbscan` returns a list consisting of\n",
    "- the set of clusters (sets of indices), \n",
    "- the set of noise points,\n",
    "- the set of core points, and\n",
    "- the set of border points."
   ]
  },
  {
   "cell_type": "markdown",
   "id": "6e356ab2",
   "metadata": {},
   "source": [
    "### OPTICS"
   ]
  },
  {
   "cell_type": "markdown",
   "id": "8203defa",
   "metadata": {},
   "source": [
    "`optics(data, MinPts, eps)` applies OPTICS to clusters points in `data` where a core point has at least `MinPts` data points in its `eps`-neighborhood:"
   ]
  },
  {
   "cell_type": "code",
   "execution_count": 12,
   "id": "3bfd69eb",
   "metadata": {},
   "outputs": [
    {
     "data": {
      "text/latex": [
       "\\[\\tag{${\\it \\%o}_{11}$}\\left[ \\begin{pmatrix}X_{1} & X_{2} \\\\ 1 & 1 \\\\ 1 & 0 \\\\ 1 & 0 \\\\ 5 & 0 \\\\ 5 & 1 \\\\ 6 & 0 \\\\ \\end{pmatrix} , \\begin{pmatrix}\\mbox{ core\\_dist } & \\mbox{ neighbors } & d_{1} & d_{2} & d_{3} & d_{4} & d_{5} & d_{6} \\\\ 1 & \\left[ 1 , 2 , 3 \\right]  & 0 & 1 & 1 & \\sqrt{17} & 4 & \\sqrt{26} \\\\ 1 & \\left[ 2 , 3 , 1 \\right]  & 1 & 0 & 0 & 4 & \\sqrt{17} & 5 \\\\ 1 & \\left[ 2 , 3 , 1 \\right]  & 1 & 0 & 0 & 4 & \\sqrt{17} & 5 \\\\ 1 & \\left[ 4 , 5 , 6 \\right]  & \\sqrt{17} & 4 & 4 & 0 & 1 & 1 \\\\ \\infty  & \\left[ 5 , 4 \\right]  & 4 & \\sqrt{17} & \\sqrt{17} & 1 & 0 & \\sqrt{2} \\\\ \\infty  & \\left[ 6 , 4 \\right]  & \\sqrt{26} & 5 & 5 & 1 & \\sqrt{2} & 0 \\\\ \\end{pmatrix} , \\left[ \\begin{pmatrix}\\mbox{ reach\\_dist } & i \\\\ \\infty  & 1 \\\\ 1 & 2 \\\\ 1 & 3 \\\\ \\infty  & 4 \\\\ 1 & 5 \\\\ 1 & 6 \\\\ \\end{pmatrix} , \\left \\{ \\right \\} \\right]  \\right] \\]"
      ],
      "text/plain": [
       "        [ X_1  X_2 ]\n",
       "        [          ]\n",
       "        [  1    1  ]\n",
       "        [          ]\n",
       "        [  1    0  ]\n",
       "        [          ]\n",
       "(%o11) [[  1    0  ], matrix([core_dist, neighbors, d , d , d , d , d , d ], \n",
       "        [          ]                                 1   2   3   4   5   6\n",
       "        [  5    0  ]\n",
       "        [          ]\n",
       "        [  5    1  ]\n",
       "        [          ]\n",
       "        [  6    0  ]\n",
       "[1, [1, 2, 3], 0, 1, 1, sqrt(17), 4, sqrt(26)], \n",
       "[1, [2, 3, 1], 1, 0, 0, 4, sqrt(17), 5], \n",
       "[1, [2, 3, 1], 1, 0, 0, 4, sqrt(17), 5], \n",
       "[1, [4, 5, 6], sqrt(17), 4, 4, 0, 1, 1], \n",
       "[inf, [5, 4], 4, sqrt(17), sqrt(17), 1, 0, sqrt(2)], \n",
       "                                                [ reach_dist  i ]\n",
       "                                                [               ]\n",
       "                                                [    inf      1 ]\n",
       "                                                [               ]\n",
       "                                                [     1       2 ]\n",
       "                                                [               ]\n",
       "[inf, [6, 4], sqrt(26), 5, 5, 1, sqrt(2), 0]), [[     1       3 ], {}]]\n",
       "                                                [               ]\n",
       "                                                [    inf      4 ]\n",
       "                                                [               ]\n",
       "                                                [     1       5 ]\n",
       "                                                [               ]\n",
       "                                                [     1       6 ]"
      ],
      "text/x-maxima": [
       "[matrix([X_1,X_2],[1,1],[1,0],[1,0],[5,0],[5,1],[6,0]),\n",
       " matrix([\"core_dist\",\"neighbors\",'d[1],'d[2],'d[3],'d[4],'d[5],'d[6]],\n",
       "        [1,[1,2,3],0,1,1,sqrt(17),4,sqrt(26)],[1,[2,3,1],1,0,0,4,sqrt(17),5],\n",
       "        [1,[2,3,1],1,0,0,4,sqrt(17),5],[1,[4,5,6],sqrt(17),4,4,0,1,1],\n",
       "        [inf,[5,4],4,sqrt(17),sqrt(17),1,0,sqrt(2)],\n",
       "        [inf,[6,4],sqrt(26),5,5,1,sqrt(2),0]),\n",
       " [matrix([\"reach_dist\",i],[inf,1],[1,2],[1,3],[inf,4],[1,5],[1,6]),{}]]"
      ]
     },
     "execution_count": 12,
     "metadata": {},
     "output_type": "execute_result"
    }
   ],
   "source": [
    "block(\n",
    "    [\n",
    "        fns: ['X_1, 'X_2],\n",
    "        data_1, data_2, data,\n",
    "        MinPts: 3,\n",
    "        eps: 1,\n",
    "        cdm\n",
    "    ],\n",
    "    data_1: build_data(fns, lambda([i], [random(2), random(2)]),3),\n",
    "    data_2: build_data(fns, lambda([i], [5+random(2), random(2)]),3),\n",
    "    data: stack_data(data_1, data_2),\n",
    "    cdm: core_dists(data, MinPts, eps),\n",
    "    [data, cdm, optics(data, MinPts, eps)]\n",
    ");"
   ]
  },
  {
   "cell_type": "markdown",
   "id": "33d32da4",
   "metadata": {},
   "source": [
    "`optics` returns a pair consisting of\n",
    "- the data containing\n",
    "  - a column of reachability distances, and\n",
    "  - a column containing the corresponding list of nodes reached, and\n",
    "- the set of noise points."
   ]
  },
  {
   "cell_type": "markdown",
   "id": "0f3daf46",
   "metadata": {
    "tags": []
   },
   "source": [
    "## Evaluation metrics"
   ]
  },
  {
   "cell_type": "markdown",
   "id": "8f2efe19",
   "metadata": {},
   "source": [
    "### Pairwise correctness"
   ]
  },
  {
   "cell_type": "markdown",
   "id": "efd9ef37",
   "metadata": {},
   "source": [
    "`pairwise_correctness(C, L)` takes\n",
    "- the cluster assignment `C` and\n",
    "- the ground truth categorization `L`, \n",
    "\n",
    "and it returns a pair where\n",
    "- the first element is the pairwise correctness matrix, and\n",
    "- the second element is the accuracy measured in terms of the average correctness."
   ]
  },
  {
   "cell_type": "code",
   "execution_count": 13,
   "id": "6c24950f",
   "metadata": {},
   "outputs": [
    {
     "data": {
      "text/latex": [
       "\\[\\tag{${\\it \\%o}_{12}$}\\left[ \\begin{pmatrix}1 & 1 & 0 & 1 & 1 & 1 \\\\ 1 & 1 & 0 & 1 & 1 & 1 \\\\ 0 & 0 & 1 & 0 & 1 & 1 \\\\ 1 & 1 & 0 & 1 & 0 & 0 \\\\ 1 & 1 & 1 & 0 & 1 & 1 \\\\ 1 & 1 & 1 & 0 & 1 & 1 \\\\ \\end{pmatrix} , \\frac{13}{18} \\right] \\]"
      ],
      "text/plain": [
       "                           [ 1  1  0  1  1  1 ]\n",
       "                           [                  ]\n",
       "                           [ 1  1  0  1  1  1 ]\n",
       "                           [                  ]\n",
       "                           [ 0  0  1  0  1  1 ]  13\n",
       "(%o12)                    [[                  ], --]\n",
       "                           [ 1  1  0  1  0  0 ]  18\n",
       "                           [                  ]\n",
       "                           [ 1  1  1  0  1  1 ]\n",
       "                           [                  ]\n",
       "                           [ 1  1  1  0  1  1 ]"
      ],
      "text/x-maxima": [
       "[matrix([1,1,0,1,1,1],[1,1,0,1,1,1],[0,0,1,0,1,1],[1,1,0,1,0,0],[1,1,1,0,1,1],\n",
       "        [1,1,1,0,1,1]),13/18]"
      ]
     },
     "execution_count": 13,
     "metadata": {},
     "output_type": "execute_result"
    }
   ],
   "source": [
    "block(\n",
    "    [\n",
    "        L: [1,1,2,2,3,3],\n",
    "        C: [1,1,1,2,2,2]\n",
    "    ],\n",
    "    pairwise_correctness(C, L)\n",
    ");"
   ]
  },
  {
   "cell_type": "markdown",
   "id": "4afded45",
   "metadata": {},
   "source": [
    "### B-Cubed precision and recall"
   ]
  },
  {
   "cell_type": "markdown",
   "id": "0c716708",
   "metadata": {},
   "source": [
    "B-Cubed precision and recall can be computed using `BCubed(C, L)` for the cluster assignment `C` and categorization `L`:"
   ]
  },
  {
   "cell_type": "code",
   "execution_count": 14,
   "id": "de15ec73",
   "metadata": {},
   "outputs": [
    {
     "data": {
      "text/latex": [
       "\\[\\tag{${\\it \\%o}_{13}$}\\left[ \\left[ \\frac{5}{9} , \\frac{5}{6} \\right]  , \\begin{pmatrix}\\mbox{ TPj } & \\mbox{ FNj } & \\mbox{ FPj } & \\mbox{ TNj } & \\mbox{ TP } & \\mbox{ FN } & \\mbox{ FP } & \\mbox{ TN } & \\mbox{ precision } & \\mbox{ recall } \\\\ \\left[ 1 , 2 \\right]  & \\left[  \\right]  & \\left[ 3 \\right]  & \\left[ 4 , 5 , 6 \\right]  & 2 & 0 & 1 & 3 & \\frac{2}{3} & 1 \\\\ \\left[ 1 , 2 \\right]  & \\left[  \\right]  & \\left[ 3 \\right]  & \\left[ 4 , 5 , 6 \\right]  & 2 & 0 & 1 & 3 & \\frac{2}{3} & 1 \\\\ \\left[ 3 \\right]  & \\left[ 4 \\right]  & \\left[ 1 , 2 \\right]  & \\left[ 5 , 6 \\right]  & 1 & 1 & 2 & 2 & \\frac{1}{3} & \\frac{1}{2} \\\\ \\left[ 4 \\right]  & \\left[ 3 \\right]  & \\left[ 5 , 6 \\right]  & \\left[ 1 , 2 \\right]  & 1 & 1 & 2 & 2 & \\frac{1}{3} & \\frac{1}{2} \\\\ \\left[ 5 , 6 \\right]  & \\left[  \\right]  & \\left[ 4 \\right]  & \\left[ 1 , 2 , 3 \\right]  & 2 & 0 & 1 & 3 & \\frac{2}{3} & 1 \\\\ \\left[ 5 , 6 \\right]  & \\left[  \\right]  & \\left[ 4 \\right]  & \\left[ 1 , 2 , 3 \\right]  & 2 & 0 & 1 & 3 & \\frac{2}{3} & 1 \\\\ \\end{pmatrix} \\right] \\]"
      ],
      "text/plain": [
       "         5  5\n",
       "(%o13) [[-, -], \n",
       "         9  6\n",
       "         [  TPj    FNj   FPj       TNj     TP  FN  FP  TN  precision  recall ]\n",
       "         [                                                                   ]\n",
       "         [                                                     2             ]\n",
       "         [ [1, 2]  []    [3]    [4, 5, 6]  2   0   1   3       -        1    ]\n",
       "         [                                                     3             ]\n",
       "         [                                                                   ]\n",
       "         [                                                     2             ]\n",
       "         [ [1, 2]  []    [3]    [4, 5, 6]  2   0   1   3       -        1    ]\n",
       "         [                                                     3             ]\n",
       "         [                                                                   ]\n",
       "         [                                                     1        1    ]\n",
       "         [  [3]    [4]  [1, 2]   [5, 6]    1   1   2   2       -        -    ]\n",
       "         [                                                     3        2    ]]\n",
       "         [                                                                   ]\n",
       "         [                                                     1        1    ]\n",
       "         [  [4]    [3]  [5, 6]   [1, 2]    1   1   2   2       -        -    ]\n",
       "         [                                                     3        2    ]\n",
       "         [                                                                   ]\n",
       "         [                                                     2             ]\n",
       "         [ [5, 6]  []    [4]    [1, 2, 3]  2   0   1   3       -        1    ]\n",
       "         [                                                     3             ]\n",
       "         [                                                                   ]\n",
       "         [                                                     2             ]\n",
       "         [ [5, 6]  []    [4]    [1, 2, 3]  2   0   1   3       -        1    ]\n",
       "         [                                                     3             ]"
      ],
      "text/x-maxima": [
       "[[5/9,5/6],\n",
       " matrix([\"TPj\",\"FNj\",\"FPj\",\"TNj\",\"TP\",\"FN\",\"FP\",\"TN\",\"precision\",\"recall\"],\n",
       "        [[1,2],[],[3],[4,5,6],2,0,1,3,2/3,1],\n",
       "        [[1,2],[],[3],[4,5,6],2,0,1,3,2/3,1],\n",
       "        [[3],[4],[1,2],[5,6],1,1,2,2,1/3,1/2],\n",
       "        [[4],[3],[5,6],[1,2],1,1,2,2,1/3,1/2],\n",
       "        [[5,6],[],[4],[1,2,3],2,0,1,3,2/3,1],\n",
       "        [[5,6],[],[4],[1,2,3],2,0,1,3,2/3,1])]"
      ]
     },
     "execution_count": 14,
     "metadata": {},
     "output_type": "execute_result"
    }
   ],
   "source": [
    "block(\n",
    "    [\n",
    "        L: [1,1,2,2,3,3],\n",
    "        C: [1,1,1,2,2,2]\n",
    "    ],\n",
    "    BCubed(C, L)\n",
    ");"
   ]
  },
  {
   "cell_type": "markdown",
   "id": "6b5f7288",
   "metadata": {},
   "source": [
    "- The first element of the returned list is a list `[precision, recall]` of the overall precision and recall.\n",
    "- The second element contains more detailed statistics per node. E.g., for the $i$-th instance, the column TPj contains the list of index $j$ such that $(i,j)$ is a true positive, while the feature TP is the total count of such index $j$. The remaining columns give the precision and recall for each instance."
   ]
  },
  {
   "cell_type": "markdown",
   "id": "6f59cb36",
   "metadata": {},
   "source": [
    "### Classes-to-clusters evaluation"
   ]
  },
  {
   "cell_type": "markdown",
   "id": "5f204856",
   "metadata": {},
   "source": [
    "`classes_to_clusters_eval(L, C)` carry the classes-to-clusters evaluation on the categorization `L` and cluster assignment `C`.\n",
    "The returned list consists of  \n",
    "- the accuracy maximized over the classes-to-clusters assignment,\n",
    "- the assignment in the form of a list of `[l,c]` where `l` is a class index and `c` is a cluster index, and\n",
    "- the list consisting of  \n",
    "  - the list `l` of unique class labels in ascending order, \n",
    "  - the list `c` of unique cluster labels in ascending order, and\n",
    "  - the list `lst` of list of counts where `lst[i][j]` is the counts of instances associated with class index `l[i]` and cluster index `c[j]`."
   ]
  },
  {
   "cell_type": "code",
   "execution_count": 15,
   "id": "6a9ef6c5",
   "metadata": {},
   "outputs": [
    {
     "data": {
      "text/latex": [
       "\\[\\tag{${\\it \\%o}_{14}$}\\left[ \\frac{2}{3} , \\left[ \\left[ 1 , 1 \\right]  , \\left[ 2 , 3 \\right]  \\right]  , \\left[ \\left[ \\left[ 1 , 2 \\right]  , \\left[ \\left[ 1 , 2 , 3 \\right]  , \\left[ 4 , 5 , 6 \\right]  \\right]  \\right]  , \\left[ \\left[ 1 , 2 , 3 \\right]  , \\left[ \\left[ 1 , 2 \\right]  , \\left[ 3 , 4 \\right]  , \\left[ 5 , 6 \\right]  \\right]  \\right]  , \\left[ \\left[ 2 , 1 , 0 \\right]  , \\left[ 0 , 1 , 2 \\right]  \\right]  \\right]  \\right] \\]"
      ],
      "text/plain": [
       "        2\n",
       "(%o14) [-, [[1, 1], [2, 3]], [[[1, 2], [[1, 2, 3], [4, 5, 6]]], \n",
       "        3\n",
       "                [[1, 2, 3], [[1, 2], [3, 4], [5, 6]]], [[2, 1, 0], [0, 1, 2]]]]"
      ],
      "text/x-maxima": [
       "[2/3,[[1,1],[2,3]],\n",
       " [[[1,2],[[1,2,3],[4,5,6]]],[[1,2,3],[[1,2],[3,4],[5,6]]],[[2,1,0],[0,1,2]]]]"
      ]
     },
     "execution_count": 15,
     "metadata": {},
     "output_type": "execute_result"
    }
   ],
   "source": [
    "block(\n",
    "    [\n",
    "        C: [1,1,2,2,3,3],\n",
    "        L: [1,1,1,2,2,2]\n",
    "    ],\n",
    "    classes_to_clusters_eval(L, C)\n",
    ");"
   ]
  },
  {
   "cell_type": "markdown",
   "id": "0a9b0034",
   "metadata": {},
   "source": [
    "### Silhouette analysis"
   ]
  },
  {
   "cell_type": "markdown",
   "id": "2d627214",
   "metadata": {},
   "source": [
    "Silhouette coefficients can be computed by `silhouette(data, C)` for the data set `data` with cluster assignment `C` as follows:"
   ]
  },
  {
   "cell_type": "code",
   "execution_count": 16,
   "id": "f31ca674",
   "metadata": {},
   "outputs": [
    {
     "data": {
      "text/latex": [
       "\\[\\tag{${\\it \\%o}_{15}$}\\left[ \\begin{pmatrix}X_{1} & X_{2} \\\\ 0 & 1 \\\\ 0 & 1 \\\\ 3 & 1 \\\\ 4 & 0 \\\\ \\end{pmatrix} , \\begin{pmatrix}a & b & \\mbox{ nearest } & s \\\\ \\sqrt{2} & 3 & 2 & \\frac{3-\\sqrt{2}}{3} \\\\ \\sqrt{2} & \\sqrt{17} & 2 & \\frac{\\sqrt{17}-\\sqrt{2}}{\\sqrt{17}} \\\\ 0 & \\frac{\\sqrt{17}+3}{2} & 1 & 1 \\\\ 0 & \\frac{\\sqrt{17}+3}{2} & 1 & 1 \\\\ \\end{pmatrix} \\right] \\]"
      ],
      "text/plain": [
       "                      [    a          b        nearest          s          ]\n",
       "                      [                                                    ]\n",
       "                      [                                    3 - sqrt(2)     ]\n",
       "                      [ sqrt(2)       3           2        -----------     ]\n",
       "        [ X_1  X_2 ]  [                                         3          ]\n",
       "        [          ]  [                                                    ]\n",
       "        [  0    1  ]  [                                 sqrt(17) - sqrt(2) ]\n",
       "        [          ]  [ sqrt(2)    sqrt(17)       2     ------------------ ]\n",
       "(%o15) [[  0    1  ], [                                      sqrt(17)      ]]\n",
       "        [          ]  [                                                    ]\n",
       "        [  3    1  ]  [          sqrt(17) + 3                              ]\n",
       "        [          ]  [    0     ------------     1             1          ]\n",
       "        [  4    0  ]  [               2                                    ]\n",
       "                      [                                                    ]\n",
       "                      [          sqrt(17) + 3                              ]\n",
       "                      [    0     ------------     1             1          ]\n",
       "                      [               2                                    ]"
      ],
      "text/x-maxima": [
       "[matrix([X_1,X_2],[0,1],[0,1],[3,1],[4,0]),\n",
       " matrix([a,b,\"nearest\",s],[sqrt(2),3,2,(3-sqrt(2))/3],\n",
       "        [sqrt(2),sqrt(17),2,(sqrt(17)-sqrt(2))/sqrt(17)],\n",
       "        [0,(sqrt(17)+3)/2,1,1],[0,(sqrt(17)+3)/2,1,1])]"
      ]
     },
     "execution_count": 16,
     "metadata": {},
     "output_type": "execute_result"
    }
   ],
   "source": [
    "block(\n",
    "    [\n",
    "        fns: ['X_1, 'X_2],\n",
    "        cfns: ['X_1, 'X_2],\n",
    "        data_1, data_2, data,\n",
    "        C\n",
    "    ],\n",
    "    data_1: build_data(fns, lambda([i], [random(2), random(2)]),2),\n",
    "    data_2: build_data(fns, lambda([i], [3+random(2), random(2)]),2),\n",
    "    data: stack_data(data_1, data_2),\n",
    "    C: [2,2,1,1],\n",
    "    [data, silhouette(data, C)]\n",
    ");"
   ]
  },
  {
   "cell_type": "markdown",
   "id": "359f3233",
   "metadata": {},
   "source": [
    "`silhouette(data, C)` returns data with columns:\n",
    "- `'a`: mean intra-cluster distance. \n",
    "- `'b`: mean nearest-cluster distance.\n",
    "- `\"nearest\"`: index of the nearest cluster. \n",
    "- `'s`: silhouette coefficient."
   ]
  }
 ],
 "metadata": {
  "kernelspec": {
   "display_name": "Maxima",
   "language": "maxima",
   "name": "maxima"
  },
  "language_info": {
   "codemirror_mode": "maxima",
   "file_extension": ".mac",
   "mimetype": "text/x-maxima",
   "name": "maxima",
   "pygments_lexer": "maxima",
   "version": "5.45post"
  },
  "widgets": {
   "application/vnd.jupyter.widget-state+json": {
    "state": {},
    "version_major": 2,
    "version_minor": 0
   }
  }
 },
 "nbformat": 4,
 "nbformat_minor": 5
}
