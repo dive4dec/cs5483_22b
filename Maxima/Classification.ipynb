{
 "cells": [
  {
   "cell_type": "markdown",
   "id": "41817324",
   "metadata": {
    "tags": []
   },
   "source": [
    "# Classification"
   ]
  },
  {
   "cell_type": "markdown",
   "id": "a1b978d8",
   "metadata": {
    "tags": [
     "remove-cell"
    ]
   },
   "source": [
    "**CS5483 Data Warehousing and Data Mining**\n",
    "___"
   ]
  },
  {
   "cell_type": "code",
   "execution_count": 1,
   "id": "2279cc98",
   "metadata": {
    "tags": []
   },
   "outputs": [],
   "source": [
    "load(\"datamining.mac\")$"
   ]
  },
  {
   "cell_type": "markdown",
   "id": "63779168",
   "metadata": {},
   "source": [
    "## Decision tree induction"
   ]
  },
  {
   "cell_type": "markdown",
   "id": "9691af9a",
   "metadata": {},
   "source": [
    "### Distribution"
   ]
  },
  {
   "cell_type": "markdown",
   "id": "08fb4a8d",
   "metadata": {},
   "source": [
    "`empirical(lst)` computes the empirical distribution of the list `lst`."
   ]
  },
  {
   "cell_type": "code",
   "execution_count": 2,
   "id": "dc4f3353",
   "metadata": {},
   "outputs": [
    {
     "data": {
      "text/latex": [
       "\\[\\tag{${\\it \\%o}_{1}$}\\left[ \\left[ 1 , 2 , 3 \\right]  , \\left[ \\frac{1}{6} , \\frac{1}{3} , \\frac{1}{2} \\right]  \\right] \\]"
      ],
      "text/plain": [
       "                                         1  1  1\n",
       "(%o1)                       [[1, 2, 3], [-, -, -]]\n",
       "                                         6  3  2"
      ],
      "text/x-maxima": [
       "[[1,2,3],[1/6,1/3,1/2]]"
      ]
     },
     "execution_count": 2,
     "metadata": {},
     "output_type": "execute_result"
    }
   ],
   "source": [
    "block(\n",
    "    [lst:[2,2,1,3,3,3]],\n",
    "    empirical(lst)\n",
    ");"
   ]
  },
  {
   "cell_type": "markdown",
   "id": "5268a280",
   "metadata": {},
   "source": [
    "A pair is returned, where \n",
    "- the first element is the list of unique values sorted in ascending order, and \n",
    "- the second element is their fractional number of occurences."
   ]
  },
  {
   "cell_type": "markdown",
   "id": "138a7e6e",
   "metadata": {},
   "source": [
    "### Information gain"
   ]
  },
  {
   "cell_type": "markdown",
   "id": "bb0c3a08",
   "metadata": {},
   "source": [
    "An impurity measure for decision tree induction is entropy computed as `entropy(ps)` for some distribution `ps` as a list of probability masses:"
   ]
  },
  {
   "cell_type": "code",
   "execution_count": 3,
   "id": "dfc929a1",
   "metadata": {},
   "outputs": [
    {
     "data": {
      "text/latex": [
       "\\[\\tag{${\\it \\%o}_{2}$}\\sum_{p\\in{{\\it ps}}}{\\left(\\mathbf{if}\\;{\\it equal}\\left(p , 0\\right)\\;\\mathbf{then}\\;0\\;\\mathbf{else}\\;-p\\,{\\it log}_{2}\\left(p\\right)\\right)}\\]"
      ],
      "text/plain": [
       "               ====\n",
       "               \\\n",
       "(%o2)           >      (if equal(p, 0) then 0 else - p log2(p))\n",
       "               /\n",
       "               ====\n",
       "               p in ps"
      ],
      "text/x-maxima": [
       "'lsum(if equal(p,0) then 0 else -p*log2(p),p,ps)"
      ]
     },
     "execution_count": 3,
     "metadata": {},
     "output_type": "execute_result"
    }
   ],
   "source": [
    "entropy(ps);"
   ]
  },
  {
   "cell_type": "markdown",
   "id": "e00aa3ae",
   "metadata": {},
   "source": [
    "The information gain ratios and related information quantities can be computed as follows:"
   ]
  },
  {
   "cell_type": "code",
   "execution_count": 4,
   "id": "aed18215",
   "metadata": {},
   "outputs": [
    {
     "data": {
      "text/latex": [
       "\\[\\tag{${\\it \\%o}_{3}$}\\left[ \\begin{pmatrix}i & X_{1} & X_{2} & Y \\\\ 1 & 0 & 0 & 0 \\\\ 2 & 1 & 0 & 1 \\\\ 3 & 1 & 1 & 0 \\\\ 4 & 1 & 1 & 1 \\\\ 5 & 0 & 0 & 1 \\\\ 6 & 0 & 1 & 0 \\\\ \\end{pmatrix} , 1 , \\begin{pmatrix}X & {\\it Info}_{X} & {\\it Gain}_{X} & {\\it SplitInfo}_{X} & {\\it GainRatio}_{X} \\\\ X_{1} & \\frac{\\log 3-2\\,\\log \\left(\\frac{2}{3}\\right)}{3\\,\\log 2} & -\\frac{\\log 3-3\\,\\log 2-2\\,\\log \\left(\\frac{2}{3}\\right)}{3\\,\\log 2} & 1 & -\\frac{\\log 3-3\\,\\log 2-2\\,\\log \\left(\\frac{2}{3}\\right)}{3\\,\\log 2} \\\\ X_{2} & \\frac{\\log 3-2\\,\\log \\left(\\frac{2}{3}\\right)}{3\\,\\log 2} & -\\frac{\\log 3-3\\,\\log 2-2\\,\\log \\left(\\frac{2}{3}\\right)}{3\\,\\log 2} & 1 & -\\frac{\\log 3-3\\,\\log 2-2\\,\\log \\left(\\frac{2}{3}\\right)}{3\\,\\log 2} \\\\ \\end{pmatrix} \\right] \\]"
      ],
      "text/plain": [
       "       [ i  X_1  X_2  Y ]\n",
       "       [                ]\n",
       "       [ 1   0    0   0 ]\n",
       "       [                ]\n",
       "       [ 2   1    0   1 ]\n",
       "       [                ]\n",
       "(%o3) [[ 3   1    1   0 ], 1, matrix([X, Info , Gain , SplitInfo , \n",
       "       [                ]                    X      X           X\n",
       "       [ 4   1    1   1 ]\n",
       "       [                ]\n",
       "       [ 5   0    0   1 ]\n",
       "       [                ]\n",
       "       [ 6   0    1   0 ]\n",
       "                                  2                               2\n",
       "                   log(3) - 2 log(-)    log(3) - 3 log(2) - 2 log(-)\n",
       "                                  3                               3\n",
       "GainRatio ], [X_1, -----------------, - ----------------------------, 1, \n",
       "         X             3 log(2)                   3 log(2)\n",
       "                            2                         2\n",
       "  log(3) - 3 log(2) - 2 log(-)         log(3) - 2 log(-)\n",
       "                            3                         3\n",
       "- ----------------------------], [X_2, -----------------, \n",
       "            3 log(2)                       3 log(2)\n",
       "                            2                                  2\n",
       "  log(3) - 3 log(2) - 2 log(-)       log(3) - 3 log(2) - 2 log(-)\n",
       "                            3                                  3\n",
       "- ----------------------------, 1, - ----------------------------])]\n",
       "            3 log(2)                           3 log(2)"
      ],
      "text/x-maxima": [
       "[matrix([i,X_1,X_2,Y],[1,0,0,0],[2,1,0,1],[3,1,1,0],[4,1,1,1],[5,0,0,1],\n",
       "        [6,0,1,0]),1,\n",
       " matrix([X,'Info[X],'Gain[X],'SplitInfo[X],'GainRatio[X]],\n",
       "        [X_1,(log(3)-2*log(2/3))/(3*log(2)),\n",
       "         -(log(3)-3*log(2)-2*log(2/3))/(3*log(2)),1,\n",
       "         -(log(3)-3*log(2)-2*log(2/3))/(3*log(2))],\n",
       "        [X_2,(log(3)-2*log(2/3))/(3*log(2)),\n",
       "         -(log(3)-3*log(2)-2*log(2/3))/(3*log(2)),1,\n",
       "         -(log(3)-3*log(2)-2*log(2/3))/(3*log(2))])]"
      ]
     },
     "execution_count": 4,
     "metadata": {},
     "output_type": "execute_result"
    }
   ],
   "source": [
    "block(\n",
    "    [\n",
    "        fns: ['i, 'X_1, 'X_2, 'Y],\n",
    "        n: 6,\n",
    "        gen: lambda([i], [i, random(2), random(2), random(2)]),\n",
    "        conds: ['X_1, 'X_2],\n",
    "        target: 'Y,\n",
    "        data, info\n",
    "    ],\n",
    "    data: build_data(fns, gen, n),\n",
    "    [\n",
    "        data,\n",
    "        Info(data, target),\n",
    "        build_data_from_list(\n",
    "            ['X, 'Info[X], 'Gain[X], 'SplitInfo[X], 'GainRatio[X]],\n",
    "            makelist(\n",
    "                map('simplify,\n",
    "                    [X,\n",
    "                     InfoX(data, target, X), \n",
    "                     Gain(data, target, X), \n",
    "                     SplitInfo(data, X), \n",
    "                     GainRatio(data, target, X)]\n",
    "                ), \n",
    "                X, conds\n",
    "            )\n",
    "        )\n",
    "    ]\n",
    ");"
   ]
  },
  {
   "cell_type": "markdown",
   "id": "2aaaa7af",
   "metadata": {},
   "source": [
    "where\n",
    "\n",
    "- `Info(data, target)` computes the information content (entropy) of `target` in `data`.\n",
    "- `InfoX(data, target, X)` computes the information (conditional entropy) given `X`.\n",
    "- `Gain(data, target, X)` calculates the information gain of `target` with `X`.\n",
    "- `SplitInfo(data, X)` calculates the split information (entropy) of `X`.\n",
    "- `GainRatio(data, target, X)` calculates the information gain ratio of `target` with `X`."
   ]
  },
  {
   "cell_type": "code",
   "execution_count": 5,
   "id": "16bb7d8e-90f3-449e-8ab1-de4e71e68d90",
   "metadata": {
    "tags": []
   },
   "outputs": [
    {
     "name": "stdout",
     "output_type": "stream",
     "text": [
      "\n",
      "\n",
      "\n"
     ]
    },
    {
     "data": {
      "text/plain": [
       "\n",
       " -- Function: makelist\n",
       "          makelist ()\n",
       "          makelist (<expr>, <n>)\n",
       "          makelist (<expr>, <i>, <i_max>)\n",
       "          makelist (<expr>, <i>, <i_0>, <i_max>)\n",
       "          makelist (<expr>, <i>, <i_0>, <i_max>, <step>)\n",
       "          makelist (<expr>, <x>, <list>)\n",
       "\n",
       "     The first form, 'makelist ()', creates an empty list.  The second\n",
       "     form, 'makelist (<expr>)', creates a list with <expr> as its single\n",
       "     element.  'makelist (<expr>, <n>)' creates a list of <n> elements\n",
       "     generated from <expr>.\n",
       "\n",
       "     The most general form, 'makelist (<expr>, <i>, <i_0>, <i_max>,\n",
       "     <step>)', returns the list of elements obtained when 'ev (<expr>,\n",
       "     <i>=<j>)' is applied to the elements <j> of the sequence: <i_0>,\n",
       "     <i_0> + <step>, <i_0> + 2*<step>, ..., with <|j|> less than or\n",
       "     equal to <|i_max|>.\n",
       "\n",
       "     The increment <step> can be a number (positive or negative) or an\n",
       "     expression.  If it is omitted, the default value 1 will be used.\n",
       "     If both <i_0> and <step> are omitted, they will both have a default\n",
       "     value of 1.\n",
       "\n",
       "     'makelist (<expr>, <x>, <list>)' returns a list, the 'j'th element\n",
       "     of which is equal to 'ev (<expr>, <x>=<list>[j])' for 'j' equal to\n",
       "     1 through 'length (<list>)'.\n",
       "\n",
       "     Examples:\n",
       "\n",
       "          (%i1) makelist (concat (x,i), i, 6);\n",
       "          (%o1)               [x1, x2, x3, x4, x5, x6]\n",
       "          (%i2) makelist (x=y, y, [a, b, c]);\n",
       "          (%o2)                 [x = a, x = b, x = c]\n",
       "          (%i3) makelist (x^2, x, 3, 2*%pi, 2);\n",
       "          (%o3)                        [9, 25]\n",
       "          (%i4) makelist (random(6), 4);\n",
       "          (%o4)                     [2, 0, 2, 5]\n",
       "          (%i5) flatten (makelist (makelist (i^2, 3), i, 4));\n",
       "          (%o5)        [1, 1, 1, 4, 4, 4, 9, 9, 9, 16, 16, 16]\n",
       "          (%i6) flatten (makelist (makelist (i^2, i, 3), 4));\n",
       "          (%o6)         [1, 4, 9, 1, 4, 9, 1, 4, 9, 1, 4, 9]\n",
       "\n"
      ]
     },
     "metadata": {},
     "output_type": "display_data"
    }
   ],
   "source": [
    "describe(makelist)$"
   ]
  },
  {
   "cell_type": "code",
   "execution_count": 6,
   "id": "0a7cd440-77cd-4f3a-adeb-7f9fbb7b54f7",
   "metadata": {
    "tags": []
   },
   "outputs": [
    {
     "name": "stdout",
     "output_type": "stream",
     "text": [
      "\n",
      "\n",
      "\n",
      "  There are also some inexact matches for `map'.\n",
      "  Try `?? map' to see them.\n",
      "\n"
     ]
    },
    {
     "data": {
      "text/plain": [
       "\n",
       " -- Function: map (<f>, <expr_1>, ..., <expr_n>)\n",
       "\n",
       "     Returns an expression whose leading operator is the same as that of\n",
       "     the expressions <expr_1>, ..., <expr_n> but whose subparts are the\n",
       "     results of applying <f> to the corresponding subparts of the\n",
       "     expressions.  <f> is either the name of a function of n arguments\n",
       "     or is a 'lambda' form of n arguments.\n",
       "\n",
       "     'maperror' - if 'false' will cause all of the mapping functions to\n",
       "     (1) stop when they finish going down the shortest <expr_i> if not\n",
       "     all of the <expr_i> are of the same length and (2) apply <f> to\n",
       "     [<expr_1>, <expr_2>, ...] if the <expr_i> are not all the same type\n",
       "     of object.  If 'maperror' is 'true' then an error message will be\n",
       "     given in the above two instances.\n",
       "\n",
       "     One of the uses of this function is to 'map' a function (e.g.\n",
       "     'partfrac') onto each term of a very large expression where it\n",
       "     ordinarily wouldn't be possible to use the function on the entire\n",
       "     expression due to an exhaustion of list storage space in the course\n",
       "     of the computation.\n",
       "\n",
       "     See also 'scanmap', 'maplist', 'outermap', 'matrixmap' and 'apply'.\n",
       "\n",
       "          (%i1) map(f,x+a*y+b*z);\n",
       "          (%o1)                        f(b z) + f(a y) + f(x)\n",
       "          (%i2) map(lambda([u],partfrac(u,x)),x+1/(x^3+4*x^2+5*x+2));\n",
       "                                     1       1        1\n",
       "          (%o2)                     ----- - ----- + -------- + x\n",
       "                                   x + 2   x + 1          2\n",
       "                                                   (x + 1)\n",
       "          (%i3) map(ratsimp, x/(x^2+x)+(y^2+y)/y);\n",
       "                                                1\n",
       "          (%o3)                            y + ----- + 1\n",
       "                                              x + 1\n",
       "          (%i4) map(\"=\",[a,b],[-0.5,3]);\n",
       "          (%o4)                          [a = - 0.5, b = 3]\n",
       "\n",
       "\n",
       "\n"
      ]
     },
     "metadata": {},
     "output_type": "display_data"
    }
   ],
   "source": [
    "describe(map)$"
   ]
  },
  {
   "cell_type": "markdown",
   "id": "0d664d86",
   "metadata": {},
   "source": [
    "### Gini impurity"
   ]
  },
  {
   "cell_type": "markdown",
   "id": "4119644b",
   "metadata": {},
   "source": [
    "Another impurity measure is the Gini impurity, which is computed as `gini(ps)`:"
   ]
  },
  {
   "cell_type": "code",
   "execution_count": 7,
   "id": "d39a0464",
   "metadata": {},
   "outputs": [
    {
     "data": {
      "text/latex": [
       "\\[\\tag{${\\it \\%o}_{6}$}\\sum_{p\\in{{\\it ps}}}{\\left(1-p\\right)\\,p}\\]"
      ],
      "text/plain": [
       "                               ====\n",
       "                               \\\n",
       "(%o6)                           >      (1 - p) p\n",
       "                               /\n",
       "                               ====\n",
       "                               p in ps"
      ],
      "text/x-maxima": [
       "'lsum((1-p)*p,p,ps)"
      ]
     },
     "execution_count": 7,
     "metadata": {},
     "output_type": "execute_result"
    }
   ],
   "source": [
    "gini(ps);"
   ]
  },
  {
   "cell_type": "markdown",
   "id": "dcdaf999-8db8-424b-87dd-019fadaa30cf",
   "metadata": {},
   "source": [
    "The quantity related to the Gini impurity can be computed as follows:"
   ]
  },
  {
   "cell_type": "code",
   "execution_count": 8,
   "id": "983fc666",
   "metadata": {},
   "outputs": [
    {
     "data": {
      "text/latex": [
       "\\[\\tag{${\\it \\%o}_{7}$}\\left[ \\begin{pmatrix}i & X_{1} & X_{2} & Y \\\\ 1 & 1 & 0 & 1 \\\\ 2 & 1 & 1 & 1 \\\\ 3 & 0 & 0 & 0 \\\\ 4 & 1 & 0 & 1 \\\\ 5 & 0 & 1 & 1 \\\\ 6 & 0 & 0 & 1 \\\\ \\end{pmatrix} , \\frac{5}{18} , \\begin{pmatrix}X & {\\it Gini}_{X} & {\\it GiniDrop}_{X} \\\\ X_{1} & \\frac{2}{9} & \\frac{1}{18} \\\\ X_{2} & \\frac{1}{4} & \\frac{1}{36} \\\\ \\mathbf{if}\\;X_{1}\\leq 0.5\\;\\mathbf{then}\\;1\\;\\mathbf{else}\\;0 & \\frac{2}{9} & \\frac{1}{18} \\\\ \\mathbf{if}\\;X_{2}>0.5\\;\\mathbf{then}\\;1\\;\\mathbf{else}\\;0 & \\frac{1}{4} & \\frac{1}{36} \\\\ \\end{pmatrix} \\right] \\]"
      ],
      "text/plain": [
       "       [ i  X_1  X_2  Y ]\n",
       "       [                ]\n",
       "       [ 1   1    0   1 ]\n",
       "       [                ]\n",
       "       [ 2   1    1   1 ]\n",
       "       [                ]  5\n",
       "(%o7) [[ 3   0    0   0 ], --, \n",
       "       [                ]  18\n",
       "       [ 4   1    0   1 ]\n",
       "       [                ]\n",
       "       [ 5   0    1   1 ]\n",
       "       [                ]\n",
       "       [ 6   0    0   1 ]\n",
       "                             [              X               Gini   GiniDrop  ]\n",
       "                             [                                  X          X ]\n",
       "                             [                                               ]\n",
       "                             [                                2       1      ]\n",
       "                             [             X_1                -       --     ]\n",
       "                             [                                9       18     ]\n",
       "                             [                                               ]\n",
       "                             [                                1       1      ]\n",
       "                             [             X_2                -       --     ]]\n",
       "                             [                                4       36     ]\n",
       "                             [                                               ]\n",
       "                             [                                2       1      ]\n",
       "                             [ if X_1 <= 0.5 then 1 else 0    -       --     ]\n",
       "                             [                                9       18     ]\n",
       "                             [                                               ]\n",
       "                             [                                1       1      ]\n",
       "                             [ if X_2 > 0.5 then 1 else 0     -       --     ]\n",
       "                             [                                4       36     ]"
      ],
      "text/x-maxima": [
       "[matrix([i,X_1,X_2,Y],[1,1,0,1],[2,1,1,1],[3,0,0,0],[4,1,0,1],[5,0,1,1],\n",
       "        [6,0,0,1]),5/18,\n",
       " matrix([X,'Gini[X],'GiniDrop[X]],[X_1,2/9,1/18],[X_2,1/4,1/36],\n",
       "        [if X_1 <= 0.5 then 1 else 0,2/9,1/18],\n",
       "        [if X_2 > 0.5 then 1 else 0,1/4,1/36])]"
      ]
     },
     "execution_count": 8,
     "metadata": {},
     "output_type": "execute_result"
    }
   ],
   "source": [
    "block(\n",
    "    [\n",
    "        fns: ['i, 'X_1, 'X_2, 'Y],\n",
    "        n: 6,\n",
    "        gen: lambda([i], [i, random(2), random(2), random(2)]),\n",
    "        conds: ['X_1, 'X_2, chi('X_1<=0.5), chi('X_2>0.5)],\n",
    "        target: 'Y,\n",
    "        data\n",
    "    ],\n",
    "    data: build_data(fns, gen, n),\n",
    "    [\n",
    "        data, Gini(data, target),\n",
    "        build_data_from_list(\n",
    "            ['X, 'Gini[X], 'GiniDrop[X]],\n",
    "            makelist(\n",
    "                [X, GiniX(data, target, X), GiniDrop(data, target, X)],\n",
    "                X, conds\n",
    "            )\n",
    "        )\n",
    "    ]\n",
    ");"
   ]
  },
  {
   "cell_type": "markdown",
   "id": "f8b61477",
   "metadata": {},
   "source": [
    "where\n",
    "\n",
    "- `Gini(data, target)` computes the Gini impurity of `target` in `data`.\n",
    "- `GiniX(data, target, X)` computes the conditional Gini impurity of `target` conditioned on `X`.\n",
    "- `GiniDrop(data, target, X)` computes the drop in Gini impurity for a splitting criterion `X`."
   ]
  },
  {
   "cell_type": "markdown",
   "id": "22919e77",
   "metadata": {},
   "source": [
    "## Rule-based classifier"
   ]
  },
  {
   "cell_type": "markdown",
   "id": "09aba480",
   "metadata": {},
   "source": [
    "### FOIL gain"
   ]
  },
  {
   "cell_type": "markdown",
   "id": "aeb56132",
   "metadata": {},
   "source": [
    "The following formula computes the FOIL gain \n",
    "- from a rule covering `p_0` positives and `n_0` negatives\n",
    "- to a rule covering `p_1` positives and `n_1` negatives."
   ]
  },
  {
   "cell_type": "code",
   "execution_count": 9,
   "id": "18ca0fad",
   "metadata": {},
   "outputs": [
    {
     "data": {
      "text/latex": [
       "\\[\\tag{${\\it \\%o}_{8}$}\\mathbf{if}\\;{\\it equal}\\left(p_{1} , 0\\right)\\;\\mathbf{then}\\;0\\;\\mathbf{else}\\;p_{1}\\,\\left({\\it log}_{2}\\left(\\frac{p_{1}}{p_{1}+n_{1}}\\right)-{\\it log}_{2}\\left(\\frac{p_{0}}{p_{0}+n_{0}}\\right)\\right)\\]"
      ],
      "text/plain": [
       "                                                p_1               p_0\n",
       "(%o8) if equal(p_1, 0) then 0 else p_1 (log2(---------) - log2(---------))\n",
       "                                             p_1 + n_1         p_0 + n_0"
      ],
      "text/x-maxima": [
       "if equal(p_1,0) then 0 else p_1*(log2(p_1/(p_1+n_1))-log2(p_0/(p_0+n_0)))"
      ]
     },
     "execution_count": 9,
     "metadata": {},
     "output_type": "execute_result"
    }
   ],
   "source": [
    "foilgain(p_0,n_0,p_1,n_1);"
   ]
  },
  {
   "cell_type": "markdown",
   "id": "f656fcfb",
   "metadata": {},
   "source": [
    "To compute FOIL gain from data:"
   ]
  },
  {
   "cell_type": "code",
   "execution_count": 10,
   "id": "97b27dc8",
   "metadata": {},
   "outputs": [
    {
     "data": {
      "text/latex": [
       "\\[\\tag{${\\it \\%o}_{9}$}\\left[ \\begin{pmatrix}i & X_{1} & X_{2} & Y \\\\ 1 & 1 & 1 & 1 \\\\ 2 & 0 & 0 & 0 \\\\ 3 & 1 & 0 & 1 \\\\ 4 & 0 & 1 & 0 \\\\ 5 & 1 & 0 & 0 \\\\ 6 & 1 & 0 & 0 \\\\ \\end{pmatrix} , \\begin{pmatrix}\\mbox{ Original rule } & \\mbox{ New rule } & {\\it FOILGain} \\\\ \\begin{pmatrix}\\left[ X_{1}=1 \\right]  & \\mbox{ ⇒ } & Y=1 \\\\ \\end{pmatrix} & \\begin{pmatrix}\\left[ X_{1}=1 , X_{2}=1 \\right]  & \\mbox{ ⇒ } & Y=1 \\\\ \\end{pmatrix} & 1 \\\\ \\end{pmatrix} \\right] \\]"
      ],
      "text/plain": [
       "       [ i  X_1  X_2  Y ]\n",
       "       [                ]\n",
       "       [ 1   1    1   1 ]\n",
       "       [                ]\n",
       "       [ 2   0    0   0 ]\n",
       "       [                ]\n",
       "(%o9) [[ 3   1    0   1 ], \n",
       "       [                ]\n",
       "       [ 4   0    1   0 ]\n",
       "       [                ]\n",
       "       [ 5   1    0   0 ]\n",
       "       [                ]\n",
       "       [ 6   1    0   0 ]\n",
       "       [      Original rule                   New rule              FOILGain ]\n",
       "       [                                                                     ]]\n",
       "       [ [ [X_1 = 1]  ⇒  Y = 1 ]  [ [X_1 = 1, X_2 = 1]  ⇒  Y = 1 ]     1     ]"
      ],
      "text/x-maxima": [
       "[matrix([i,X_1,X_2,Y],[1,1,1,1],[2,0,0,0],[3,1,0,1],[4,0,1,0],[5,1,0,0],\n",
       "        [6,1,0,0]),\n",
       " matrix([\"Original rule\",\"New rule\",FOILGain],\n",
       "        [matrix([[X_1 = 1],\"⇒\",Y = 1]),matrix([[X_1 = 1,X_2 = 1],\"⇒\",Y = 1]),\n",
       "         1])]"
      ]
     },
     "execution_count": 10,
     "metadata": {},
     "output_type": "execute_result"
    }
   ],
   "source": [
    "block(\n",
    "    [\n",
    "        fns: ['i, 'X_1, 'X_2, 'Y],\n",
    "        n: 6,\n",
    "        gen: lambda([i], [i, random(2), random(2), random(2)]),\n",
    "        cjts: ['X_1=1, 'X_2=1],\n",
    "        target: 'Y\n",
    "    ],\n",
    "    R: [ar(rest(cjts, -1),target=1), ar(cjts,target=1)],\n",
    "    data: build_data(fns, gen, n),\n",
    "    [data, \n",
    "    build_data_from_list(\n",
    "        [\"Original rule\", \"New rule\", 'FOILGain],\n",
    "        [[R[1], R[2], FOILGain(data, target, cjts)]])]\n",
    ");"
   ]
  },
  {
   "cell_type": "markdown",
   "id": "a5b1e265",
   "metadata": {},
   "source": [
    "`FOILGain(data, target, cjts)` returns the FOIL gain from rule $R'$ to rule $R$ where\n",
    "- $R'$: `rest(cjts,-1)` $\\implies Y=1$\n",
    "- $R$: `cjts` $\\implies Y=1$\n",
    "\n",
    "and `rest(cjts,-1)` is the list of conjuncts in `cjts` except the last one."
   ]
  },
  {
   "cell_type": "markdown",
   "id": "4c82a9a6",
   "metadata": {},
   "source": [
    "### FOIL prune"
   ]
  },
  {
   "cell_type": "markdown",
   "id": "29cef649",
   "metadata": {},
   "source": [
    "FOIL prune can be computed from the number `p` of positives and the number `n` of negatives covered by a rule."
   ]
  },
  {
   "cell_type": "code",
   "execution_count": 11,
   "id": "8d024697",
   "metadata": {},
   "outputs": [
    {
     "data": {
      "text/latex": [
       "\\[\\tag{${\\it \\%o}_{10}$}\\mathbf{if}\\;{\\it equal}\\left(p+n , 0\\right)\\;\\mathbf{then}\\; -\\infty \\;\\mathbf{else}\\;\\frac{p-n}{p+n}\\]"
      ],
      "text/plain": [
       "                                                      p - n\n",
       "(%o10)              if equal(p + n, 0) then minf else -----\n",
       "                                                      p + n"
      ],
      "text/x-maxima": [
       "if equal(p+n,0) then minf else (p-n)/(p+n)"
      ]
     },
     "execution_count": 11,
     "metadata": {},
     "output_type": "execute_result"
    }
   ],
   "source": [
    "foilprune(p,n);"
   ]
  },
  {
   "cell_type": "markdown",
   "id": "ca83df66",
   "metadata": {},
   "source": [
    "To compute FOIL prune from data:"
   ]
  },
  {
   "cell_type": "code",
   "execution_count": 12,
   "id": "bddeab0e",
   "metadata": {},
   "outputs": [
    {
     "data": {
      "text/latex": [
       "\\[\\tag{${\\it \\%o}_{11}$}\\left[ \\begin{pmatrix}i & X_{1} & X_{2} & Y \\\\ 1 & 0 & 0 & 0 \\\\ 2 & 1 & 0 & 0 \\\\ 3 & 1 & 1 & 0 \\\\ 4 & 0 & 0 & 0 \\\\ 5 & 0 & 0 & 1 \\\\ 6 & 1 & 1 & 0 \\\\ \\end{pmatrix} , \\begin{pmatrix}\\mbox{ Rule } & {\\it FOILPrune} \\\\ \\begin{pmatrix}\\left[ X_{1}=1 , X_{2}=1 \\right]  & \\mbox{ ⇒ } & Y=1 \\\\ \\end{pmatrix} & -1 \\\\ \\begin{pmatrix}\\left[ X_{1}=1 \\right]  & \\mbox{ ⇒ } & Y=1 \\\\ \\end{pmatrix} & -1 \\\\ \\end{pmatrix} \\right] \\]"
      ],
      "text/plain": [
       "        [ i  X_1  X_2  Y ]\n",
       "        [                ]\n",
       "        [ 1   0    0   0 ]\n",
       "        [                ]\n",
       "        [ 2   1    0   0 ]  [               Rule                FOILPrune ]\n",
       "        [                ]  [                                             ]\n",
       "(%o11) [[ 3   1    1   0 ], [ [ [X_1 = 1, X_2 = 1]  ⇒  Y = 1 ]     - 1    ]]\n",
       "        [                ]  [                                             ]\n",
       "        [ 4   0    0   0 ]  [     [ [X_1 = 1]  ⇒  Y = 1 ]          - 1    ]\n",
       "        [                ]\n",
       "        [ 5   0    0   1 ]\n",
       "        [                ]\n",
       "        [ 6   1    1   0 ]"
      ],
      "text/x-maxima": [
       "[matrix([i,X_1,X_2,Y],[1,0,0,0],[2,1,0,0],[3,1,1,0],[4,0,0,0],[5,0,0,1],\n",
       "        [6,1,1,0]),\n",
       " matrix([\"Rule\",FOILPrune],[matrix([[X_1 = 1,X_2 = 1],\"⇒\",Y = 1]),-1],\n",
       "        [matrix([[X_1 = 1],\"⇒\",Y = 1]),-1])]"
      ]
     },
     "execution_count": 12,
     "metadata": {},
     "output_type": "execute_result"
    }
   ],
   "source": [
    "block(\n",
    "    [\n",
    "        fns: ['i, 'X_1, 'X_2, 'Y],\n",
    "        n: 6,\n",
    "        gen: lambda([i], [i, random(2), random(2), random(2)]),\n",
    "        cjts: ['X_1=1, 'X_2=1],\n",
    "        target: 'Y,\n",
    "        data\n",
    "    ],\n",
    "    R: [ar(cjts,target=1), ar(rest(cjts, -1),target=1)],\n",
    "    data: build_data(fns, gen, n),\n",
    "    FP: FOILPrune(data, target, cjts),\n",
    "    [data, \n",
    "    build_data_from_list(\n",
    "        [\"Rule\", 'FOILPrune],\n",
    "        makelist([R[i], FP[i]], i, [1,2]))]\n",
    ");"
   ]
  },
  {
   "cell_type": "markdown",
   "id": "687f03e6",
   "metadata": {},
   "source": [
    "It returns a pair consisting of the FOIL prunes for the rules\n",
    "- $R$: `cjts` $\\implies Y=1$\n",
    "- $R'$: `rest(cjts,-1)` $\\implies Y=1$"
   ]
  }
 ],
 "metadata": {
  "kernelspec": {
   "display_name": "Maxima",
   "language": "maxima",
   "name": "maxima"
  },
  "language_info": {
   "codemirror_mode": "maxima",
   "file_extension": ".mac",
   "mimetype": "text/x-maxima",
   "name": "maxima",
   "pygments_lexer": "maxima",
   "version": "5.45post"
  },
  "widgets": {
   "application/vnd.jupyter.widget-state+json": {
    "state": {},
    "version_major": 2,
    "version_minor": 0
   }
  }
 },
 "nbformat": 4,
 "nbformat_minor": 5
}
