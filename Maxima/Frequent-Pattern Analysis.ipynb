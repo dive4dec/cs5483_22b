{
 "cells": [
  {
   "cell_type": "markdown",
   "id": "652d7d6a",
   "metadata": {
    "tags": []
   },
   "source": [
    "# Frequent-Pattern Analysis"
   ]
  },
  {
   "cell_type": "markdown",
   "id": "fa884961",
   "metadata": {
    "tags": [
     "remove-cell"
    ]
   },
   "source": [
    "**CS5483 Data Warehousing and Data Mining**\n",
    "___"
   ]
  },
  {
   "cell_type": "code",
   "execution_count": null,
   "id": "d626d79d",
   "metadata": {
    "tags": []
   },
   "outputs": [],
   "source": [
    "load(\"datamining.mac\")$"
   ]
  },
  {
   "cell_type": "markdown",
   "id": "56e3d15f",
   "metadata": {},
   "source": [
    "## Apriori algorithm"
   ]
  },
  {
   "cell_type": "markdown",
   "id": "71d990d3",
   "metadata": {},
   "source": [
    "### Transactional data"
   ]
  },
  {
   "cell_type": "markdown",
   "id": "1bdc8c8e",
   "metadata": {},
   "source": [
    "A transactional data set is a list of transactions in the form of subsets of items purchased. `all_items(data)` returns the list of all items in a transactional data set `data`."
   ]
  },
  {
   "cell_type": "code",
   "execution_count": null,
   "id": "3c7f8594",
   "metadata": {},
   "outputs": [],
   "source": [
    "block(\n",
    "    [\n",
    "        data: [\n",
    "            {    3,2,1},\n",
    "            {    3,2,1},\n",
    "            {  4,  2,1},\n",
    "            {  4,  2,1},\n",
    "            {5,  3,  1}\n",
    "        ]\n",
    "    ],\n",
    "    all_items(data)\n",
    ");"
   ]
  },
  {
   "cell_type": "markdown",
   "id": "6d7e1c10",
   "metadata": {},
   "source": [
    "### Frequent itemsets"
   ]
  },
  {
   "cell_type": "markdown",
   "id": "e9759ead",
   "metadata": {},
   "source": [
    "The support count of an item set (a set of items) is the number of transactions that contain all items in the item set:"
   ]
  },
  {
   "cell_type": "code",
   "execution_count": null,
   "id": "33ca6343",
   "metadata": {},
   "outputs": [],
   "source": [
    "support_count('data, 'A);"
   ]
  },
  {
   "cell_type": "markdown",
   "id": "b0b8ef9b-1796-40eb-8325-1cdf09fffff2",
   "metadata": {},
   "source": [
    "where $\\chi(p)$ is the indicator function of the predicate $p$, and `subsetp(A, T)` returns true iff `A` is a subset of `T`:"
   ]
  },
  {
   "cell_type": "code",
   "execution_count": null,
   "id": "6ed88500-8f64-42a3-9d29-d18c0f15089a",
   "metadata": {},
   "outputs": [],
   "source": [
    "chi('p);"
   ]
  },
  {
   "cell_type": "code",
   "execution_count": null,
   "id": "de0daa7f-b506-423f-8b4e-3f80da8db072",
   "metadata": {
    "tags": []
   },
   "outputs": [],
   "source": [
    "describe(subsetp)$"
   ]
  },
  {
   "cell_type": "markdown",
   "id": "97e62d23",
   "metadata": {},
   "source": [
    "`support_counts(data, C)` returns the list of `[A,c]` where `A` is an itemset in `C`, and `c` is the support count."
   ]
  },
  {
   "cell_type": "code",
   "execution_count": null,
   "id": "0a60f608",
   "metadata": {},
   "outputs": [],
   "source": [
    "block(\n",
    "    [\n",
    "        data: [\n",
    "            {    3,2,1},\n",
    "            {    3,2,1},\n",
    "            {  4,  2,1},\n",
    "            {  4,  2,1},\n",
    "            {5,  3,  1}\n",
    "        ],\n",
    "        C\n",
    "    ],\n",
    "    C: makelist({i},i,all_items(data)),\n",
    "    support_counts(data, C)\n",
    ");"
   ]
  },
  {
   "cell_type": "markdown",
   "id": "f581507f",
   "metadata": {},
   "source": [
    "`frequent_itemsets(C, min_sup)` filters the list of `[A,c]` to remove itemsets `A` with count `c` strictly below `min_sup`."
   ]
  },
  {
   "cell_type": "code",
   "execution_count": null,
   "id": "45c06d0d",
   "metadata": {},
   "outputs": [],
   "source": [
    "block(\n",
    "    [\n",
    "        data: [\n",
    "            {    3,2,1},\n",
    "            {    3,2,1},\n",
    "            {  4,  2,1},\n",
    "            {  4,  2,1},\n",
    "            {5,  3,  1}\n",
    "        ],\n",
    "        min_sup:2,\n",
    "        C\n",
    "    ],\n",
    "    C: support_counts(data, makelist({i},i,all_items(data))),\n",
    "    frequent_itemsets(C, min_sup)\n",
    ");"
   ]
  },
  {
   "cell_type": "markdown",
   "id": "03d34ad6",
   "metadata": {},
   "source": [
    "### Frequent $1$-itemsets"
   ]
  },
  {
   "cell_type": "markdown",
   "id": "9fd4a5cc",
   "metadata": {},
   "source": [
    "`apriori1(data, min_sup)` implements the apriori algorithm to generate the frequent 1-itemsets of `data` with support counts at least `min_sup`."
   ]
  },
  {
   "cell_type": "code",
   "execution_count": null,
   "id": "58494b93",
   "metadata": {},
   "outputs": [],
   "source": [
    "block(\n",
    "    [\n",
    "        data: [\n",
    "            {    3,2,1},\n",
    "            {    3,2,1},\n",
    "            {  4,  2,1},\n",
    "            {  4,  2,1},\n",
    "            {5,  3,  1}\n",
    "        ],\n",
    "        min_sup:2\n",
    "    ],\n",
    "    apriori1(data, min_sup)\n",
    ");"
   ]
  },
  {
   "cell_type": "markdown",
   "id": "e97b9331",
   "metadata": {},
   "source": [
    "### Frequent $k$-itemsets"
   ]
  },
  {
   "cell_type": "markdown",
   "id": "4411eaaa",
   "metadata": {},
   "source": [
    "Given a transactional data set `data` and a list `L` of frequent $(k-1)$-itemsets with $k>1$, `apriorik(data, L, min_sup)` generates the list of `[A,c]` where `A` is a frequent $k$-itemset of `data` with support count `c` at least `min_sup`."
   ]
  },
  {
   "cell_type": "code",
   "execution_count": null,
   "id": "921f9459",
   "metadata": {},
   "outputs": [],
   "source": [
    "block(\n",
    "    [\n",
    "        data: [\n",
    "            {    3,2,1},\n",
    "            {    3,2,1},\n",
    "            {  4,  2,1},\n",
    "            {  4,  2,1},\n",
    "            {5,  3,  1}\n",
    "        ],\n",
    "        min_sup:2,\n",
    "        L_1\n",
    "    ],\n",
    "    L_1: apriori1(data, min_sup),\n",
    "    L_2: apriorik(data, L_1, min_sup),\n",
    "    L_3: apriorik(data, L_2, min_sup),\n",
    "    map(lambda([k, L], build_data_from_list([sconcat(k,\"-itemset\"), \"count\"], L)), [2, 3], [L_2, L_3])\n",
    ");"
   ]
  },
  {
   "cell_type": "markdown",
   "id": "0982f887",
   "metadata": {},
   "source": [
    "`apriori(data, min_sup)` generates the list of frequent $k$-itemsets for $k$ from $1$ until there are no more frequent itemsets."
   ]
  },
  {
   "cell_type": "code",
   "execution_count": null,
   "id": "e48e81c9",
   "metadata": {},
   "outputs": [],
   "source": [
    "block(\n",
    "    [\n",
    "        data: [\n",
    "            {    3,2,1},\n",
    "            {    3,2,1},\n",
    "            {  4,  2,1},\n",
    "            {  4,  2,1},\n",
    "            {5,  3,  1}\n",
    "        ],\n",
    "        min_sup:2,\n",
    "        L\n",
    "    ],\n",
    "    L:apriori(data, min_sup),\n",
    "    makelist(build_data_from_list([sconcat(length(Lk[1][1]),\"-itemset\"), \"count\"], Lk), Lk, L)\n",
    ");"
   ]
  },
  {
   "cell_type": "markdown",
   "id": "0bf68174",
   "metadata": {},
   "source": [
    "### Join and prune steps"
   ]
  },
  {
   "cell_type": "markdown",
   "id": "35426559",
   "metadata": {},
   "source": [
    "`apriori_join` and `apriori_prune` implement the join and prune steps, respectively:"
   ]
  },
  {
   "cell_type": "code",
   "execution_count": null,
   "id": "1e4b4bb8",
   "metadata": {
    "tags": []
   },
   "outputs": [],
   "source": [
    "block(\n",
    "    [\n",
    "        data: [\n",
    "            {    3,2,1},\n",
    "            {    3,2,1},\n",
    "            {  4,  2,1},\n",
    "            {  4,  2,1},\n",
    "            {5,  3,  1}\n",
    "        ],\n",
    "        min_sup:2,\n",
    "        L_1\n",
    "    ],\n",
    "    L_1: apriori1(data, min_sup),\n",
    "    L_2: apriorik(data, L_1, min_sup),\n",
    "    C:apriori_join(data, L_2),\n",
    "    [C, apriori_prune(data, C, setify(map(first,L_2)))]\n",
    ");"
   ]
  },
  {
   "cell_type": "markdown",
   "id": "354c2df2",
   "metadata": {},
   "source": [
    "## Association rule mining"
   ]
  },
  {
   "cell_type": "markdown",
   "id": "708ad4cd",
   "metadata": {},
   "source": [
    "### Association rules"
   ]
  },
  {
   "cell_type": "markdown",
   "id": "269f03d9",
   "metadata": {},
   "source": [
    "An association rule can be created as follows:"
   ]
  },
  {
   "cell_type": "code",
   "execution_count": null,
   "id": "87cc3afe",
   "metadata": {},
   "outputs": [],
   "source": [
    "block(\n",
    "    [\n",
    "        R:ar('A,'B)\n",
    "    ],\n",
    "    build_data_from_list(\n",
    "        [\"rule\", \"antecedent\", \"consequence\"],\n",
    "        [[R, ar_A(R), ar_B(R)]]\n",
    "    )\n",
    ");"
   ]
  },
  {
   "cell_type": "markdown",
   "id": "ca37e11a",
   "metadata": {},
   "source": [
    "- `ar(A,B)` creates an association rule `(A ⇒ B)`.\n",
    "- `ar_A(R)` returns the itemset associated with the antecedent of `R`.\n",
    "- `ar_B(R)` returns the itemset associated with the consequence of `R`."
   ]
  },
  {
   "cell_type": "markdown",
   "id": "4e77d6bf",
   "metadata": {},
   "source": [
    "### Rule qualities"
   ]
  },
  {
   "cell_type": "markdown",
   "id": "3e8bac7d",
   "metadata": {},
   "source": [
    "The following computes various qualities of an association rule from transaction data:"
   ]
  },
  {
   "cell_type": "code",
   "execution_count": null,
   "id": "7130421f",
   "metadata": {},
   "outputs": [],
   "source": [
    "block(\n",
    "    [\n",
    "        data: [\n",
    "            {    3,2,1},\n",
    "            {    3,2,1},\n",
    "            {  4,  2,1},\n",
    "            {  4,  2,1},\n",
    "            {5,  3,  1}\n",
    "        ],\n",
    "        min_sup:2,\n",
    "        R: ar({1,2},{3})\n",
    "    ],\n",
    "    [coverage(data, R), support(data, R), confidence(data, R), prior(data, R), lift(data, R)] \n",
    ");"
   ]
  },
  {
   "cell_type": "markdown",
   "id": "04e3d266",
   "metadata": {},
   "source": [
    "### Support-confidence framework"
   ]
  },
  {
   "cell_type": "markdown",
   "id": "ac85922f",
   "metadata": {},
   "source": [
    "Association rules can be generated using the support-confidence framework as follows:"
   ]
  },
  {
   "cell_type": "code",
   "execution_count": null,
   "id": "ef1e757b",
   "metadata": {},
   "outputs": [],
   "source": [
    "block(\n",
    "    [\n",
    "        data: [\n",
    "            {    3,2,1},\n",
    "            {    3,2,1},\n",
    "            {  4,  2,1},\n",
    "            {  4,  2,1},\n",
    "            {5,  3,  1}\n",
    "        ],\n",
    "        c:6/10, s:4/10\n",
    "    ],\n",
    "    lst:support_confidence_framework(data, s, c),\n",
    "    build_data_from_list(\n",
    "        [\"rule\", \"coverage\", \"support\", \"confidence\", \"prior\", \"lift\"],\n",
    "        sort(\n",
    "            lst, \n",
    "            lambda([a,b], a[4]>b[4] or (a[4]=b[4] and a[6]>b[6])) /* descending order in (confidence, lift) */\n",
    "        )\n",
    "    )\n",
    ");"
   ]
  },
  {
   "cell_type": "markdown",
   "id": "b05d3bfc",
   "metadata": {},
   "source": [
    "## Data cube computation"
   ]
  },
  {
   "cell_type": "markdown",
   "id": "2bcaee81",
   "metadata": {},
   "source": [
    "### Bottom-up construction"
   ]
  },
  {
   "cell_type": "markdown",
   "id": "d4f4a258",
   "metadata": {},
   "source": [
    "`BUC(data, dims, fact, min_val)` implements the bottom-up construction of the iceberg cube where\n",
    "- `data` is the base cuboid,\n",
    "- `dims` is the names of the dimensions,\n",
    "- `fact` is the name of the fact, and \n",
    "- `min_val` being the minimum value of fact required by the iceberg condition."
   ]
  },
  {
   "cell_type": "code",
   "execution_count": null,
   "id": "19df6e5b",
   "metadata": {},
   "outputs": [],
   "source": [
    "block(\n",
    "    [\n",
    "        fns: ['A, 'B, 'C, \"fact\"],\n",
    "        lst: [\n",
    "            ['a_2, 'b_2, 'c_2, 1],\n",
    "            ['a_1, 'b_2, 'c_1, 1],\n",
    "            ['a_2, 'b_2, 'c_1, 1],\n",
    "            ['a_1, 'b_1, 'c_1, 1]\n",
    "        ],\n",
    "        dims, fact, data\n",
    "    ],\n",
    "    dims: rest(fns,-1),\n",
    "    fact: last(fns),\n",
    "    data: build_data_from_list(fns, lst),\n",
    "    BUC(data, dims, fact, 2)\n",
    ");"
   ]
  }
 ],
 "metadata": {
  "kernelspec": {
   "display_name": "Maxima",
   "language": "maxima",
   "name": "maxima"
  },
  "language_info": {
   "codemirror_mode": "maxima",
   "file_extension": ".mac",
   "mimetype": "text/x-maxima",
   "name": "maxima",
   "pygments_lexer": "maxima",
   "version": "5.45post"
  },
  "widgets": {
   "application/vnd.jupyter.widget-state+json": {
    "state": {},
    "version_major": 2,
    "version_minor": 0
   }
  }
 },
 "nbformat": 4,
 "nbformat_minor": 5
}
